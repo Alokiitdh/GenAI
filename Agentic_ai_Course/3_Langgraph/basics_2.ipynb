{
 "cells": [
  {
   "cell_type": "code",
   "execution_count": 1,
   "id": "db3895dc",
   "metadata": {},
   "outputs": [],
   "source": [
    "from typing import Annotated, TypedDict, List, Dict, Any, Optional\n",
    "from langchain_core.messages import AIMessage, HumanMessage, SystemMessage\n",
    "from langchain_openai import ChatOpenAI\n",
    "from langchain_community.agent_toolkits import PlayWrightBrowserToolkit\n",
    "from langchain_community.tools.playwright.utils import create_async_playwright_browser\n",
    "from langgraph.graph import StateGraph, START, END\n",
    "from langgraph.checkpoint.memory import MemorySaver\n",
    "from langgraph.prebuilt import ToolNode, tools_condition\n",
    "from langgraph.graph.message import add_messages\n",
    "from pydantic import BaseModel, Field\n",
    "from IPython.display import Image, display\n",
    "import gradio as gr\n",
    "import uuid\n",
    "from dotenv import load_dotenv\n",
    "from langchain_community.tools import TavilySearchResults"
   ]
  },
  {
   "cell_type": "code",
   "execution_count": 2,
   "id": "51756bb7",
   "metadata": {},
   "outputs": [
    {
     "data": {
      "text/plain": [
       "True"
      ]
     },
     "execution_count": 2,
     "metadata": {},
     "output_type": "execute_result"
    }
   ],
   "source": [
    "load_dotenv(override=True)"
   ]
  },
  {
   "cell_type": "code",
   "execution_count": 21,
   "id": "e9e9399e",
   "metadata": {},
   "outputs": [],
   "source": [
    "tool = TavilySearchResults(max_results=5)"
   ]
  },
  {
   "cell_type": "code",
   "execution_count": 3,
   "id": "5940c9e6",
   "metadata": {},
   "outputs": [],
   "source": [
    "class State(TypedDict):\n",
    "    messages: Annotated[list, add_messages]\n"
   ]
  },
  {
   "cell_type": "code",
   "execution_count": 22,
   "id": "3edb4e7c",
   "metadata": {},
   "outputs": [],
   "source": [
    "llm = ChatOpenAI(\n",
    "    model = \"gpt-4o-mini\",\n",
    "    temperature = 0.2\n",
    ")\n",
    "\n",
    "llm_with_tool = llm.bind_tools([tool])"
   ]
  },
  {
   "cell_type": "code",
   "execution_count": 23,
   "id": "82276a5a",
   "metadata": {},
   "outputs": [],
   "source": [
    "def chatnode(state: State):\n",
    "    return {\"messages\": [llm_with_tool.invoke(state[\"messages\"])]}"
   ]
  },
  {
   "cell_type": "markdown",
   "id": "e162929a",
   "metadata": {},
   "source": [
    " `tools_condition`\n",
    "\n",
    "---\n",
    "\n",
    "### **What this function does**\n",
    "\n",
    "`tools_condition` is a **decision-making helper** in LangGraph-based agents that follow the **ReAct** (Reason + Act) pattern.\n",
    "\n",
    "It:\n",
    "\n",
    "1. Looks at the **latest AI message** in your current conversation state.\n",
    "2. Checks: **Does this AI message contain a tool call?**\n",
    "\n",
    "   * If **yes** → it tells the workflow to go to the `\"tools\"` node (execute tools).\n",
    "   * If **no** → it tells the workflow to go to `\"__end__\"` (stop).\n",
    "\n",
    "This is how your agent decides **“Should I run a tool or finish the conversation?”**\n",
    "\n",
    "---\n",
    "\n",
    "### **Why it’s useful**\n",
    "\n",
    "* In LangGraph, workflows often have **conditional edges** that route execution.\n",
    "* You don’t want to manually write this “check latest message for tool calls” logic every time.\n",
    "* This function **centralizes** that check and works for **multiple state formats**:\n",
    "\n",
    "  * **List of messages** (`[msg1, msg2, ...]`)\n",
    "  * **Dictionary** with a `messages` key (`{\"messages\": [...]}`)\n",
    "  * **Pydantic model** with a `.messages` attribute\n",
    "\n",
    "---\n",
    "\n"
   ]
  },
  {
   "cell_type": "code",
   "execution_count": 24,
   "id": "c91dde5e",
   "metadata": {},
   "outputs": [],
   "source": [
    "graph_builder = StateGraph(State)\n",
    "\n",
    "graph_builder.add_node(\"Chatnode\", chatnode)\n",
    "graph_builder.add_node(\"tools\", ToolNode([tool]))\n",
    "\n",
    "graph_builder.add_edge(START, \"Chatnode\")\n",
    "graph_builder.add_conditional_edges(\"Chatnode\",\n",
    "                                    tools_condition,\n",
    "                                    {\"tools\": \"tools\",\n",
    "                                     END:END})\n",
    "graph_builder.add_edge(\"tools\",\"Chatnode\")\n",
    "\n",
    "memory = MemorySaver()\n",
    "\n",
    "graph = graph_builder.compile(checkpointer = memory)"
   ]
  },
  {
   "cell_type": "code",
   "execution_count": null,
   "id": "0f92ccb0",
   "metadata": {},
   "outputs": [
    {
     "name": "stdout",
     "output_type": "stream",
     "text": [
      "Welcome to the Chatbot. If you want to exit then type 'exit'.\n",
      "AI: As of 2023, the Gross Domestic Product (GDP) of India is approximately **$3.568 trillion**. This represents a growth of about **6.38%** from the previous year, 2022, when the GDP was around **$3.353 trillion**. \n",
      "\n",
      "Additionally, the GDP per capita for India in 2023 is estimated to be **$2,480.79**.\n",
      "\n",
      "For more detailed information, you can refer to the following sources:\n",
      "- [Macrotrends - India GDP](https://www.macrotrends.net/global-metrics/countries/ind/india/gdp-gross-domestic-product)\n",
      "- [Statista - GDP of India](https://www.statista.com/statistics/263771/gross-domestic-product-gdp-in-india/)\n",
      "AI: In 2025, India's GDP is projected to be approximately **$4.187 trillion**. This reflects a continued growth trend, with the economy expected to grow at a rate of around **6.5%** for the fiscal year 2024-2025.\n",
      "\n",
      "For more detailed insights, you can refer to the following sources:\n",
      "- [Trading Economics - India GDP Growth](https://tradingeconomics.com/india/full-year-gdp-growth)\n",
      "- [Economic Times - India's Economic Outlook](https://m.economictimes.com/news/economy/indicators/india-to-remain-fastest-growing-economy-in-2025-2026-while-global-growth-to-decline-morgan-stanley/articleshow/122172107.cms)\n",
      "see yaa.\n"
     ]
    }
   ],
   "source": [
    "config = {\"configurable\": {\"thread_id\": \"1\"}}\n",
    "print(\"Welcome to the Chatbot. If you want to exit then type 'exit'.\")\n",
    "while True:\n",
    "\n",
    "    user_input = input(\"Human: \")\n",
    "    if user_input ==\"exit\":\n",
    "        print(\"see yaa.\")\n",
    "        break\n",
    "    response = graph.invoke({\"messages\": [{\n",
    "                                            \"role\": \"user\",\n",
    "                                           \"content\":user_input}]},\n",
    "                                           config=config)\n",
    "    print(\"AI:\",response[\"messages\"][-1].content)\n",
    "    print(\"__________________________________________________________________\")"
   ]
  }
 ],
 "metadata": {
  "kernelspec": {
   "display_name": "Python 3",
   "language": "python",
   "name": "python3"
  },
  "language_info": {
   "codemirror_mode": {
    "name": "ipython",
    "version": 3
   },
   "file_extension": ".py",
   "mimetype": "text/x-python",
   "name": "python",
   "nbconvert_exporter": "python",
   "pygments_lexer": "ipython3",
   "version": "3.13.5"
  }
 },
 "nbformat": 4,
 "nbformat_minor": 5
}

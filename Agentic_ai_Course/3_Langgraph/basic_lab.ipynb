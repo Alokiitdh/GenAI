{
 "cells": [
  {
   "cell_type": "code",
   "execution_count": 18,
   "id": "b5783027",
   "metadata": {},
   "outputs": [],
   "source": [
    "from typing import Annotated\n",
    "from langgraph.graph import StateGraph, START\n",
    "from langgraph.graph.message import add_messages\n",
    "from langchain_core.messages import HumanMessage\n",
    "from dotenv import load_dotenv\n",
    "from IPython.display import Image, display\n",
    "import gradio as gr\n",
    "from langgraph.prebuilt import ToolNode, tools_condition\n",
    "import requests\n",
    "import os\n",
    "from langchain_openai import ChatOpenAI\n",
    "from typing import TypedDict\n",
    "import json\n"
   ]
  },
  {
   "cell_type": "code",
   "execution_count": 20,
   "id": "a61cbb3f",
   "metadata": {},
   "outputs": [
    {
     "data": {
      "text/plain": [
       "True"
      ]
     },
     "execution_count": 20,
     "metadata": {},
     "output_type": "execute_result"
    }
   ],
   "source": [
    "load_dotenv()"
   ]
  },
  {
   "cell_type": "markdown",
   "id": "329d423d",
   "metadata": {},
   "source": [
    "## Tool :\n",
    "Used to get the desired output in tool call , it is also like geeting a structured output using the tool , theen pass the information to other block"
   ]
  },
  {
   "cell_type": "code",
   "execution_count": 3,
   "id": "19782782",
   "metadata": {},
   "outputs": [],
   "source": [
    "# Tool for my system\n",
    "class city_info(TypedDict):\n",
    "    \"\"\"Search for the country information\"\"\"\n",
    "    country_name: str\n",
    "    country_capital: str\n",
    "    currancy: str\n",
    "    GDP: str\n",
    "\n",
    "    "
   ]
  },
  {
   "cell_type": "code",
   "execution_count": 21,
   "id": "b518721d",
   "metadata": {},
   "outputs": [],
   "source": [
    "llm = ChatOpenAI(\n",
    "    model = \"gpt-4o-mini\",\n",
    "    temperature = 0.0,\n",
    ")"
   ]
  },
  {
   "cell_type": "code",
   "execution_count": 5,
   "id": "2cdef594",
   "metadata": {},
   "outputs": [],
   "source": [
    "llm_with_tools = llm.bind_tools(\n",
    "    tools=[city_info]\n",
    ")"
   ]
  },
  {
   "cell_type": "code",
   "execution_count": 6,
   "id": "a28d8a86",
   "metadata": {},
   "outputs": [],
   "source": [
    "response = llm_with_tools.invoke([HumanMessage(content=\"India\")])"
   ]
  },
  {
   "cell_type": "code",
   "execution_count": 7,
   "id": "a5dea306",
   "metadata": {},
   "outputs": [
    {
     "name": "stdout",
     "output_type": "stream",
     "text": [
      "content='' additional_kwargs={'tool_calls': [{'id': 'call_1dxnoVHjp4Gli9iDTfcxV51i', 'function': {'arguments': '{\"country_name\":\"India\",\"country_capital\":\"New Delhi\",\"currancy\":\"Indian Rupee\",\"GDP\":\"3.73 trillion USD\"}', 'name': 'city_info'}, 'type': 'function'}], 'refusal': None} response_metadata={'token_usage': {'completion_tokens': 37, 'prompt_tokens': 60, 'total_tokens': 97, 'completion_tokens_details': {'accepted_prediction_tokens': 0, 'audio_tokens': 0, 'reasoning_tokens': 0, 'rejected_prediction_tokens': 0}, 'prompt_tokens_details': {'audio_tokens': 0, 'cached_tokens': 0}}, 'model_name': 'gpt-4o-mini-2024-07-18', 'system_fingerprint': 'fp_34a54ae93c', 'id': 'chatcmpl-C1qZUUKZeP1yDkr6B9cC7Spvr9zvA', 'service_tier': 'default', 'finish_reason': 'tool_calls', 'logprobs': None} id='run--019a4085-708f-4fd7-b2e7-41578ee93841-0' tool_calls=[{'name': 'city_info', 'args': {'country_name': 'India', 'country_capital': 'New Delhi', 'currancy': 'Indian Rupee', 'GDP': '3.73 trillion USD'}, 'id': 'call_1dxnoVHjp4Gli9iDTfcxV51i', 'type': 'tool_call'}] usage_metadata={'input_tokens': 60, 'output_tokens': 37, 'total_tokens': 97, 'input_token_details': {'audio': 0, 'cache_read': 0}, 'output_token_details': {'audio': 0, 'reasoning': 0}}\n"
     ]
    }
   ],
   "source": [
    "print(response)"
   ]
  },
  {
   "cell_type": "code",
   "execution_count": 8,
   "id": "2b076eef",
   "metadata": {},
   "outputs": [
    {
     "name": "stdout",
     "output_type": "stream",
     "text": [
      "{\"country_name\":\"India\",\"country_capital\":\"New Delhi\",\"currancy\":\"Indian Rupee\",\"GDP\":\"3.73 trillion USD\"}\n"
     ]
    }
   ],
   "source": [
    "print(response.additional_kwargs['tool_calls'][0]['function']['arguments'])"
   ]
  },
  {
   "cell_type": "code",
   "execution_count": 9,
   "id": "a6c1aba0",
   "metadata": {},
   "outputs": [
    {
     "name": "stdout",
     "output_type": "stream",
     "text": [
      "{'country_name': 'India', 'country_capital': 'New Delhi', 'currancy': 'Indian Rupee', 'GDP': '3.73 trillion USD'}\n"
     ]
    }
   ],
   "source": [
    "info = response.additional_kwargs['tool_calls'][0]['function']['arguments']\n",
    "final_info = json.loads(info)\n",
    "print(final_info)"
   ]
  },
  {
   "cell_type": "code",
   "execution_count": 10,
   "id": "8a9cd5ff",
   "metadata": {},
   "outputs": [],
   "source": [
    "response =llm.invoke(\"what is the capital of India?\")"
   ]
  },
  {
   "cell_type": "code",
   "execution_count": 11,
   "id": "55d71e5d",
   "metadata": {},
   "outputs": [
    {
     "name": "stdout",
     "output_type": "stream",
     "text": [
      "content='The capital of India is New Delhi.' additional_kwargs={'refusal': None} response_metadata={'token_usage': {'completion_tokens': 8, 'prompt_tokens': 14, 'total_tokens': 22, 'completion_tokens_details': {'accepted_prediction_tokens': 0, 'audio_tokens': 0, 'reasoning_tokens': 0, 'rejected_prediction_tokens': 0}, 'prompt_tokens_details': {'audio_tokens': 0, 'cached_tokens': 0}}, 'model_name': 'gpt-4o-mini-2024-07-18', 'system_fingerprint': 'fp_62a23a81ef', 'id': 'chatcmpl-C1qZWAHDMTm2nDaD0SYAcoLzvH8Si', 'service_tier': 'default', 'finish_reason': 'stop', 'logprobs': None} id='run--74b5765c-cfe8-4a5a-8127-48bf06eda157-0' usage_metadata={'input_tokens': 14, 'output_tokens': 8, 'total_tokens': 22, 'input_token_details': {'audio': 0, 'cache_read': 0}, 'output_token_details': {'audio': 0, 'reasoning': 0}}\n"
     ]
    }
   ],
   "source": [
    "print(response)"
   ]
  },
  {
   "cell_type": "code",
   "execution_count": 12,
   "id": "0aea7b24",
   "metadata": {},
   "outputs": [
    {
     "name": "stdout",
     "output_type": "stream",
     "text": [
      "The capital of India is New Delhi.\n"
     ]
    }
   ],
   "source": [
    "print(response.content)\n"
   ]
  },
  {
   "cell_type": "markdown",
   "id": "3aabf52a",
   "metadata": {},
   "source": [
    "## Structured output:\n",
    "We will use pydentic to get the structured output\n"
   ]
  },
  {
   "cell_type": "code",
   "execution_count": 13,
   "id": "141cc39b",
   "metadata": {},
   "outputs": [],
   "source": [
    "from pydantic import BaseModel, Field"
   ]
  },
  {
   "cell_type": "code",
   "execution_count": 14,
   "id": "e2220419",
   "metadata": {},
   "outputs": [],
   "source": [
    "class student(BaseModel):\n",
    "    name: str\n",
    "    age: int\n",
    "    city: str\n",
    "    IIT_name: str"
   ]
  },
  {
   "cell_type": "code",
   "execution_count": 15,
   "id": "9be01ea8",
   "metadata": {},
   "outputs": [],
   "source": [
    "message = HumanMessage(\n",
    "    content= \"My name is alok and i am 27 years old, i done my Mtech from IIt Dharwad Karnataka. My birthplace is Chirawa.\"\n",
    ")"
   ]
  },
  {
   "cell_type": "code",
   "execution_count": 16,
   "id": "791a3888",
   "metadata": {},
   "outputs": [],
   "source": [
    "llm_out = llm.with_structured_output(student).invoke([message])"
   ]
  },
  {
   "cell_type": "code",
   "execution_count": 17,
   "id": "790be23a",
   "metadata": {},
   "outputs": [
    {
     "name": "stdout",
     "output_type": "stream",
     "text": [
      "name='Alok' age=27 city='Chirawa' IIT_name='IIT Dharwad'\n"
     ]
    }
   ],
   "source": [
    "print(llm_out)"
   ]
  },
  {
   "cell_type": "markdown",
   "id": "85cb6516",
   "metadata": {},
   "source": [
    "## StateGraph\n",
    "For building the stategraph, we need to define teh state first.\n",
    "State is basically an immuateble time machine thing. It will passed to the each node and updated . The satte will contains all the pass updates . It means that it will not merge with the older messages"
   ]
  },
  {
   "cell_type": "code",
   "execution_count": 40,
   "id": "f993d585",
   "metadata": {},
   "outputs": [],
   "source": [
    "from typing import Annotated\n",
    "from typing_extensions import TypedDict\n",
    "\n",
    "from langgraph.graph import StateGraph, START, END\n",
    "from langgraph.graph.message import add_messages\n",
    "from langgraph.checkpoint.memory import MemorySaver\n",
    "\n",
    "memory = MemorySaver()"
   ]
  },
  {
   "cell_type": "code",
   "execution_count": 41,
   "id": "2c3db76c",
   "metadata": {},
   "outputs": [],
   "source": [
    "\n",
    "# Define the state\n",
    "\n",
    "class State(TypedDict):\n",
    "    messages: Annotated[list, add_messages]\n"
   ]
  },
  {
   "cell_type": "code",
   "execution_count": 42,
   "id": "daeebda4",
   "metadata": {},
   "outputs": [],
   "source": [
    "graph_builder = StateGraph(State)"
   ]
  },
  {
   "cell_type": "code",
   "execution_count": 43,
   "id": "e72430fe",
   "metadata": {},
   "outputs": [],
   "source": [
    "# Lets create a node\n",
    "def ChatBot(Old_state:State):\n",
    "    return {\"messages\": [llm.invoke(Old_state[\"messages\"])]}\n",
    "\n"
   ]
  },
  {
   "cell_type": "code",
   "execution_count": 44,
   "id": "24fcf940",
   "metadata": {},
   "outputs": [],
   "source": [
    "# Node Addition\n",
    "graph_builder.add_node(\"ChatBot\", ChatBot)\n",
    "# Edge Addition\n",
    "graph_builder.add_edge(START, \"ChatBot\")\n",
    "graph_builder.add_edge(\"ChatBot\", END)\n",
    "\n",
    "# Compile the Graph\n",
    "graph = graph_builder.compile(checkpointer=memory)"
   ]
  },
  {
   "cell_type": "code",
   "execution_count": 45,
   "id": "3d65aa63",
   "metadata": {},
   "outputs": [
    {
     "data": {
      "image/png": "[encoded data removed]",
      "text/plain": [
       "<IPython.core.display.Image object>"
      ]
     },
     "metadata": {},
     "output_type": "display_data"
    }
   ],
   "source": [
    "from IPython.display import Image, display\n",
    "\n",
    "try:\n",
    "    display(Image(graph.get_graph().draw_mermaid_png()))\n",
    "except Exception:\n",
    "    # This requires some extra dependencies and is optional\n",
    "    pass"
   ]
  },
  {
   "cell_type": "code",
   "execution_count": 47,
   "id": "8324163b",
   "metadata": {},
   "outputs": [
    {
     "name": "stdout",
     "output_type": "stream",
     "text": [
      "* Running on local URL:  http://127.0.0.1:7864\n",
      "* To create a public link, set `share=True` in `launch()`.\n"
     ]
    },
    {
     "data": {
      "text/html": [
       "<div><iframe src=\"http://127.0.0.1:7864/\" width=\"100%\" height=\"500\" allow=\"autoplay; camera; microphone; clipboard-read; clipboard-write;\" frameborder=\"0\" allowfullscreen></iframe></div>"
      ],
      "text/plain": [
       "<IPython.core.display.HTML object>"
      ]
     },
     "metadata": {},
     "output_type": "display_data"
    },
    {
     "data": {
      "text/plain": []
     },
     "execution_count": 47,
     "metadata": {},
     "output_type": "execute_result"
    }
   ],
   "source": [
    "import gradio as gr\n",
    "config = {\"configurable\": {\"thread_id\": \"1\"}}\n",
    "def chat(user_input: str, history):\n",
    "    result = graph.invoke({\"messages\": [{\"role\": \"user\", \"content\": user_input}]}, config= config)\n",
    "    return result[\"messages\"][-1].content\n",
    "\n",
    "\n",
    "gr.ChatInterface(chat, type=\"messages\").launch()"
   ]
  },
  {
   "cell_type": "code",
   "execution_count": 48,
   "id": "2335212c",
   "metadata": {},
   "outputs": [
    {
     "data": {
      "text/plain": [
       "StateSnapshot(values={'messages': [HumanMessage(content='Hi my name is alok', additional_kwargs={}, response_metadata={}, id='2585b561-d565-46ca-9f14-8deb8e7cb6ad'), AIMessage(content='Hi Alok! How can I assist you today?', additional_kwargs={'refusal': None}, response_metadata={'token_usage': {'completion_tokens': 11, 'prompt_tokens': 13, 'total_tokens': 24, 'completion_tokens_details': {'accepted_prediction_tokens': 0, 'audio_tokens': 0, 'reasoning_tokens': 0, 'rejected_prediction_tokens': 0}, 'prompt_tokens_details': {'audio_tokens': 0, 'cached_tokens': 0}}, 'model_name': 'gpt-4o-mini-2024-07-18', 'system_fingerprint': 'fp_34a54ae93c', 'id': 'chatcmpl-C1sJ69gCU31BXl3s9MZrMvHzuVi1B', 'service_tier': 'default', 'finish_reason': 'stop', 'logprobs': None}, id='run--898a6105-3a1a-42e5-9023-2f0e6f5b2c4d-0', usage_metadata={'input_tokens': 13, 'output_tokens': 11, 'total_tokens': 24, 'input_token_details': {'audio': 0, 'cache_read': 0}, 'output_token_details': {'audio': 0, 'reasoning': 0}}), HumanMessage(content='whats my anme ?', additional_kwargs={}, response_metadata={}, id='43f114a1-e13d-4875-9a8a-5cbd67b2ec99'), AIMessage(content='Your name is Alok. How can I help you today?', additional_kwargs={'refusal': None}, response_metadata={'token_usage': {'completion_tokens': 13, 'prompt_tokens': 38, 'total_tokens': 51, 'completion_tokens_details': {'accepted_prediction_tokens': 0, 'audio_tokens': 0, 'reasoning_tokens': 0, 'rejected_prediction_tokens': 0}, 'prompt_tokens_details': {'audio_tokens': 0, 'cached_tokens': 0}}, 'model_name': 'gpt-4o-mini-2024-07-18', 'system_fingerprint': 'fp_34a54ae93c', 'id': 'chatcmpl-C1sJCahfIEXu6Nu8q8A2Mwa7cvLjD', 'service_tier': 'default', 'finish_reason': 'stop', 'logprobs': None}, id='run--c33afc0c-598c-47ad-bf87-f23e87ed9553-0', usage_metadata={'input_tokens': 38, 'output_tokens': 13, 'total_tokens': 51, 'input_token_details': {'audio': 0, 'cache_read': 0}, 'output_token_details': {'audio': 0, 'reasoning': 0}}), HumanMessage(content='I am from bikaner , Rajasthan and i love Kesar khurmani , i done my  Mtech from IIT Dharwad and i am working as an ai intern at Tipstat.', additional_kwargs={}, response_metadata={}, id='2babaf69-d9de-4498-9b7e-eb56c63ad9ec'), AIMessage(content=\"That's great to hear, Alok! Bikaner is known for its rich culture and delicious food, and Kesar khurmani is definitely a treat. Congratulations on completing your M.Tech from IIT Dharwad! Working as an AI intern at Tipstat sounds exciting. What kind of projects are you working on there?\", additional_kwargs={'refusal': None}, response_metadata={'token_usage': {'completion_tokens': 64, 'prompt_tokens': 98, 'total_tokens': 162, 'completion_tokens_details': {'accepted_prediction_tokens': 0, 'audio_tokens': 0, 'reasoning_tokens': 0, 'rejected_prediction_tokens': 0}, 'prompt_tokens_details': {'audio_tokens': 0, 'cached_tokens': 0}}, 'model_name': 'gpt-4o-mini-2024-07-18', 'system_fingerprint': 'fp_62a23a81ef', 'id': 'chatcmpl-C1sJoWz0fKySj5b2Nwi4SZ2iSGfoy', 'service_tier': 'default', 'finish_reason': 'stop', 'logprobs': None}, id='run--9eaeab26-9f36-47d3-bedc-2d1e7da02e9d-0', usage_metadata={'input_tokens': 98, 'output_tokens': 64, 'total_tokens': 162, 'input_token_details': {'audio': 0, 'cache_read': 0}, 'output_token_details': {'audio': 0, 'reasoning': 0}}), HumanMessage(content='tell me about alok in bullet points', additional_kwargs={}, response_metadata={}, id='5801f893-a083-491e-82e9-d0f50fc0970d'), AIMessage(content=\"Sure! Here’s a summary about you in bullet points:\\n\\n- **Name:** Alok\\n- **Location:** Bikaner, Rajasthan\\n- **Favorite Food:** Kesar khurmani\\n- **Education:** Completed M.Tech from IIT Dharwad\\n- **Current Position:** AI intern at Tipstat\\n\\nIf there's anything else you'd like to add or modify, let me know!\", additional_kwargs={'refusal': None}, response_metadata={'token_usage': {'completion_tokens': 78, 'prompt_tokens': 178, 'total_tokens': 256, 'completion_tokens_details': {'accepted_prediction_tokens': 0, 'audio_tokens': 0, 'reasoning_tokens': 0, 'rejected_prediction_tokens': 0}, 'prompt_tokens_details': {'audio_tokens': 0, 'cached_tokens': 0}}, 'model_name': 'gpt-4o-mini-2024-07-18', 'system_fingerprint': 'fp_34a54ae93c', 'id': 'chatcmpl-C1sK03DLOTqL7ajYdPqnUoV9iNYYR', 'service_tier': 'default', 'finish_reason': 'stop', 'logprobs': None}, id='run--e1516f05-174b-4766-a183-fac81d82a635-0', usage_metadata={'input_tokens': 178, 'output_tokens': 78, 'total_tokens': 256, 'input_token_details': {'audio': 0, 'cache_read': 0}, 'output_token_details': {'audio': 0, 'reasoning': 0}}), HumanMessage(content='great', additional_kwargs={}, response_metadata={}, id='3215a257-6a09-400f-a0ac-2487516a6b4a'), AIMessage(content=\"I'm glad you liked it! If you have any more questions or if there's anything else you'd like to share or discuss, feel free to let me know!\", additional_kwargs={'refusal': None}, response_metadata={'token_usage': {'completion_tokens': 31, 'prompt_tokens': 265, 'total_tokens': 296, 'completion_tokens_details': {'accepted_prediction_tokens': 0, 'audio_tokens': 0, 'reasoning_tokens': 0, 'rejected_prediction_tokens': 0}, 'prompt_tokens_details': {'audio_tokens': 0, 'cached_tokens': 0}}, 'model_name': 'gpt-4o-mini-2024-07-18', 'system_fingerprint': 'fp_34a54ae93c', 'id': 'chatcmpl-C1sKFj5V05LMlQepzEn1dl4k8gScK', 'service_tier': 'default', 'finish_reason': 'stop', 'logprobs': None}, id='run--4ba38a08-3a63-499d-bd5f-65e48072332d-0', usage_metadata={'input_tokens': 265, 'output_tokens': 31, 'total_tokens': 296, 'input_token_details': {'audio': 0, 'cache_read': 0}, 'output_token_details': {'audio': 0, 'reasoning': 0}})]}, next=(), config={'configurable': {'thread_id': '1', 'checkpoint_ns': '', 'checkpoint_id': '1f0737ad-a25e-692f-800d-eacea8c9f838'}}, metadata={'source': 'loop', 'step': 13, 'parents': {}, 'thread_id': '1'}, created_at='2025-08-07T10:39:53.160720+00:00', parent_config={'configurable': {'thread_id': '1', 'checkpoint_ns': '', 'checkpoint_id': '1f0737ad-9527-6ea0-800c-2946dec57b2d'}}, tasks=(), interrupts=())"
      ]
     },
     "execution_count": 48,
     "metadata": {},
     "output_type": "execute_result"
    }
   ],
   "source": [
    "graph.get_state(config)"
   ]
  },
  {
   "cell_type": "code",
   "execution_count": 49,
   "id": "9a4ac77f",
   "metadata": {},
   "outputs": [
    {
     "data": {
      "text/plain": [
       "[StateSnapshot(values={'messages': [HumanMessage(content='Hi my name is alok', additional_kwargs={}, response_metadata={}, id='2585b561-d565-46ca-9f14-8deb8e7cb6ad'), AIMessage(content='Hi Alok! How can I assist you today?', additional_kwargs={'refusal': None}, response_metadata={'token_usage': {'completion_tokens': 11, 'prompt_tokens': 13, 'total_tokens': 24, 'completion_tokens_details': {'accepted_prediction_tokens': 0, 'audio_tokens': 0, 'reasoning_tokens': 0, 'rejected_prediction_tokens': 0}, 'prompt_tokens_details': {'audio_tokens': 0, 'cached_tokens': 0}}, 'model_name': 'gpt-4o-mini-2024-07-18', 'system_fingerprint': 'fp_34a54ae93c', 'id': 'chatcmpl-C1sJ69gCU31BXl3s9MZrMvHzuVi1B', 'service_tier': 'default', 'finish_reason': 'stop', 'logprobs': None}, id='run--898a6105-3a1a-42e5-9023-2f0e6f5b2c4d-0', usage_metadata={'input_tokens': 13, 'output_tokens': 11, 'total_tokens': 24, 'input_token_details': {'audio': 0, 'cache_read': 0}, 'output_token_details': {'audio': 0, 'reasoning': 0}}), HumanMessage(content='whats my anme ?', additional_kwargs={}, response_metadata={}, id='43f114a1-e13d-4875-9a8a-5cbd67b2ec99'), AIMessage(content='Your name is Alok. How can I help you today?', additional_kwargs={'refusal': None}, response_metadata={'token_usage': {'completion_tokens': 13, 'prompt_tokens': 38, 'total_tokens': 51, 'completion_tokens_details': {'accepted_prediction_tokens': 0, 'audio_tokens': 0, 'reasoning_tokens': 0, 'rejected_prediction_tokens': 0}, 'prompt_tokens_details': {'audio_tokens': 0, 'cached_tokens': 0}}, 'model_name': 'gpt-4o-mini-2024-07-18', 'system_fingerprint': 'fp_34a54ae93c', 'id': 'chatcmpl-C1sJCahfIEXu6Nu8q8A2Mwa7cvLjD', 'service_tier': 'default', 'finish_reason': 'stop', 'logprobs': None}, id='run--c33afc0c-598c-47ad-bf87-f23e87ed9553-0', usage_metadata={'input_tokens': 38, 'output_tokens': 13, 'total_tokens': 51, 'input_token_details': {'audio': 0, 'cache_read': 0}, 'output_token_details': {'audio': 0, 'reasoning': 0}}), HumanMessage(content='I am from bikaner , Rajasthan and i love Kesar khurmani , i done my  Mtech from IIT Dharwad and i am working as an ai intern at Tipstat.', additional_kwargs={}, response_metadata={}, id='2babaf69-d9de-4498-9b7e-eb56c63ad9ec'), AIMessage(content=\"That's great to hear, Alok! Bikaner is known for its rich culture and delicious food, and Kesar khurmani is definitely a treat. Congratulations on completing your M.Tech from IIT Dharwad! Working as an AI intern at Tipstat sounds exciting. What kind of projects are you working on there?\", additional_kwargs={'refusal': None}, response_metadata={'token_usage': {'completion_tokens': 64, 'prompt_tokens': 98, 'total_tokens': 162, 'completion_tokens_details': {'accepted_prediction_tokens': 0, 'audio_tokens': 0, 'reasoning_tokens': 0, 'rejected_prediction_tokens': 0}, 'prompt_tokens_details': {'audio_tokens': 0, 'cached_tokens': 0}}, 'model_name': 'gpt-4o-mini-2024-07-18', 'system_fingerprint': 'fp_62a23a81ef', 'id': 'chatcmpl-C1sJoWz0fKySj5b2Nwi4SZ2iSGfoy', 'service_tier': 'default', 'finish_reason': 'stop', 'logprobs': None}, id='run--9eaeab26-9f36-47d3-bedc-2d1e7da02e9d-0', usage_metadata={'input_tokens': 98, 'output_tokens': 64, 'total_tokens': 162, 'input_token_details': {'audio': 0, 'cache_read': 0}, 'output_token_details': {'audio': 0, 'reasoning': 0}}), HumanMessage(content='tell me about alok in bullet points', additional_kwargs={}, response_metadata={}, id='5801f893-a083-491e-82e9-d0f50fc0970d'), AIMessage(content=\"Sure! Here’s a summary about you in bullet points:\\n\\n- **Name:** Alok\\n- **Location:** Bikaner, Rajasthan\\n- **Favorite Food:** Kesar khurmani\\n- **Education:** Completed M.Tech from IIT Dharwad\\n- **Current Position:** AI intern at Tipstat\\n\\nIf there's anything else you'd like to add or modify, let me know!\", additional_kwargs={'refusal': None}, response_metadata={'token_usage': {'completion_tokens': 78, 'prompt_tokens': 178, 'total_tokens': 256, 'completion_tokens_details': {'accepted_prediction_tokens': 0, 'audio_tokens': 0, 'reasoning_tokens': 0, 'rejected_prediction_tokens': 0}, 'prompt_tokens_details': {'audio_tokens': 0, 'cached_tokens': 0}}, 'model_name': 'gpt-4o-mini-2024-07-18', 'system_fingerprint': 'fp_34a54ae93c', 'id': 'chatcmpl-C1sK03DLOTqL7ajYdPqnUoV9iNYYR', 'service_tier': 'default', 'finish_reason': 'stop', 'logprobs': None}, id='run--e1516f05-174b-4766-a183-fac81d82a635-0', usage_metadata={'input_tokens': 178, 'output_tokens': 78, 'total_tokens': 256, 'input_token_details': {'audio': 0, 'cache_read': 0}, 'output_token_details': {'audio': 0, 'reasoning': 0}}), HumanMessage(content='great', additional_kwargs={}, response_metadata={}, id='3215a257-6a09-400f-a0ac-2487516a6b4a'), AIMessage(content=\"I'm glad you liked it! If you have any more questions or if there's anything else you'd like to share or discuss, feel free to let me know!\", additional_kwargs={'refusal': None}, response_metadata={'token_usage': {'completion_tokens': 31, 'prompt_tokens': 265, 'total_tokens': 296, 'completion_tokens_details': {'accepted_prediction_tokens': 0, 'audio_tokens': 0, 'reasoning_tokens': 0, 'rejected_prediction_tokens': 0}, 'prompt_tokens_details': {'audio_tokens': 0, 'cached_tokens': 0}}, 'model_name': 'gpt-4o-mini-2024-07-18', 'system_fingerprint': 'fp_34a54ae93c', 'id': 'chatcmpl-C1sKFj5V05LMlQepzEn1dl4k8gScK', 'service_tier': 'default', 'finish_reason': 'stop', 'logprobs': None}, id='run--4ba38a08-3a63-499d-bd5f-65e48072332d-0', usage_metadata={'input_tokens': 265, 'output_tokens': 31, 'total_tokens': 296, 'input_token_details': {'audio': 0, 'cache_read': 0}, 'output_token_details': {'audio': 0, 'reasoning': 0}})]}, next=(), config={'configurable': {'thread_id': '1', 'checkpoint_ns': '', 'checkpoint_id': '1f0737ad-a25e-692f-800d-eacea8c9f838'}}, metadata={'source': 'loop', 'step': 13, 'parents': {}, 'thread_id': '1'}, created_at='2025-08-07T10:39:53.160720+00:00', parent_config={'configurable': {'thread_id': '1', 'checkpoint_ns': '', 'checkpoint_id': '1f0737ad-9527-6ea0-800c-2946dec57b2d'}}, tasks=(), interrupts=()),\n",
       " StateSnapshot(values={'messages': [HumanMessage(content='Hi my name is alok', additional_kwargs={}, response_metadata={}, id='2585b561-d565-46ca-9f14-8deb8e7cb6ad'), AIMessage(content='Hi Alok! How can I assist you today?', additional_kwargs={'refusal': None}, response_metadata={'token_usage': {'completion_tokens': 11, 'prompt_tokens': 13, 'total_tokens': 24, 'completion_tokens_details': {'accepted_prediction_tokens': 0, 'audio_tokens': 0, 'reasoning_tokens': 0, 'rejected_prediction_tokens': 0}, 'prompt_tokens_details': {'audio_tokens': 0, 'cached_tokens': 0}}, 'model_name': 'gpt-4o-mini-2024-07-18', 'system_fingerprint': 'fp_34a54ae93c', 'id': 'chatcmpl-C1sJ69gCU31BXl3s9MZrMvHzuVi1B', 'service_tier': 'default', 'finish_reason': 'stop', 'logprobs': None}, id='run--898a6105-3a1a-42e5-9023-2f0e6f5b2c4d-0', usage_metadata={'input_tokens': 13, 'output_tokens': 11, 'total_tokens': 24, 'input_token_details': {'audio': 0, 'cache_read': 0}, 'output_token_details': {'audio': 0, 'reasoning': 0}}), HumanMessage(content='whats my anme ?', additional_kwargs={}, response_metadata={}, id='43f114a1-e13d-4875-9a8a-5cbd67b2ec99'), AIMessage(content='Your name is Alok. How can I help you today?', additional_kwargs={'refusal': None}, response_metadata={'token_usage': {'completion_tokens': 13, 'prompt_tokens': 38, 'total_tokens': 51, 'completion_tokens_details': {'accepted_prediction_tokens': 0, 'audio_tokens': 0, 'reasoning_tokens': 0, 'rejected_prediction_tokens': 0}, 'prompt_tokens_details': {'audio_tokens': 0, 'cached_tokens': 0}}, 'model_name': 'gpt-4o-mini-2024-07-18', 'system_fingerprint': 'fp_34a54ae93c', 'id': 'chatcmpl-C1sJCahfIEXu6Nu8q8A2Mwa7cvLjD', 'service_tier': 'default', 'finish_reason': 'stop', 'logprobs': None}, id='run--c33afc0c-598c-47ad-bf87-f23e87ed9553-0', usage_metadata={'input_tokens': 38, 'output_tokens': 13, 'total_tokens': 51, 'input_token_details': {'audio': 0, 'cache_read': 0}, 'output_token_details': {'audio': 0, 'reasoning': 0}}), HumanMessage(content='I am from bikaner , Rajasthan and i love Kesar khurmani , i done my  Mtech from IIT Dharwad and i am working as an ai intern at Tipstat.', additional_kwargs={}, response_metadata={}, id='2babaf69-d9de-4498-9b7e-eb56c63ad9ec'), AIMessage(content=\"That's great to hear, Alok! Bikaner is known for its rich culture and delicious food, and Kesar khurmani is definitely a treat. Congratulations on completing your M.Tech from IIT Dharwad! Working as an AI intern at Tipstat sounds exciting. What kind of projects are you working on there?\", additional_kwargs={'refusal': None}, response_metadata={'token_usage': {'completion_tokens': 64, 'prompt_tokens': 98, 'total_tokens': 162, 'completion_tokens_details': {'accepted_prediction_tokens': 0, 'audio_tokens': 0, 'reasoning_tokens': 0, 'rejected_prediction_tokens': 0}, 'prompt_tokens_details': {'audio_tokens': 0, 'cached_tokens': 0}}, 'model_name': 'gpt-4o-mini-2024-07-18', 'system_fingerprint': 'fp_62a23a81ef', 'id': 'chatcmpl-C1sJoWz0fKySj5b2Nwi4SZ2iSGfoy', 'service_tier': 'default', 'finish_reason': 'stop', 'logprobs': None}, id='run--9eaeab26-9f36-47d3-bedc-2d1e7da02e9d-0', usage_metadata={'input_tokens': 98, 'output_tokens': 64, 'total_tokens': 162, 'input_token_details': {'audio': 0, 'cache_read': 0}, 'output_token_details': {'audio': 0, 'reasoning': 0}}), HumanMessage(content='tell me about alok in bullet points', additional_kwargs={}, response_metadata={}, id='5801f893-a083-491e-82e9-d0f50fc0970d'), AIMessage(content=\"Sure! Here’s a summary about you in bullet points:\\n\\n- **Name:** Alok\\n- **Location:** Bikaner, Rajasthan\\n- **Favorite Food:** Kesar khurmani\\n- **Education:** Completed M.Tech from IIT Dharwad\\n- **Current Position:** AI intern at Tipstat\\n\\nIf there's anything else you'd like to add or modify, let me know!\", additional_kwargs={'refusal': None}, response_metadata={'token_usage': {'completion_tokens': 78, 'prompt_tokens': 178, 'total_tokens': 256, 'completion_tokens_details': {'accepted_prediction_tokens': 0, 'audio_tokens': 0, 'reasoning_tokens': 0, 'rejected_prediction_tokens': 0}, 'prompt_tokens_details': {'audio_tokens': 0, 'cached_tokens': 0}}, 'model_name': 'gpt-4o-mini-2024-07-18', 'system_fingerprint': 'fp_34a54ae93c', 'id': 'chatcmpl-C1sK03DLOTqL7ajYdPqnUoV9iNYYR', 'service_tier': 'default', 'finish_reason': 'stop', 'logprobs': None}, id='run--e1516f05-174b-4766-a183-fac81d82a635-0', usage_metadata={'input_tokens': 178, 'output_tokens': 78, 'total_tokens': 256, 'input_token_details': {'audio': 0, 'cache_read': 0}, 'output_token_details': {'audio': 0, 'reasoning': 0}}), HumanMessage(content='great', additional_kwargs={}, response_metadata={}, id='3215a257-6a09-400f-a0ac-2487516a6b4a')]}, next=('ChatBot',), config={'configurable': {'thread_id': '1', 'checkpoint_ns': '', 'checkpoint_id': '1f0737ad-9527-6ea0-800c-2946dec57b2d'}}, metadata={'source': 'loop', 'step': 12, 'parents': {}, 'thread_id': '1'}, created_at='2025-08-07T10:39:51.775185+00:00', parent_config={'configurable': {'thread_id': '1', 'checkpoint_ns': '', 'checkpoint_id': '1f0737ad-9525-634c-800b-e6869ff2af9a'}}, tasks=(PregelTask(id='99344c8b-bb6f-dedf-18fe-c713383c314c', name='ChatBot', path=('__pregel_pull', 'ChatBot'), error=None, interrupts=(), state=None, result={'messages': [AIMessage(content=\"I'm glad you liked it! If you have any more questions or if there's anything else you'd like to share or discuss, feel free to let me know!\", additional_kwargs={'refusal': None}, response_metadata={'token_usage': {'completion_tokens': 31, 'prompt_tokens': 265, 'total_tokens': 296, 'completion_tokens_details': {'accepted_prediction_tokens': 0, 'audio_tokens': 0, 'reasoning_tokens': 0, 'rejected_prediction_tokens': 0}, 'prompt_tokens_details': {'audio_tokens': 0, 'cached_tokens': 0}}, 'model_name': 'gpt-4o-mini-2024-07-18', 'system_fingerprint': 'fp_34a54ae93c', 'id': 'chatcmpl-C1sKFj5V05LMlQepzEn1dl4k8gScK', 'service_tier': 'default', 'finish_reason': 'stop', 'logprobs': None}, id='run--4ba38a08-3a63-499d-bd5f-65e48072332d-0', usage_metadata={'input_tokens': 265, 'output_tokens': 31, 'total_tokens': 296, 'input_token_details': {'audio': 0, 'cache_read': 0}, 'output_token_details': {'audio': 0, 'reasoning': 0}})]}),), interrupts=()),\n",
       " StateSnapshot(values={'messages': [HumanMessage(content='Hi my name is alok', additional_kwargs={}, response_metadata={}, id='2585b561-d565-46ca-9f14-8deb8e7cb6ad'), AIMessage(content='Hi Alok! How can I assist you today?', additional_kwargs={'refusal': None}, response_metadata={'token_usage': {'completion_tokens': 11, 'prompt_tokens': 13, 'total_tokens': 24, 'completion_tokens_details': {'accepted_prediction_tokens': 0, 'audio_tokens': 0, 'reasoning_tokens': 0, 'rejected_prediction_tokens': 0}, 'prompt_tokens_details': {'audio_tokens': 0, 'cached_tokens': 0}}, 'model_name': 'gpt-4o-mini-2024-07-18', 'system_fingerprint': 'fp_34a54ae93c', 'id': 'chatcmpl-C1sJ69gCU31BXl3s9MZrMvHzuVi1B', 'service_tier': 'default', 'finish_reason': 'stop', 'logprobs': None}, id='run--898a6105-3a1a-42e5-9023-2f0e6f5b2c4d-0', usage_metadata={'input_tokens': 13, 'output_tokens': 11, 'total_tokens': 24, 'input_token_details': {'audio': 0, 'cache_read': 0}, 'output_token_details': {'audio': 0, 'reasoning': 0}}), HumanMessage(content='whats my anme ?', additional_kwargs={}, response_metadata={}, id='43f114a1-e13d-4875-9a8a-5cbd67b2ec99'), AIMessage(content='Your name is Alok. How can I help you today?', additional_kwargs={'refusal': None}, response_metadata={'token_usage': {'completion_tokens': 13, 'prompt_tokens': 38, 'total_tokens': 51, 'completion_tokens_details': {'accepted_prediction_tokens': 0, 'audio_tokens': 0, 'reasoning_tokens': 0, 'rejected_prediction_tokens': 0}, 'prompt_tokens_details': {'audio_tokens': 0, 'cached_tokens': 0}}, 'model_name': 'gpt-4o-mini-2024-07-18', 'system_fingerprint': 'fp_34a54ae93c', 'id': 'chatcmpl-C1sJCahfIEXu6Nu8q8A2Mwa7cvLjD', 'service_tier': 'default', 'finish_reason': 'stop', 'logprobs': None}, id='run--c33afc0c-598c-47ad-bf87-f23e87ed9553-0', usage_metadata={'input_tokens': 38, 'output_tokens': 13, 'total_tokens': 51, 'input_token_details': {'audio': 0, 'cache_read': 0}, 'output_token_details': {'audio': 0, 'reasoning': 0}}), HumanMessage(content='I am from bikaner , Rajasthan and i love Kesar khurmani , i done my  Mtech from IIT Dharwad and i am working as an ai intern at Tipstat.', additional_kwargs={}, response_metadata={}, id='2babaf69-d9de-4498-9b7e-eb56c63ad9ec'), AIMessage(content=\"That's great to hear, Alok! Bikaner is known for its rich culture and delicious food, and Kesar khurmani is definitely a treat. Congratulations on completing your M.Tech from IIT Dharwad! Working as an AI intern at Tipstat sounds exciting. What kind of projects are you working on there?\", additional_kwargs={'refusal': None}, response_metadata={'token_usage': {'completion_tokens': 64, 'prompt_tokens': 98, 'total_tokens': 162, 'completion_tokens_details': {'accepted_prediction_tokens': 0, 'audio_tokens': 0, 'reasoning_tokens': 0, 'rejected_prediction_tokens': 0}, 'prompt_tokens_details': {'audio_tokens': 0, 'cached_tokens': 0}}, 'model_name': 'gpt-4o-mini-2024-07-18', 'system_fingerprint': 'fp_62a23a81ef', 'id': 'chatcmpl-C1sJoWz0fKySj5b2Nwi4SZ2iSGfoy', 'service_tier': 'default', 'finish_reason': 'stop', 'logprobs': None}, id='run--9eaeab26-9f36-47d3-bedc-2d1e7da02e9d-0', usage_metadata={'input_tokens': 98, 'output_tokens': 64, 'total_tokens': 162, 'input_token_details': {'audio': 0, 'cache_read': 0}, 'output_token_details': {'audio': 0, 'reasoning': 0}}), HumanMessage(content='tell me about alok in bullet points', additional_kwargs={}, response_metadata={}, id='5801f893-a083-491e-82e9-d0f50fc0970d'), AIMessage(content=\"Sure! Here’s a summary about you in bullet points:\\n\\n- **Name:** Alok\\n- **Location:** Bikaner, Rajasthan\\n- **Favorite Food:** Kesar khurmani\\n- **Education:** Completed M.Tech from IIT Dharwad\\n- **Current Position:** AI intern at Tipstat\\n\\nIf there's anything else you'd like to add or modify, let me know!\", additional_kwargs={'refusal': None}, response_metadata={'token_usage': {'completion_tokens': 78, 'prompt_tokens': 178, 'total_tokens': 256, 'completion_tokens_details': {'accepted_prediction_tokens': 0, 'audio_tokens': 0, 'reasoning_tokens': 0, 'rejected_prediction_tokens': 0}, 'prompt_tokens_details': {'audio_tokens': 0, 'cached_tokens': 0}}, 'model_name': 'gpt-4o-mini-2024-07-18', 'system_fingerprint': 'fp_34a54ae93c', 'id': 'chatcmpl-C1sK03DLOTqL7ajYdPqnUoV9iNYYR', 'service_tier': 'default', 'finish_reason': 'stop', 'logprobs': None}, id='run--e1516f05-174b-4766-a183-fac81d82a635-0', usage_metadata={'input_tokens': 178, 'output_tokens': 78, 'total_tokens': 256, 'input_token_details': {'audio': 0, 'cache_read': 0}, 'output_token_details': {'audio': 0, 'reasoning': 0}})]}, next=('__start__',), config={'configurable': {'thread_id': '1', 'checkpoint_ns': '', 'checkpoint_id': '1f0737ad-9525-634c-800b-e6869ff2af9a'}}, metadata={'source': 'input', 'step': 11, 'parents': {}, 'thread_id': '1'}, created_at='2025-08-07T10:39:51.774069+00:00', parent_config={'configurable': {'thread_id': '1', 'checkpoint_ns': '', 'checkpoint_id': '1f0737ad-1c83-6699-800a-1b55d642c71b'}}, tasks=(PregelTask(id='d7a942be-c82a-0565-d1c7-c87b399312b9', name='__start__', path=('__pregel_pull', '__start__'), error=None, interrupts=(), state=None, result={'messages': [{'role': 'user', 'content': 'great'}]}),), interrupts=()),\n",
       " StateSnapshot(values={'messages': [HumanMessage(content='Hi my name is alok', additional_kwargs={}, response_metadata={}, id='2585b561-d565-46ca-9f14-8deb8e7cb6ad'), AIMessage(content='Hi Alok! How can I assist you today?', additional_kwargs={'refusal': None}, response_metadata={'token_usage': {'completion_tokens': 11, 'prompt_tokens': 13, 'total_tokens': 24, 'completion_tokens_details': {'accepted_prediction_tokens': 0, 'audio_tokens': 0, 'reasoning_tokens': 0, 'rejected_prediction_tokens': 0}, 'prompt_tokens_details': {'audio_tokens': 0, 'cached_tokens': 0}}, 'model_name': 'gpt-4o-mini-2024-07-18', 'system_fingerprint': 'fp_34a54ae93c', 'id': 'chatcmpl-C1sJ69gCU31BXl3s9MZrMvHzuVi1B', 'service_tier': 'default', 'finish_reason': 'stop', 'logprobs': None}, id='run--898a6105-3a1a-42e5-9023-2f0e6f5b2c4d-0', usage_metadata={'input_tokens': 13, 'output_tokens': 11, 'total_tokens': 24, 'input_token_details': {'audio': 0, 'cache_read': 0}, 'output_token_details': {'audio': 0, 'reasoning': 0}}), HumanMessage(content='whats my anme ?', additional_kwargs={}, response_metadata={}, id='43f114a1-e13d-4875-9a8a-5cbd67b2ec99'), AIMessage(content='Your name is Alok. How can I help you today?', additional_kwargs={'refusal': None}, response_metadata={'token_usage': {'completion_tokens': 13, 'prompt_tokens': 38, 'total_tokens': 51, 'completion_tokens_details': {'accepted_prediction_tokens': 0, 'audio_tokens': 0, 'reasoning_tokens': 0, 'rejected_prediction_tokens': 0}, 'prompt_tokens_details': {'audio_tokens': 0, 'cached_tokens': 0}}, 'model_name': 'gpt-4o-mini-2024-07-18', 'system_fingerprint': 'fp_34a54ae93c', 'id': 'chatcmpl-C1sJCahfIEXu6Nu8q8A2Mwa7cvLjD', 'service_tier': 'default', 'finish_reason': 'stop', 'logprobs': None}, id='run--c33afc0c-598c-47ad-bf87-f23e87ed9553-0', usage_metadata={'input_tokens': 38, 'output_tokens': 13, 'total_tokens': 51, 'input_token_details': {'audio': 0, 'cache_read': 0}, 'output_token_details': {'audio': 0, 'reasoning': 0}}), HumanMessage(content='I am from bikaner , Rajasthan and i love Kesar khurmani , i done my  Mtech from IIT Dharwad and i am working as an ai intern at Tipstat.', additional_kwargs={}, response_metadata={}, id='2babaf69-d9de-4498-9b7e-eb56c63ad9ec'), AIMessage(content=\"That's great to hear, Alok! Bikaner is known for its rich culture and delicious food, and Kesar khurmani is definitely a treat. Congratulations on completing your M.Tech from IIT Dharwad! Working as an AI intern at Tipstat sounds exciting. What kind of projects are you working on there?\", additional_kwargs={'refusal': None}, response_metadata={'token_usage': {'completion_tokens': 64, 'prompt_tokens': 98, 'total_tokens': 162, 'completion_tokens_details': {'accepted_prediction_tokens': 0, 'audio_tokens': 0, 'reasoning_tokens': 0, 'rejected_prediction_tokens': 0}, 'prompt_tokens_details': {'audio_tokens': 0, 'cached_tokens': 0}}, 'model_name': 'gpt-4o-mini-2024-07-18', 'system_fingerprint': 'fp_62a23a81ef', 'id': 'chatcmpl-C1sJoWz0fKySj5b2Nwi4SZ2iSGfoy', 'service_tier': 'default', 'finish_reason': 'stop', 'logprobs': None}, id='run--9eaeab26-9f36-47d3-bedc-2d1e7da02e9d-0', usage_metadata={'input_tokens': 98, 'output_tokens': 64, 'total_tokens': 162, 'input_token_details': {'audio': 0, 'cache_read': 0}, 'output_token_details': {'audio': 0, 'reasoning': 0}}), HumanMessage(content='tell me about alok in bullet points', additional_kwargs={}, response_metadata={}, id='5801f893-a083-491e-82e9-d0f50fc0970d'), AIMessage(content=\"Sure! Here’s a summary about you in bullet points:\\n\\n- **Name:** Alok\\n- **Location:** Bikaner, Rajasthan\\n- **Favorite Food:** Kesar khurmani\\n- **Education:** Completed M.Tech from IIT Dharwad\\n- **Current Position:** AI intern at Tipstat\\n\\nIf there's anything else you'd like to add or modify, let me know!\", additional_kwargs={'refusal': None}, response_metadata={'token_usage': {'completion_tokens': 78, 'prompt_tokens': 178, 'total_tokens': 256, 'completion_tokens_details': {'accepted_prediction_tokens': 0, 'audio_tokens': 0, 'reasoning_tokens': 0, 'rejected_prediction_tokens': 0}, 'prompt_tokens_details': {'audio_tokens': 0, 'cached_tokens': 0}}, 'model_name': 'gpt-4o-mini-2024-07-18', 'system_fingerprint': 'fp_34a54ae93c', 'id': 'chatcmpl-C1sK03DLOTqL7ajYdPqnUoV9iNYYR', 'service_tier': 'default', 'finish_reason': 'stop', 'logprobs': None}, id='run--e1516f05-174b-4766-a183-fac81d82a635-0', usage_metadata={'input_tokens': 178, 'output_tokens': 78, 'total_tokens': 256, 'input_token_details': {'audio': 0, 'cache_read': 0}, 'output_token_details': {'audio': 0, 'reasoning': 0}})]}, next=(), config={'configurable': {'thread_id': '1', 'checkpoint_ns': '', 'checkpoint_id': '1f0737ad-1c83-6699-800a-1b55d642c71b'}}, metadata={'source': 'loop', 'step': 10, 'parents': {}, 'thread_id': '1'}, created_at='2025-08-07T10:39:39.124893+00:00', parent_config={'configurable': {'thread_id': '1', 'checkpoint_ns': '', 'checkpoint_id': '1f0737ad-02fc-6b31-8009-81fcfbe3f04c'}}, tasks=(), interrupts=()),\n",
       " StateSnapshot(values={'messages': [HumanMessage(content='Hi my name is alok', additional_kwargs={}, response_metadata={}, id='2585b561-d565-46ca-9f14-8deb8e7cb6ad'), AIMessage(content='Hi Alok! How can I assist you today?', additional_kwargs={'refusal': None}, response_metadata={'token_usage': {'completion_tokens': 11, 'prompt_tokens': 13, 'total_tokens': 24, 'completion_tokens_details': {'accepted_prediction_tokens': 0, 'audio_tokens': 0, 'reasoning_tokens': 0, 'rejected_prediction_tokens': 0}, 'prompt_tokens_details': {'audio_tokens': 0, 'cached_tokens': 0}}, 'model_name': 'gpt-4o-mini-2024-07-18', 'system_fingerprint': 'fp_34a54ae93c', 'id': 'chatcmpl-C1sJ69gCU31BXl3s9MZrMvHzuVi1B', 'service_tier': 'default', 'finish_reason': 'stop', 'logprobs': None}, id='run--898a6105-3a1a-42e5-9023-2f0e6f5b2c4d-0', usage_metadata={'input_tokens': 13, 'output_tokens': 11, 'total_tokens': 24, 'input_token_details': {'audio': 0, 'cache_read': 0}, 'output_token_details': {'audio': 0, 'reasoning': 0}}), HumanMessage(content='whats my anme ?', additional_kwargs={}, response_metadata={}, id='43f114a1-e13d-4875-9a8a-5cbd67b2ec99'), AIMessage(content='Your name is Alok. How can I help you today?', additional_kwargs={'refusal': None}, response_metadata={'token_usage': {'completion_tokens': 13, 'prompt_tokens': 38, 'total_tokens': 51, 'completion_tokens_details': {'accepted_prediction_tokens': 0, 'audio_tokens': 0, 'reasoning_tokens': 0, 'rejected_prediction_tokens': 0}, 'prompt_tokens_details': {'audio_tokens': 0, 'cached_tokens': 0}}, 'model_name': 'gpt-4o-mini-2024-07-18', 'system_fingerprint': 'fp_34a54ae93c', 'id': 'chatcmpl-C1sJCahfIEXu6Nu8q8A2Mwa7cvLjD', 'service_tier': 'default', 'finish_reason': 'stop', 'logprobs': None}, id='run--c33afc0c-598c-47ad-bf87-f23e87ed9553-0', usage_metadata={'input_tokens': 38, 'output_tokens': 13, 'total_tokens': 51, 'input_token_details': {'audio': 0, 'cache_read': 0}, 'output_token_details': {'audio': 0, 'reasoning': 0}}), HumanMessage(content='I am from bikaner , Rajasthan and i love Kesar khurmani , i done my  Mtech from IIT Dharwad and i am working as an ai intern at Tipstat.', additional_kwargs={}, response_metadata={}, id='2babaf69-d9de-4498-9b7e-eb56c63ad9ec'), AIMessage(content=\"That's great to hear, Alok! Bikaner is known for its rich culture and delicious food, and Kesar khurmani is definitely a treat. Congratulations on completing your M.Tech from IIT Dharwad! Working as an AI intern at Tipstat sounds exciting. What kind of projects are you working on there?\", additional_kwargs={'refusal': None}, response_metadata={'token_usage': {'completion_tokens': 64, 'prompt_tokens': 98, 'total_tokens': 162, 'completion_tokens_details': {'accepted_prediction_tokens': 0, 'audio_tokens': 0, 'reasoning_tokens': 0, 'rejected_prediction_tokens': 0}, 'prompt_tokens_details': {'audio_tokens': 0, 'cached_tokens': 0}}, 'model_name': 'gpt-4o-mini-2024-07-18', 'system_fingerprint': 'fp_62a23a81ef', 'id': 'chatcmpl-C1sJoWz0fKySj5b2Nwi4SZ2iSGfoy', 'service_tier': 'default', 'finish_reason': 'stop', 'logprobs': None}, id='run--9eaeab26-9f36-47d3-bedc-2d1e7da02e9d-0', usage_metadata={'input_tokens': 98, 'output_tokens': 64, 'total_tokens': 162, 'input_token_details': {'audio': 0, 'cache_read': 0}, 'output_token_details': {'audio': 0, 'reasoning': 0}}), HumanMessage(content='tell me about alok in bullet points', additional_kwargs={}, response_metadata={}, id='5801f893-a083-491e-82e9-d0f50fc0970d')]}, next=('ChatBot',), config={'configurable': {'thread_id': '1', 'checkpoint_ns': '', 'checkpoint_id': '1f0737ad-02fc-6b31-8009-81fcfbe3f04c'}}, metadata={'source': 'loop', 'step': 9, 'parents': {}, 'thread_id': '1'}, created_at='2025-08-07T10:39:36.448278+00:00', parent_config={'configurable': {'thread_id': '1', 'checkpoint_ns': '', 'checkpoint_id': '1f0737ad-02fa-6ff1-8008-449ee54ae649'}}, tasks=(PregelTask(id='0c5c66f5-bcd3-e594-c80a-7024625e63ce', name='ChatBot', path=('__pregel_pull', 'ChatBot'), error=None, interrupts=(), state=None, result={'messages': [AIMessage(content=\"Sure! Here’s a summary about you in bullet points:\\n\\n- **Name:** Alok\\n- **Location:** Bikaner, Rajasthan\\n- **Favorite Food:** Kesar khurmani\\n- **Education:** Completed M.Tech from IIT Dharwad\\n- **Current Position:** AI intern at Tipstat\\n\\nIf there's anything else you'd like to add or modify, let me know!\", additional_kwargs={'refusal': None}, response_metadata={'token_usage': {'completion_tokens': 78, 'prompt_tokens': 178, 'total_tokens': 256, 'completion_tokens_details': {'accepted_prediction_tokens': 0, 'audio_tokens': 0, 'reasoning_tokens': 0, 'rejected_prediction_tokens': 0}, 'prompt_tokens_details': {'audio_tokens': 0, 'cached_tokens': 0}}, 'model_name': 'gpt-4o-mini-2024-07-18', 'system_fingerprint': 'fp_34a54ae93c', 'id': 'chatcmpl-C1sK03DLOTqL7ajYdPqnUoV9iNYYR', 'service_tier': 'default', 'finish_reason': 'stop', 'logprobs': None}, id='run--e1516f05-174b-4766-a183-fac81d82a635-0', usage_metadata={'input_tokens': 178, 'output_tokens': 78, 'total_tokens': 256, 'input_token_details': {'audio': 0, 'cache_read': 0}, 'output_token_details': {'audio': 0, 'reasoning': 0}})]}),), interrupts=()),\n",
       " StateSnapshot(values={'messages': [HumanMessage(content='Hi my name is alok', additional_kwargs={}, response_metadata={}, id='2585b561-d565-46ca-9f14-8deb8e7cb6ad'), AIMessage(content='Hi Alok! How can I assist you today?', additional_kwargs={'refusal': None}, response_metadata={'token_usage': {'completion_tokens': 11, 'prompt_tokens': 13, 'total_tokens': 24, 'completion_tokens_details': {'accepted_prediction_tokens': 0, 'audio_tokens': 0, 'reasoning_tokens': 0, 'rejected_prediction_tokens': 0}, 'prompt_tokens_details': {'audio_tokens': 0, 'cached_tokens': 0}}, 'model_name': 'gpt-4o-mini-2024-07-18', 'system_fingerprint': 'fp_34a54ae93c', 'id': 'chatcmpl-C1sJ69gCU31BXl3s9MZrMvHzuVi1B', 'service_tier': 'default', 'finish_reason': 'stop', 'logprobs': None}, id='run--898a6105-3a1a-42e5-9023-2f0e6f5b2c4d-0', usage_metadata={'input_tokens': 13, 'output_tokens': 11, 'total_tokens': 24, 'input_token_details': {'audio': 0, 'cache_read': 0}, 'output_token_details': {'audio': 0, 'reasoning': 0}}), HumanMessage(content='whats my anme ?', additional_kwargs={}, response_metadata={}, id='43f114a1-e13d-4875-9a8a-5cbd67b2ec99'), AIMessage(content='Your name is Alok. How can I help you today?', additional_kwargs={'refusal': None}, response_metadata={'token_usage': {'completion_tokens': 13, 'prompt_tokens': 38, 'total_tokens': 51, 'completion_tokens_details': {'accepted_prediction_tokens': 0, 'audio_tokens': 0, 'reasoning_tokens': 0, 'rejected_prediction_tokens': 0}, 'prompt_tokens_details': {'audio_tokens': 0, 'cached_tokens': 0}}, 'model_name': 'gpt-4o-mini-2024-07-18', 'system_fingerprint': 'fp_34a54ae93c', 'id': 'chatcmpl-C1sJCahfIEXu6Nu8q8A2Mwa7cvLjD', 'service_tier': 'default', 'finish_reason': 'stop', 'logprobs': None}, id='run--c33afc0c-598c-47ad-bf87-f23e87ed9553-0', usage_metadata={'input_tokens': 38, 'output_tokens': 13, 'total_tokens': 51, 'input_token_details': {'audio': 0, 'cache_read': 0}, 'output_token_details': {'audio': 0, 'reasoning': 0}}), HumanMessage(content='I am from bikaner , Rajasthan and i love Kesar khurmani , i done my  Mtech from IIT Dharwad and i am working as an ai intern at Tipstat.', additional_kwargs={}, response_metadata={}, id='2babaf69-d9de-4498-9b7e-eb56c63ad9ec'), AIMessage(content=\"That's great to hear, Alok! Bikaner is known for its rich culture and delicious food, and Kesar khurmani is definitely a treat. Congratulations on completing your M.Tech from IIT Dharwad! Working as an AI intern at Tipstat sounds exciting. What kind of projects are you working on there?\", additional_kwargs={'refusal': None}, response_metadata={'token_usage': {'completion_tokens': 64, 'prompt_tokens': 98, 'total_tokens': 162, 'completion_tokens_details': {'accepted_prediction_tokens': 0, 'audio_tokens': 0, 'reasoning_tokens': 0, 'rejected_prediction_tokens': 0}, 'prompt_tokens_details': {'audio_tokens': 0, 'cached_tokens': 0}}, 'model_name': 'gpt-4o-mini-2024-07-18', 'system_fingerprint': 'fp_62a23a81ef', 'id': 'chatcmpl-C1sJoWz0fKySj5b2Nwi4SZ2iSGfoy', 'service_tier': 'default', 'finish_reason': 'stop', 'logprobs': None}, id='run--9eaeab26-9f36-47d3-bedc-2d1e7da02e9d-0', usage_metadata={'input_tokens': 98, 'output_tokens': 64, 'total_tokens': 162, 'input_token_details': {'audio': 0, 'cache_read': 0}, 'output_token_details': {'audio': 0, 'reasoning': 0}})]}, next=('__start__',), config={'configurable': {'thread_id': '1', 'checkpoint_ns': '', 'checkpoint_id': '1f0737ad-02fa-6ff1-8008-449ee54ae649'}}, metadata={'source': 'input', 'step': 8, 'parents': {}, 'thread_id': '1'}, created_at='2025-08-07T10:39:36.447577+00:00', parent_config={'configurable': {'thread_id': '1', 'checkpoint_ns': '', 'checkpoint_id': '1f0737ac-a77b-6e3c-8007-99e7b71e5791'}}, tasks=(PregelTask(id='2b617548-9a8a-1b0f-feb6-0f8f58810c2a', name='__start__', path=('__pregel_pull', '__start__'), error=None, interrupts=(), state=None, result={'messages': [{'role': 'user', 'content': 'tell me about alok in bullet points'}]}),), interrupts=()),\n",
       " StateSnapshot(values={'messages': [HumanMessage(content='Hi my name is alok', additional_kwargs={}, response_metadata={}, id='2585b561-d565-46ca-9f14-8deb8e7cb6ad'), AIMessage(content='Hi Alok! How can I assist you today?', additional_kwargs={'refusal': None}, response_metadata={'token_usage': {'completion_tokens': 11, 'prompt_tokens': 13, 'total_tokens': 24, 'completion_tokens_details': {'accepted_prediction_tokens': 0, 'audio_tokens': 0, 'reasoning_tokens': 0, 'rejected_prediction_tokens': 0}, 'prompt_tokens_details': {'audio_tokens': 0, 'cached_tokens': 0}}, 'model_name': 'gpt-4o-mini-2024-07-18', 'system_fingerprint': 'fp_34a54ae93c', 'id': 'chatcmpl-C1sJ69gCU31BXl3s9MZrMvHzuVi1B', 'service_tier': 'default', 'finish_reason': 'stop', 'logprobs': None}, id='run--898a6105-3a1a-42e5-9023-2f0e6f5b2c4d-0', usage_metadata={'input_tokens': 13, 'output_tokens': 11, 'total_tokens': 24, 'input_token_details': {'audio': 0, 'cache_read': 0}, 'output_token_details': {'audio': 0, 'reasoning': 0}}), HumanMessage(content='whats my anme ?', additional_kwargs={}, response_metadata={}, id='43f114a1-e13d-4875-9a8a-5cbd67b2ec99'), AIMessage(content='Your name is Alok. How can I help you today?', additional_kwargs={'refusal': None}, response_metadata={'token_usage': {'completion_tokens': 13, 'prompt_tokens': 38, 'total_tokens': 51, 'completion_tokens_details': {'accepted_prediction_tokens': 0, 'audio_tokens': 0, 'reasoning_tokens': 0, 'rejected_prediction_tokens': 0}, 'prompt_tokens_details': {'audio_tokens': 0, 'cached_tokens': 0}}, 'model_name': 'gpt-4o-mini-2024-07-18', 'system_fingerprint': 'fp_34a54ae93c', 'id': 'chatcmpl-C1sJCahfIEXu6Nu8q8A2Mwa7cvLjD', 'service_tier': 'default', 'finish_reason': 'stop', 'logprobs': None}, id='run--c33afc0c-598c-47ad-bf87-f23e87ed9553-0', usage_metadata={'input_tokens': 38, 'output_tokens': 13, 'total_tokens': 51, 'input_token_details': {'audio': 0, 'cache_read': 0}, 'output_token_details': {'audio': 0, 'reasoning': 0}}), HumanMessage(content='I am from bikaner , Rajasthan and i love Kesar khurmani , i done my  Mtech from IIT Dharwad and i am working as an ai intern at Tipstat.', additional_kwargs={}, response_metadata={}, id='2babaf69-d9de-4498-9b7e-eb56c63ad9ec'), AIMessage(content=\"That's great to hear, Alok! Bikaner is known for its rich culture and delicious food, and Kesar khurmani is definitely a treat. Congratulations on completing your M.Tech from IIT Dharwad! Working as an AI intern at Tipstat sounds exciting. What kind of projects are you working on there?\", additional_kwargs={'refusal': None}, response_metadata={'token_usage': {'completion_tokens': 64, 'prompt_tokens': 98, 'total_tokens': 162, 'completion_tokens_details': {'accepted_prediction_tokens': 0, 'audio_tokens': 0, 'reasoning_tokens': 0, 'rejected_prediction_tokens': 0}, 'prompt_tokens_details': {'audio_tokens': 0, 'cached_tokens': 0}}, 'model_name': 'gpt-4o-mini-2024-07-18', 'system_fingerprint': 'fp_62a23a81ef', 'id': 'chatcmpl-C1sJoWz0fKySj5b2Nwi4SZ2iSGfoy', 'service_tier': 'default', 'finish_reason': 'stop', 'logprobs': None}, id='run--9eaeab26-9f36-47d3-bedc-2d1e7da02e9d-0', usage_metadata={'input_tokens': 98, 'output_tokens': 64, 'total_tokens': 162, 'input_token_details': {'audio': 0, 'cache_read': 0}, 'output_token_details': {'audio': 0, 'reasoning': 0}})]}, next=(), config={'configurable': {'thread_id': '1', 'checkpoint_ns': '', 'checkpoint_id': '1f0737ac-a77b-6e3c-8007-99e7b71e5791'}}, metadata={'source': 'loop', 'step': 7, 'parents': {}, 'thread_id': '1'}, created_at='2025-08-07T10:39:26.853473+00:00', parent_config={'configurable': {'thread_id': '1', 'checkpoint_ns': '', 'checkpoint_id': '1f0737ac-921f-62b9-8006-8468629a98cb'}}, tasks=(), interrupts=()),\n",
       " StateSnapshot(values={'messages': [HumanMessage(content='Hi my name is alok', additional_kwargs={}, response_metadata={}, id='2585b561-d565-46ca-9f14-8deb8e7cb6ad'), AIMessage(content='Hi Alok! How can I assist you today?', additional_kwargs={'refusal': None}, response_metadata={'token_usage': {'completion_tokens': 11, 'prompt_tokens': 13, 'total_tokens': 24, 'completion_tokens_details': {'accepted_prediction_tokens': 0, 'audio_tokens': 0, 'reasoning_tokens': 0, 'rejected_prediction_tokens': 0}, 'prompt_tokens_details': {'audio_tokens': 0, 'cached_tokens': 0}}, 'model_name': 'gpt-4o-mini-2024-07-18', 'system_fingerprint': 'fp_34a54ae93c', 'id': 'chatcmpl-C1sJ69gCU31BXl3s9MZrMvHzuVi1B', 'service_tier': 'default', 'finish_reason': 'stop', 'logprobs': None}, id='run--898a6105-3a1a-42e5-9023-2f0e6f5b2c4d-0', usage_metadata={'input_tokens': 13, 'output_tokens': 11, 'total_tokens': 24, 'input_token_details': {'audio': 0, 'cache_read': 0}, 'output_token_details': {'audio': 0, 'reasoning': 0}}), HumanMessage(content='whats my anme ?', additional_kwargs={}, response_metadata={}, id='43f114a1-e13d-4875-9a8a-5cbd67b2ec99'), AIMessage(content='Your name is Alok. How can I help you today?', additional_kwargs={'refusal': None}, response_metadata={'token_usage': {'completion_tokens': 13, 'prompt_tokens': 38, 'total_tokens': 51, 'completion_tokens_details': {'accepted_prediction_tokens': 0, 'audio_tokens': 0, 'reasoning_tokens': 0, 'rejected_prediction_tokens': 0}, 'prompt_tokens_details': {'audio_tokens': 0, 'cached_tokens': 0}}, 'model_name': 'gpt-4o-mini-2024-07-18', 'system_fingerprint': 'fp_34a54ae93c', 'id': 'chatcmpl-C1sJCahfIEXu6Nu8q8A2Mwa7cvLjD', 'service_tier': 'default', 'finish_reason': 'stop', 'logprobs': None}, id='run--c33afc0c-598c-47ad-bf87-f23e87ed9553-0', usage_metadata={'input_tokens': 38, 'output_tokens': 13, 'total_tokens': 51, 'input_token_details': {'audio': 0, 'cache_read': 0}, 'output_token_details': {'audio': 0, 'reasoning': 0}}), HumanMessage(content='I am from bikaner , Rajasthan and i love Kesar khurmani , i done my  Mtech from IIT Dharwad and i am working as an ai intern at Tipstat.', additional_kwargs={}, response_metadata={}, id='2babaf69-d9de-4498-9b7e-eb56c63ad9ec')]}, next=('ChatBot',), config={'configurable': {'thread_id': '1', 'checkpoint_ns': '', 'checkpoint_id': '1f0737ac-921f-62b9-8006-8468629a98cb'}}, metadata={'source': 'loop', 'step': 6, 'parents': {}, 'thread_id': '1'}, created_at='2025-08-07T10:39:24.613489+00:00', parent_config={'configurable': {'thread_id': '1', 'checkpoint_ns': '', 'checkpoint_id': '1f0737ac-921d-6756-8005-321cf1b46f9d'}}, tasks=(PregelTask(id='6309349f-8994-2b2c-8381-e5f62b7fdb0e', name='ChatBot', path=('__pregel_pull', 'ChatBot'), error=None, interrupts=(), state=None, result={'messages': [AIMessage(content=\"That's great to hear, Alok! Bikaner is known for its rich culture and delicious food, and Kesar khurmani is definitely a treat. Congratulations on completing your M.Tech from IIT Dharwad! Working as an AI intern at Tipstat sounds exciting. What kind of projects are you working on there?\", additional_kwargs={'refusal': None}, response_metadata={'token_usage': {'completion_tokens': 64, 'prompt_tokens': 98, 'total_tokens': 162, 'completion_tokens_details': {'accepted_prediction_tokens': 0, 'audio_tokens': 0, 'reasoning_tokens': 0, 'rejected_prediction_tokens': 0}, 'prompt_tokens_details': {'audio_tokens': 0, 'cached_tokens': 0}}, 'model_name': 'gpt-4o-mini-2024-07-18', 'system_fingerprint': 'fp_62a23a81ef', 'id': 'chatcmpl-C1sJoWz0fKySj5b2Nwi4SZ2iSGfoy', 'service_tier': 'default', 'finish_reason': 'stop', 'logprobs': None}, id='run--9eaeab26-9f36-47d3-bedc-2d1e7da02e9d-0', usage_metadata={'input_tokens': 98, 'output_tokens': 64, 'total_tokens': 162, 'input_token_details': {'audio': 0, 'cache_read': 0}, 'output_token_details': {'audio': 0, 'reasoning': 0}})]}),), interrupts=()),\n",
       " StateSnapshot(values={'messages': [HumanMessage(content='Hi my name is alok', additional_kwargs={}, response_metadata={}, id='2585b561-d565-46ca-9f14-8deb8e7cb6ad'), AIMessage(content='Hi Alok! How can I assist you today?', additional_kwargs={'refusal': None}, response_metadata={'token_usage': {'completion_tokens': 11, 'prompt_tokens': 13, 'total_tokens': 24, 'completion_tokens_details': {'accepted_prediction_tokens': 0, 'audio_tokens': 0, 'reasoning_tokens': 0, 'rejected_prediction_tokens': 0}, 'prompt_tokens_details': {'audio_tokens': 0, 'cached_tokens': 0}}, 'model_name': 'gpt-4o-mini-2024-07-18', 'system_fingerprint': 'fp_34a54ae93c', 'id': 'chatcmpl-C1sJ69gCU31BXl3s9MZrMvHzuVi1B', 'service_tier': 'default', 'finish_reason': 'stop', 'logprobs': None}, id='run--898a6105-3a1a-42e5-9023-2f0e6f5b2c4d-0', usage_metadata={'input_tokens': 13, 'output_tokens': 11, 'total_tokens': 24, 'input_token_details': {'audio': 0, 'cache_read': 0}, 'output_token_details': {'audio': 0, 'reasoning': 0}}), HumanMessage(content='whats my anme ?', additional_kwargs={}, response_metadata={}, id='43f114a1-e13d-4875-9a8a-5cbd67b2ec99'), AIMessage(content='Your name is Alok. How can I help you today?', additional_kwargs={'refusal': None}, response_metadata={'token_usage': {'completion_tokens': 13, 'prompt_tokens': 38, 'total_tokens': 51, 'completion_tokens_details': {'accepted_prediction_tokens': 0, 'audio_tokens': 0, 'reasoning_tokens': 0, 'rejected_prediction_tokens': 0}, 'prompt_tokens_details': {'audio_tokens': 0, 'cached_tokens': 0}}, 'model_name': 'gpt-4o-mini-2024-07-18', 'system_fingerprint': 'fp_34a54ae93c', 'id': 'chatcmpl-C1sJCahfIEXu6Nu8q8A2Mwa7cvLjD', 'service_tier': 'default', 'finish_reason': 'stop', 'logprobs': None}, id='run--c33afc0c-598c-47ad-bf87-f23e87ed9553-0', usage_metadata={'input_tokens': 38, 'output_tokens': 13, 'total_tokens': 51, 'input_token_details': {'audio': 0, 'cache_read': 0}, 'output_token_details': {'audio': 0, 'reasoning': 0}})]}, next=('__start__',), config={'configurable': {'thread_id': '1', 'checkpoint_ns': '', 'checkpoint_id': '1f0737ac-921d-6756-8005-321cf1b46f9d'}}, metadata={'source': 'input', 'step': 5, 'parents': {}, 'thread_id': '1'}, created_at='2025-08-07T10:39:24.612779+00:00', parent_config={'configurable': {'thread_id': '1', 'checkpoint_ns': '', 'checkpoint_id': '1f0737ab-2fa5-61da-8004-13caf2d814ec'}}, tasks=(PregelTask(id='fba5ae78-a435-6e73-4bdb-e4563c92e1a0', name='__start__', path=('__pregel_pull', '__start__'), error=None, interrupts=(), state=None, result={'messages': [{'role': 'user', 'content': 'I am from bikaner , Rajasthan and i love Kesar khurmani , i done my  Mtech from IIT Dharwad and i am working as an ai intern at Tipstat.'}]}),), interrupts=()),\n",
       " StateSnapshot(values={'messages': [HumanMessage(content='Hi my name is alok', additional_kwargs={}, response_metadata={}, id='2585b561-d565-46ca-9f14-8deb8e7cb6ad'), AIMessage(content='Hi Alok! How can I assist you today?', additional_kwargs={'refusal': None}, response_metadata={'token_usage': {'completion_tokens': 11, 'prompt_tokens': 13, 'total_tokens': 24, 'completion_tokens_details': {'accepted_prediction_tokens': 0, 'audio_tokens': 0, 'reasoning_tokens': 0, 'rejected_prediction_tokens': 0}, 'prompt_tokens_details': {'audio_tokens': 0, 'cached_tokens': 0}}, 'model_name': 'gpt-4o-mini-2024-07-18', 'system_fingerprint': 'fp_34a54ae93c', 'id': 'chatcmpl-C1sJ69gCU31BXl3s9MZrMvHzuVi1B', 'service_tier': 'default', 'finish_reason': 'stop', 'logprobs': None}, id='run--898a6105-3a1a-42e5-9023-2f0e6f5b2c4d-0', usage_metadata={'input_tokens': 13, 'output_tokens': 11, 'total_tokens': 24, 'input_token_details': {'audio': 0, 'cache_read': 0}, 'output_token_details': {'audio': 0, 'reasoning': 0}}), HumanMessage(content='whats my anme ?', additional_kwargs={}, response_metadata={}, id='43f114a1-e13d-4875-9a8a-5cbd67b2ec99'), AIMessage(content='Your name is Alok. How can I help you today?', additional_kwargs={'refusal': None}, response_metadata={'token_usage': {'completion_tokens': 13, 'prompt_tokens': 38, 'total_tokens': 51, 'completion_tokens_details': {'accepted_prediction_tokens': 0, 'audio_tokens': 0, 'reasoning_tokens': 0, 'rejected_prediction_tokens': 0}, 'prompt_tokens_details': {'audio_tokens': 0, 'cached_tokens': 0}}, 'model_name': 'gpt-4o-mini-2024-07-18', 'system_fingerprint': 'fp_34a54ae93c', 'id': 'chatcmpl-C1sJCahfIEXu6Nu8q8A2Mwa7cvLjD', 'service_tier': 'default', 'finish_reason': 'stop', 'logprobs': None}, id='run--c33afc0c-598c-47ad-bf87-f23e87ed9553-0', usage_metadata={'input_tokens': 38, 'output_tokens': 13, 'total_tokens': 51, 'input_token_details': {'audio': 0, 'cache_read': 0}, 'output_token_details': {'audio': 0, 'reasoning': 0}})]}, next=(), config={'configurable': {'thread_id': '1', 'checkpoint_ns': '', 'checkpoint_id': '1f0737ab-2fa5-61da-8004-13caf2d814ec'}}, metadata={'source': 'loop', 'step': 4, 'parents': {}, 'thread_id': '1'}, created_at='2025-08-07T10:38:47.443898+00:00', parent_config={'configurable': {'thread_id': '1', 'checkpoint_ns': '', 'checkpoint_id': '1f0737ab-25fc-6037-8003-b7521f38ff53'}}, tasks=(), interrupts=()),\n",
       " StateSnapshot(values={'messages': [HumanMessage(content='Hi my name is alok', additional_kwargs={}, response_metadata={}, id='2585b561-d565-46ca-9f14-8deb8e7cb6ad'), AIMessage(content='Hi Alok! How can I assist you today?', additional_kwargs={'refusal': None}, response_metadata={'token_usage': {'completion_tokens': 11, 'prompt_tokens': 13, 'total_tokens': 24, 'completion_tokens_details': {'accepted_prediction_tokens': 0, 'audio_tokens': 0, 'reasoning_tokens': 0, 'rejected_prediction_tokens': 0}, 'prompt_tokens_details': {'audio_tokens': 0, 'cached_tokens': 0}}, 'model_name': 'gpt-4o-mini-2024-07-18', 'system_fingerprint': 'fp_34a54ae93c', 'id': 'chatcmpl-C1sJ69gCU31BXl3s9MZrMvHzuVi1B', 'service_tier': 'default', 'finish_reason': 'stop', 'logprobs': None}, id='run--898a6105-3a1a-42e5-9023-2f0e6f5b2c4d-0', usage_metadata={'input_tokens': 13, 'output_tokens': 11, 'total_tokens': 24, 'input_token_details': {'audio': 0, 'cache_read': 0}, 'output_token_details': {'audio': 0, 'reasoning': 0}}), HumanMessage(content='whats my anme ?', additional_kwargs={}, response_metadata={}, id='43f114a1-e13d-4875-9a8a-5cbd67b2ec99')]}, next=('ChatBot',), config={'configurable': {'thread_id': '1', 'checkpoint_ns': '', 'checkpoint_id': '1f0737ab-25fc-6037-8003-b7521f38ff53'}}, metadata={'source': 'loop', 'step': 3, 'parents': {}, 'thread_id': '1'}, created_at='2025-08-07T10:38:46.430922+00:00', parent_config={'configurable': {'thread_id': '1', 'checkpoint_ns': '', 'checkpoint_id': '1f0737ab-25fa-6301-8002-a7a095395786'}}, tasks=(PregelTask(id='60871435-54d3-e5a2-191c-ad197fe44ca6', name='ChatBot', path=('__pregel_pull', 'ChatBot'), error=None, interrupts=(), state=None, result={'messages': [AIMessage(content='Your name is Alok. How can I help you today?', additional_kwargs={'refusal': None}, response_metadata={'token_usage': {'completion_tokens': 13, 'prompt_tokens': 38, 'total_tokens': 51, 'completion_tokens_details': {'accepted_prediction_tokens': 0, 'audio_tokens': 0, 'reasoning_tokens': 0, 'rejected_prediction_tokens': 0}, 'prompt_tokens_details': {'audio_tokens': 0, 'cached_tokens': 0}}, 'model_name': 'gpt-4o-mini-2024-07-18', 'system_fingerprint': 'fp_34a54ae93c', 'id': 'chatcmpl-C1sJCahfIEXu6Nu8q8A2Mwa7cvLjD', 'service_tier': 'default', 'finish_reason': 'stop', 'logprobs': None}, id='run--c33afc0c-598c-47ad-bf87-f23e87ed9553-0', usage_metadata={'input_tokens': 38, 'output_tokens': 13, 'total_tokens': 51, 'input_token_details': {'audio': 0, 'cache_read': 0}, 'output_token_details': {'audio': 0, 'reasoning': 0}})]}),), interrupts=()),\n",
       " StateSnapshot(values={'messages': [HumanMessage(content='Hi my name is alok', additional_kwargs={}, response_metadata={}, id='2585b561-d565-46ca-9f14-8deb8e7cb6ad'), AIMessage(content='Hi Alok! How can I assist you today?', additional_kwargs={'refusal': None}, response_metadata={'token_usage': {'completion_tokens': 11, 'prompt_tokens': 13, 'total_tokens': 24, 'completion_tokens_details': {'accepted_prediction_tokens': 0, 'audio_tokens': 0, 'reasoning_tokens': 0, 'rejected_prediction_tokens': 0}, 'prompt_tokens_details': {'audio_tokens': 0, 'cached_tokens': 0}}, 'model_name': 'gpt-4o-mini-2024-07-18', 'system_fingerprint': 'fp_34a54ae93c', 'id': 'chatcmpl-C1sJ69gCU31BXl3s9MZrMvHzuVi1B', 'service_tier': 'default', 'finish_reason': 'stop', 'logprobs': None}, id='run--898a6105-3a1a-42e5-9023-2f0e6f5b2c4d-0', usage_metadata={'input_tokens': 13, 'output_tokens': 11, 'total_tokens': 24, 'input_token_details': {'audio': 0, 'cache_read': 0}, 'output_token_details': {'audio': 0, 'reasoning': 0}})]}, next=('__start__',), config={'configurable': {'thread_id': '1', 'checkpoint_ns': '', 'checkpoint_id': '1f0737ab-25fa-6301-8002-a7a095395786'}}, metadata={'source': 'input', 'step': 2, 'parents': {}, 'thread_id': '1'}, created_at='2025-08-07T10:38:46.430170+00:00', parent_config={'configurable': {'thread_id': '1', 'checkpoint_ns': '', 'checkpoint_id': '1f0737aa-fc2d-68bf-8001-bb50a1c4cd0a'}}, tasks=(PregelTask(id='fbb35a72-fb83-8a96-7472-afb0b8dbdb25', name='__start__', path=('__pregel_pull', '__start__'), error=None, interrupts=(), state=None, result={'messages': [{'role': 'user', 'content': 'whats my anme ?'}]}),), interrupts=()),\n",
       " StateSnapshot(values={'messages': [HumanMessage(content='Hi my name is alok', additional_kwargs={}, response_metadata={}, id='2585b561-d565-46ca-9f14-8deb8e7cb6ad'), AIMessage(content='Hi Alok! How can I assist you today?', additional_kwargs={'refusal': None}, response_metadata={'token_usage': {'completion_tokens': 11, 'prompt_tokens': 13, 'total_tokens': 24, 'completion_tokens_details': {'accepted_prediction_tokens': 0, 'audio_tokens': 0, 'reasoning_tokens': 0, 'rejected_prediction_tokens': 0}, 'prompt_tokens_details': {'audio_tokens': 0, 'cached_tokens': 0}}, 'model_name': 'gpt-4o-mini-2024-07-18', 'system_fingerprint': 'fp_34a54ae93c', 'id': 'chatcmpl-C1sJ69gCU31BXl3s9MZrMvHzuVi1B', 'service_tier': 'default', 'finish_reason': 'stop', 'logprobs': None}, id='run--898a6105-3a1a-42e5-9023-2f0e6f5b2c4d-0', usage_metadata={'input_tokens': 13, 'output_tokens': 11, 'total_tokens': 24, 'input_token_details': {'audio': 0, 'cache_read': 0}, 'output_token_details': {'audio': 0, 'reasoning': 0}})]}, next=(), config={'configurable': {'thread_id': '1', 'checkpoint_ns': '', 'checkpoint_id': '1f0737aa-fc2d-68bf-8001-bb50a1c4cd0a'}}, metadata={'source': 'loop', 'step': 1, 'parents': {}, 'thread_id': '1'}, created_at='2025-08-07T10:38:42.047185+00:00', parent_config={'configurable': {'thread_id': '1', 'checkpoint_ns': '', 'checkpoint_id': '1f0737aa-f062-6efc-8000-74e3cd1f5213'}}, tasks=(), interrupts=()),\n",
       " StateSnapshot(values={'messages': [HumanMessage(content='Hi my name is alok', additional_kwargs={}, response_metadata={}, id='2585b561-d565-46ca-9f14-8deb8e7cb6ad')]}, next=('ChatBot',), config={'configurable': {'thread_id': '1', 'checkpoint_ns': '', 'checkpoint_id': '1f0737aa-f062-6efc-8000-74e3cd1f5213'}}, metadata={'source': 'loop', 'step': 0, 'parents': {}, 'thread_id': '1'}, created_at='2025-08-07T10:38:40.810765+00:00', parent_config={'configurable': {'thread_id': '1', 'checkpoint_ns': '', 'checkpoint_id': '1f0737aa-f05e-6e56-bfff-bd9079267c19'}}, tasks=(PregelTask(id='da488b95-e3f5-07a2-8c0e-e71352a2b326', name='ChatBot', path=('__pregel_pull', 'ChatBot'), error=None, interrupts=(), state=None, result={'messages': [AIMessage(content='Hi Alok! How can I assist you today?', additional_kwargs={'refusal': None}, response_metadata={'token_usage': {'completion_tokens': 11, 'prompt_tokens': 13, 'total_tokens': 24, 'completion_tokens_details': {'accepted_prediction_tokens': 0, 'audio_tokens': 0, 'reasoning_tokens': 0, 'rejected_prediction_tokens': 0}, 'prompt_tokens_details': {'audio_tokens': 0, 'cached_tokens': 0}}, 'model_name': 'gpt-4o-mini-2024-07-18', 'system_fingerprint': 'fp_34a54ae93c', 'id': 'chatcmpl-C1sJ69gCU31BXl3s9MZrMvHzuVi1B', 'service_tier': 'default', 'finish_reason': 'stop', 'logprobs': None}, id='run--898a6105-3a1a-42e5-9023-2f0e6f5b2c4d-0', usage_metadata={'input_tokens': 13, 'output_tokens': 11, 'total_tokens': 24, 'input_token_details': {'audio': 0, 'cache_read': 0}, 'output_token_details': {'audio': 0, 'reasoning': 0}})]}),), interrupts=()),\n",
       " StateSnapshot(values={'messages': []}, next=('__start__',), config={'configurable': {'thread_id': '1', 'checkpoint_ns': '', 'checkpoint_id': '1f0737aa-f05e-6e56-bfff-bd9079267c19'}}, metadata={'source': 'input', 'step': -1, 'parents': {}, 'thread_id': '1'}, created_at='2025-08-07T10:38:40.809111+00:00', parent_config=None, tasks=(PregelTask(id='d2ff122c-0673-4602-3bba-82237ad6b0c8', name='__start__', path=('__pregel_pull', '__start__'), error=None, interrupts=(), state=None, result={'messages': [{'role': 'user', 'content': 'Hi my name is alok'}]}),), interrupts=())]"
      ]
     },
     "execution_count": 49,
     "metadata": {},
     "output_type": "execute_result"
    }
   ],
   "source": [
    "list(graph.get_state_history(config))"
   ]
  }
 ],
 "metadata": {
  "kernelspec": {
   "display_name": "Python 3",
   "language": "python",
   "name": "python3"
  },
  "language_info": {
   "codemirror_mode": {
    "name": "ipython",
    "version": 3
   },
   "file_extension": ".py",
   "mimetype": "text/x-python",
   "name": "python",
   "nbconvert_exporter": "python",
   "pygments_lexer": "ipython3",
   "version": "3.13.5"
  }
 },
 "nbformat": 4,
 "nbformat_minor": 5
}

{
 "cells": [
  {
   "cell_type": "markdown",
   "id": "b1f9692c",
   "metadata": {},
   "source": [
    "# Basics of Asynchronus Programming"
   ]
  },
  {
   "cell_type": "code",
   "execution_count": null,
   "id": "3b9d52b1",
   "metadata": {},
   "outputs": [],
   "source": [
    "# Bsics of Python Asyncio\n",
    "import asyncio\n",
    "\n",
    "async def say_hello():\n",
    "    print(\"Hello\")\n",
    "    await asyncio.sleep(2)\n",
    "    print(\"World\")"
   ]
  },
  {
   "cell_type": "markdown",
   "id": "00f5a8b9",
   "metadata": {},
   "source": [
    "### NOTE: \n",
    "`asyncio.run(say_hello())` : This line is used to run the asynchronous function say_hello.\n",
    "This function call is used in Python scripts to start the event loop and execute the asynchronous code."
   ]
  },
  {
   "cell_type": "code",
   "execution_count": 7,
   "id": "73f65381",
   "metadata": {},
   "outputs": [
    {
     "name": "stdout",
     "output_type": "stream",
     "text": [
      "Hello\n",
      "World\n"
     ]
    }
   ],
   "source": [
    "# asyncio.run(say_hello()) : This line is used to run the asynchronous function say_hello.\n",
    "# It is commented out to prevent execution in this context. \n",
    "# This function call is used in Python scripts to start the event loop and execute the asynchronous code.\n",
    "\n",
    "\n",
    "# For jupiter notebooks, you can use the following line to run the asynchronous function:\n",
    "# await say_hello() : This line is used to run the asynchronous function say_hello\n",
    "\n",
    "await say_hello()  # Uncomment this line to run the function in a Jupyter notebook context"
   ]
  }
 ],
 "metadata": {
  "kernelspec": {
   "display_name": "Python 3",
   "language": "python",
   "name": "python3"
  },
  "language_info": {
   "codemirror_mode": {
    "name": "ipython",
    "version": 3
   },
   "file_extension": ".py",
   "mimetype": "text/x-python",
   "name": "python",
   "nbconvert_exporter": "python",
   "pygments_lexer": "ipython3",
   "version": "3.13.5"
  }
 },
 "nbformat": 4,
 "nbformat_minor": 5
}

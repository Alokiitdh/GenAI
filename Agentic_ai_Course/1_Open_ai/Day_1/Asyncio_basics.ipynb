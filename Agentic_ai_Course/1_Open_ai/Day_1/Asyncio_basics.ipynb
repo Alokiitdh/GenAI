{
 "cells": [
  {
   "cell_type": "markdown",
   "id": "b1f9692c",
   "metadata": {},
   "source": [
    "# 1.Basics of Asynchronus Programming"
   ]
  },
  {
   "cell_type": "markdown",
   "id": "91a88afc",
   "metadata": {},
   "source": [
    "We can use `await` key word always inside a couritine function."
   ]
  },
  {
   "cell_type": "code",
   "execution_count": null,
   "id": "3b9d52b1",
   "metadata": {},
   "outputs": [],
   "source": [
    "# Bsics of Python Asyncio\n",
    "import asyncio\n",
    "\n",
    "async def say_hello():\n",
    "    print(\"Hello\")\n",
    "    await asyncio.sleep(2)\n",
    "    print(\"World\")"
   ]
  },
  {
   "cell_type": "markdown",
   "id": "00f5a8b9",
   "metadata": {},
   "source": [
    "### NOTE: \n",
    "`asyncio.run(say_hello())` : This line is used to run the asynchronous function say_hello.\n",
    "This function call is used in Python scripts to start the event loop and execute the asynchronous code."
   ]
  },
  {
   "cell_type": "code",
   "execution_count": 7,
   "id": "73f65381",
   "metadata": {},
   "outputs": [
    {
     "name": "stdout",
     "output_type": "stream",
     "text": [
      "Hello\n",
      "World\n"
     ]
    }
   ],
   "source": [
    "# asyncio.run(say_hello()) : This line is used to run the asynchronous function say_hello.\n",
    "# It is commented out to prevent execution in this context. \n",
    "# This function call is used in Python scripts to start the event loop and execute the asynchronous code.\n",
    "\n",
    "\n",
    "# For jupiter notebooks, you can use the following line to run the asynchronous function:\n",
    "# await say_hello() : This line is used to run the asynchronous function say_hello\n",
    "\n",
    "await say_hello()  # Uncomment this line to run the function in a Jupyter notebook context"
   ]
  },
  {
   "cell_type": "markdown",
   "id": "af82d166",
   "metadata": {},
   "source": [
    "# 2. Running Multiple Tasks Concurrently\n",
    "This is where async really shines — doing many things at the same time without using threads."
   ]
  },
  {
   "cell_type": "markdown",
   "id": "b939e370",
   "metadata": {},
   "source": [
    "Concept: `asyncio.create_task()` and `asyncio.gather()`\n",
    "Two ways of running coroutines concurrently\n",
    "\n",
    "\n",
    "---\n",
    "\n",
    "### ✅ Refined Intuition:\n",
    "\n",
    "> Both `asyncio.gather()` and `asyncio.create_task()` are used to run multiple tasks at the same time.\n",
    "\n",
    "* `asyncio.gather()` is like saying:\n",
    "  **\"Here are some things I want to do — just run them all together and wait until they're done.\"**\n",
    "\n",
    "* `asyncio.create_task()` is like saying:\n",
    "  **\"Start this task right now, and I’ll keep a reference to it so I can cancel it or check on it later.\"**\n",
    "\n",
    "So:\n",
    "\n",
    "* Use `gather()` when you just want to run and wait for multiple things to finish.\n",
    "* Use `create_task()` when you want **more control** over how tasks run — like starting them earlier, cancelling, or running them in the background while doing other work.\n",
    "\n",
    "---\n",
    "\n",
    "### 🍽️ Analogy (Cooking Style):\n",
    "\n",
    "| You Want to Cook 3 Dishes | What You Say                                                       |\n",
    "| ------------------------- | ------------------------------------------------------------------ |\n",
    "| `gather()`                | “Cook all 3 together and tell me when they're done.”               |\n",
    "| `create_task()`           | “Start each one now — I’ll keep track of them and check in later.” |\n",
    "\n",
    "---\n",
    "\n"
   ]
  },
  {
   "cell_type": "code",
   "execution_count": 11,
   "id": "0b1066b5",
   "metadata": {},
   "outputs": [
    {
     "name": "stdout",
     "output_type": "stream",
     "text": [
      "Task B completed after 1 seconds.\n",
      "Task A completed after 2 seconds.\n",
      "Task C completed after 3 seconds.\n"
     ]
    }
   ],
   "source": [
    "import asyncio\n",
    "\n",
    "async def task_scheduler(delay, task_name):\n",
    "    await asyncio.sleep(delay)\n",
    "    print(f\"Task {task_name} completed after {delay} seconds.\")\n",
    "\n",
    "async def main():\n",
    "    task1 = asyncio.create_task(task_scheduler(2, \"A\"))\n",
    "    task2 = asyncio.create_task(task_scheduler(1, \"B\"))\n",
    "    task3 = asyncio.create_task(task_scheduler(3, \"C\"))\n",
    "    await asyncio.gather(task1, task2, task3)\n",
    "\n",
    "# Run the main function\n",
    "await main()\n"
   ]
  },
  {
   "cell_type": "code",
   "execution_count": null,
   "id": "1dd232f5",
   "metadata": {},
   "outputs": [
    {
     "name": "stdout",
     "output_type": "stream",
     "text": [
      "Task B completed after 1 seconds.\n",
      "Task A completed after 2 seconds.\n",
      "Task C completed after 3 seconds.\n"
     ]
    }
   ],
   "source": [
    "import asyncio\n",
    "\n",
    "async def task_scheduler(delay, task_name):\n",
    "    await asyncio.sleep(delay)\n",
    "    print(f\"Task {task_name} completed after {delay} seconds.\")\n",
    "\n",
    "async def main():\n",
    "    tasks = [\n",
    "        task_scheduler(2, \"A\"),\n",
    "        task_scheduler(1, \"B\"),\n",
    "        task_scheduler(3, \"C\")\n",
    "    ]\n",
    "    await asyncio.gather(*tasks)    \n",
    "\n",
    "# Run the main function to execute the tasks concurrently\n",
    "await main()"
   ]
  }
 ],
 "metadata": {
  "kernelspec": {
   "display_name": "Python 3",
   "language": "python",
   "name": "python3"
  },
  "language_info": {
   "codemirror_mode": {
    "name": "ipython",
    "version": 3
   },
   "file_extension": ".py",
   "mimetype": "text/x-python",
   "name": "python",
   "nbconvert_exporter": "python",
   "pygments_lexer": "ipython3",
   "version": "3.13.5"
  }
 },
 "nbformat": 4,
 "nbformat_minor": 5
}

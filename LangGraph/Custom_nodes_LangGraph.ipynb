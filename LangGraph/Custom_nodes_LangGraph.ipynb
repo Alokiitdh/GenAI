{
  "metadata": {
    "kernelspec": {
      "language": "python",
      "display_name": "Python 3",
      "name": "python3"
    },
    "language_info": {
      "name": "python",
      "version": "3.11.11",
      "mimetype": "text/x-python",
      "codemirror_mode": {
        "name": "ipython",
        "version": 3
      },
      "pygments_lexer": "ipython3",
      "nbconvert_exporter": "python",
      "file_extension": ".py"
    },
    "kaggle": {
      "accelerator": "none",
      "dataSources": [],
      "dockerImageVersionId": 31012,
      "isInternetEnabled": true,
      "language": "python",
      "sourceType": "notebook",
      "isGpuEnabled": false
    },
    "colab": {
      "provenance": []
    }
  },
  "nbformat_minor": 0,
  "nbformat": 4,
  "cells": [
    {
      "cell_type": "code",
      "source": [
        "!pip install -q langgraph langsmith langchain langchain_groq langchain_community langchain-core langchainhub langgraph-supervisor"
      ],
      "metadata": {
        "trusted": true,
        "execution": {
          "iopub.status.busy": "2025-05-11T05:29:49.311723Z",
          "iopub.execute_input": "2025-05-11T05:29:49.312038Z",
          "iopub.status.idle": "2025-05-11T05:30:08.136369Z",
          "shell.execute_reply.started": "2025-05-11T05:29:49.312006Z",
          "shell.execute_reply": "2025-05-11T05:30:08.135203Z"
        },
        "colab": {
          "base_uri": "https://localhost:8080/"
        },
        "id": "hSblGGjO5nWh",
        "outputId": "d1f0cce5-ed8a-4a2d-d2e6-e2cdd6b7469e"
      },
      "outputs": [
        {
          "output_type": "stream",
          "name": "stdout",
          "text": [
            "\u001b[2K     \u001b[90m━━━━━━━━━━━━━━━━━━━━━━━━━━━━━━━━━━━━━━━━\u001b[0m \u001b[32m43.5/43.5 kB\u001b[0m \u001b[31m1.7 MB/s\u001b[0m eta \u001b[36m0:00:00\u001b[0m\n",
            "\u001b[2K   \u001b[90m━━━━━━━━━━━━━━━━━━━━━━━━━━━━━━━━━━━━━━━━\u001b[0m \u001b[32m151.2/151.2 kB\u001b[0m \u001b[31m5.7 MB/s\u001b[0m eta \u001b[36m0:00:00\u001b[0m\n",
            "\u001b[2K   \u001b[90m━━━━━━━━━━━━━━━━━━━━━━━━━━━━━━━━━━━━━━━━\u001b[0m \u001b[32m2.5/2.5 MB\u001b[0m \u001b[31m17.0 MB/s\u001b[0m eta \u001b[36m0:00:00\u001b[0m\n",
            "\u001b[2K   \u001b[90m━━━━━━━━━━━━━━━━━━━━━━━━━━━━━━━━━━━━━━━━\u001b[0m \u001b[32m127.5/127.5 kB\u001b[0m \u001b[31m7.0 MB/s\u001b[0m eta \u001b[36m0:00:00\u001b[0m\n",
            "\u001b[2K   \u001b[90m━━━━━━━━━━━━━━━━━━━━━━━━━━━━━━━━━━━━━━━━\u001b[0m \u001b[32m42.3/42.3 kB\u001b[0m \u001b[31m1.6 MB/s\u001b[0m eta \u001b[36m0:00:00\u001b[0m\n",
            "\u001b[2K   \u001b[90m━━━━━━━━━━━━━━━━━━━━━━━━━━━━━━━━━━━━━━━━\u001b[0m \u001b[32m47.6/47.6 kB\u001b[0m \u001b[31m1.7 MB/s\u001b[0m eta \u001b[36m0:00:00\u001b[0m\n",
            "\u001b[2K   \u001b[90m━━━━━━━━━━━━━━━━━━━━━━━━━━━━━━━━━━━━━━━━\u001b[0m \u001b[32m44.4/44.4 kB\u001b[0m \u001b[31m1.3 MB/s\u001b[0m eta \u001b[36m0:00:00\u001b[0m\n",
            "\u001b[2K   \u001b[90m━━━━━━━━━━━━━━━━━━━━━━━━━━━━━━━━━━━━━━━━\u001b[0m \u001b[32m194.8/194.8 kB\u001b[0m \u001b[31m9.8 MB/s\u001b[0m eta \u001b[36m0:00:00\u001b[0m\n",
            "\u001b[2K   \u001b[90m━━━━━━━━━━━━━━━━━━━━━━━━━━━━━━━━━━━━━━━━\u001b[0m \u001b[32m50.9/50.9 kB\u001b[0m \u001b[31m2.8 MB/s\u001b[0m eta \u001b[36m0:00:00\u001b[0m\n",
            "\u001b[2K   \u001b[90m━━━━━━━━━━━━━━━━━━━━━━━━━━━━━━━━━━━━━━━━\u001b[0m \u001b[32m223.6/223.6 kB\u001b[0m \u001b[31m8.9 MB/s\u001b[0m eta \u001b[36m0:00:00\u001b[0m\n",
            "\u001b[?25h"
          ]
        }
      ],
      "execution_count": 1
    },
    {
      "cell_type": "markdown",
      "source": [
        "## Get API Key"
      ],
      "metadata": {
        "id": "9VAHSB2U5nWi"
      }
    },
    {
      "cell_type": "code",
      "source": [
        "import os\n",
        "import getpass\n",
        "if \"GROQ_API_KEY\" not in os.environ:\n",
        "    os.environ[\"GROQ_API_KEY\"] = getpass.getpass(\"Enter your Groq API key: \")\n"
      ],
      "metadata": {
        "trusted": true,
        "execution": {
          "iopub.status.busy": "2025-05-11T05:30:18.558783Z",
          "iopub.execute_input": "2025-05-11T05:30:18.559417Z",
          "iopub.status.idle": "2025-05-11T05:30:22.014350Z",
          "shell.execute_reply.started": "2025-05-11T05:30:18.559382Z",
          "shell.execute_reply": "2025-05-11T05:30:22.013215Z"
        },
        "colab": {
          "base_uri": "https://localhost:8080/"
        },
        "id": "t03F4YPZ5nWj",
        "outputId": "3ff22787-3ff7-4f68-e9bc-54b8a550df96"
      },
      "outputs": [
        {
          "name": "stdout",
          "output_type": "stream",
          "text": [
            "Enter your Groq API key: ··········\n"
          ]
        }
      ],
      "execution_count": 2
    },
    {
      "cell_type": "markdown",
      "source": [
        "## LLM Defined"
      ],
      "metadata": {
        "id": "xyzAJHBb5nWj"
      }
    },
    {
      "cell_type": "code",
      "source": [
        "from langchain_groq import ChatGroq\n",
        "\n",
        "llm = ChatGroq(\n",
        "    groq_api_key = os.environ['GROQ_API_KEY'],\n",
        "    model = 'gemma2-9b-it',\n",
        "    temperature = 0.2\n",
        "\n",
        ")\n",
        "print(llm)"
      ],
      "metadata": {
        "trusted": true,
        "execution": {
          "iopub.status.busy": "2025-05-11T05:30:25.492609Z",
          "iopub.execute_input": "2025-05-11T05:30:25.492950Z",
          "iopub.status.idle": "2025-05-11T05:30:27.668099Z",
          "shell.execute_reply.started": "2025-05-11T05:30:25.492925Z",
          "shell.execute_reply": "2025-05-11T05:30:27.667190Z"
        },
        "colab": {
          "base_uri": "https://localhost:8080/"
        },
        "id": "aFE-5g1q5nWj",
        "outputId": "381d6a34-95c0-4d77-8dcf-7d31770dd195"
      },
      "outputs": [
        {
          "output_type": "stream",
          "name": "stdout",
          "text": [
            "client=<groq.resources.chat.completions.Completions object at 0x7c6f57d14f90> async_client=<groq.resources.chat.completions.AsyncCompletions object at 0x7c6f57d35a90> model_name='gemma2-9b-it' temperature=0.2 model_kwargs={} groq_api_key=SecretStr('**********')\n"
          ]
        }
      ],
      "execution_count": 34
    },
    {
      "cell_type": "markdown",
      "source": [
        "## State"
      ],
      "metadata": {
        "id": "fc1qI5Dn5nWj"
      }
    },
    {
      "cell_type": "code",
      "source": [
        "from typing_extensions import TypedDict\n",
        "from typing import Annotated\n",
        "from langgraph.graph.message import add_messages\n",
        "\n",
        "class State(TypedDict):\n",
        "    messages: Annotated[list, add_messages]"
      ],
      "metadata": {
        "trusted": true,
        "execution": {
          "iopub.status.busy": "2025-05-11T05:43:42.714505Z",
          "iopub.execute_input": "2025-05-11T05:43:42.714796Z",
          "iopub.status.idle": "2025-05-11T05:43:42.719857Z",
          "shell.execute_reply.started": "2025-05-11T05:43:42.714777Z",
          "shell.execute_reply": "2025-05-11T05:43:42.718957Z"
        },
        "id": "IIzS3rIF5nWj"
      },
      "outputs": [],
      "execution_count": 35
    },
    {
      "cell_type": "markdown",
      "source": [
        "## Custom tools"
      ],
      "metadata": {
        "id": "ZHLoCZvb5nWk"
      }
    },
    {
      "cell_type": "code",
      "source": [
        "from langgraph.prebuilt import create_react_agent\n",
        "from langgraph_supervisor import create_supervisor\n",
        "\n",
        "from langchain.tools import Tool"
      ],
      "metadata": {
        "trusted": true,
        "execution": {
          "iopub.status.busy": "2025-05-11T05:43:44.723779Z",
          "iopub.execute_input": "2025-05-11T05:43:44.724182Z",
          "iopub.status.idle": "2025-05-11T05:43:44.729341Z",
          "shell.execute_reply.started": "2025-05-11T05:43:44.724158Z",
          "shell.execute_reply": "2025-05-11T05:43:44.727919Z"
        },
        "id": "m6tPfGUl5nWk"
      },
      "outputs": [],
      "execution_count": 36
    },
    {
      "cell_type": "code",
      "source": [
        "## define tool function\n",
        "\n",
        "def multiply(a: int, b: int) -> int:\n",
        "    \"\"\"Multiply a and b.\n",
        "\n",
        "    Args:\n",
        "        a: first int\n",
        "        b: second int\n",
        "    \"\"\"\n",
        "    return a * b\n",
        "\n",
        "mul_tool = Tool.from_function(\n",
        "    name = 'Multiply',\n",
        "    func = multiply,\n",
        "    description = 'Multiplication of Two numbers'\n",
        ")\n",
        "\n",
        "\n",
        "\n",
        "def add(a: int, b: int) -> int:\n",
        "    \"\"\"\n",
        "    Add a and b\n",
        "\n",
        "    Args:\n",
        "    a: First int\n",
        "    b: Second Integer\n",
        "    \"\"\"\n",
        "    return a+b\n",
        "\n",
        "add_tool = Tool.from_function(\n",
        "    name = 'Add',\n",
        "    func = add,\n",
        "    description = 'Addition of Two numbers'\n",
        "\n",
        ")\n",
        "\n",
        "\n",
        "def divide(a: int, b: int) -> float:\n",
        "    \"\"\"\n",
        "    Divide a and b\n",
        "\n",
        "    Args:\n",
        "    a: First int\n",
        "    b: Second Integer\n",
        "    \"\"\"\n",
        "    return a/b\n",
        "\n",
        "div_tool = Tool.from_function(\n",
        "    name = 'Divide',\n",
        "    func = divide,\n",
        "    description = 'Division of Two numbers'\n",
        "\n",
        ")"
      ],
      "metadata": {
        "trusted": true,
        "execution": {
          "iopub.status.busy": "2025-05-11T05:30:31.911445Z",
          "iopub.execute_input": "2025-05-11T05:30:31.911783Z",
          "iopub.status.idle": "2025-05-11T05:30:31.919456Z",
          "shell.execute_reply.started": "2025-05-11T05:30:31.911748Z",
          "shell.execute_reply": "2025-05-11T05:30:31.918213Z"
        },
        "id": "qiY2vpCy5nWk"
      },
      "outputs": [],
      "execution_count": 37
    },
    {
      "cell_type": "code",
      "source": [
        "tool_list = [mul_tool, add_tool, div_tool]\n",
        "\n",
        "\n",
        "llm_with_tools = llm.bind_tools(tools=tool_list)\n",
        "\n",
        "print(llm_with_tools)"
      ],
      "metadata": {
        "trusted": true,
        "execution": {
          "iopub.status.busy": "2025-05-11T05:43:49.835007Z",
          "iopub.execute_input": "2025-05-11T05:43:49.835334Z",
          "iopub.status.idle": "2025-05-11T05:43:49.868209Z",
          "shell.execute_reply.started": "2025-05-11T05:43:49.835308Z",
          "shell.execute_reply": "2025-05-11T05:43:49.867371Z"
        },
        "colab": {
          "base_uri": "https://localhost:8080/"
        },
        "id": "WNbUrRMj5nWk",
        "outputId": "2f467ff8-f42d-4f96-8d93-6f0efd1e67dc"
      },
      "outputs": [
        {
          "output_type": "stream",
          "name": "stdout",
          "text": [
            "bound=ChatGroq(client=<groq.resources.chat.completions.Completions object at 0x7c6f57d14f90>, async_client=<groq.resources.chat.completions.AsyncCompletions object at 0x7c6f57d35a90>, model_name='gemma2-9b-it', temperature=0.2, model_kwargs={}, groq_api_key=SecretStr('**********')) kwargs={'tools': [{'type': 'function', 'function': {'name': 'Multiply', 'description': 'Multiplication of Two numbers', 'parameters': {'properties': {'__arg1': {'title': '__arg1', 'type': 'string'}}, 'required': ['__arg1'], 'type': 'object'}}}, {'type': 'function', 'function': {'name': 'Add', 'description': 'Addition of Two numbers', 'parameters': {'properties': {'__arg1': {'title': '__arg1', 'type': 'string'}}, 'required': ['__arg1'], 'type': 'object'}}}, {'type': 'function', 'function': {'name': 'Divide', 'description': 'Division of Two numbers', 'parameters': {'properties': {'__arg1': {'title': '__arg1', 'type': 'string'}}, 'required': ['__arg1'], 'type': 'object'}}}]} config={} config_factories=[]\n"
          ]
        }
      ],
      "execution_count": 38
    },
    {
      "cell_type": "code",
      "source": [
        "## defining Chat Bot Node and Tool Node\n",
        "from langgraph.prebuilt import ToolNode, tools_condition\n",
        "\n",
        "def chat_bot(state: State)-> State:\n",
        "    response = { 'messages' : llm_with_tools.invoke(state['messages'])}\n",
        "    return response\n",
        "\n",
        "tool_node = ToolNode(tools = tool_list)"
      ],
      "metadata": {
        "trusted": true,
        "execution": {
          "iopub.status.busy": "2025-05-11T05:45:20.995995Z",
          "iopub.execute_input": "2025-05-11T05:45:20.996348Z",
          "iopub.status.idle": "2025-05-11T05:45:21.003160Z",
          "shell.execute_reply.started": "2025-05-11T05:45:20.996321Z",
          "shell.execute_reply": "2025-05-11T05:45:21.001063Z"
        },
        "id": "jAVBnuog5nWk"
      },
      "outputs": [],
      "execution_count": 39
    },
    {
      "cell_type": "code",
      "source": [
        "from langgraph.graph import StateGraph, START, END\n",
        "\n",
        "builder = StateGraph(State)\n",
        "\n",
        "# Define nodes\n",
        "builder.add_node('Chat Bot', chat_bot)\n",
        "builder.add_node('tools', tool_node)\n",
        "\n",
        "## defining edges to connect\n",
        "builder.add_edge(START, 'Chat Bot')\n",
        "builder.add_conditional_edges('Chat Bot', tools_condition)\n",
        "builder.add_edge('tools', 'Chat Bot')\n",
        "builder.add_edge('Chat Bot', END)\n",
        "\n",
        "\n",
        "graph = builder.compile()"
      ],
      "metadata": {
        "trusted": true,
        "id": "rbwQlyDD5nWk"
      },
      "outputs": [],
      "execution_count": 40
    },
    {
      "cell_type": "code",
      "source": [
        "from IPython.display import Image, display\n",
        "\n",
        "try:\n",
        "    display(Image(graph.get_graph().draw_mermaid_png()))\n",
        "except Exception:\n",
        "    # This requires some extra dependencies and is optional\n",
        "    pass"
      ],
      "metadata": {
        "colab": {
          "base_uri": "https://localhost:8080/",
          "height": 266
        },
        "id": "OU0Hjr-j8Ofl",
        "outputId": "7c11e1db-1374-441a-bc88-f0476fa8258c"
      },
      "execution_count": 41,
      "outputs": [
        {
          "output_type": "display_data",
          "data": {
            "image/png": "[encoded data removed]",
            "text/plain": [
              "<IPython.core.display.Image object>"
            ]
          },
          "metadata": {}
        }
      ]
    },
    {
      "cell_type": "code",
      "source": [
        "from langchain_core.messages import HumanMessage\n",
        "\n",
        "\n",
        "while True:\n",
        "    user_input = input(\"User: \")\n",
        "    if user_input.lower() in [\"quit\", \"exit\", \"q\"]:\n",
        "        print(\"Goodbye!\")\n",
        "        break\n",
        "\n",
        "    user_msg = {\"messages\": [HumanMessage(content=user_input)]}\n",
        "\n",
        "    # Pass the user message to the graph\n",
        "    for event in graph.stream(user_msg):\n",
        "        for value in event.values():\n",
        "            # Extract assistant response from AIMessage\n",
        "            if hasattr(value['messages'], 'content'):\n",
        "                print(\"Assistant:\", value['messages'].content)\n"
      ],
      "metadata": {
        "colab": {
          "base_uri": "https://localhost:8080/"
        },
        "id": "UU0TLbGW8hFk",
        "outputId": "0ffddab8-fe3a-4c85-a659-61f26cae3eb2"
      },
      "execution_count": 44,
      "outputs": [
        {
          "output_type": "stream",
          "name": "stdout",
          "text": [
            "User: add 5 and 5\n",
            "Assistant: \n",
            "Assistant: \n",
            "Assistant: \n",
            "Assistant: \n",
            "Assistant: \n",
            "Assistant: \n",
            "Assistant: \n",
            "Assistant: \n",
            "Assistant: 10 \n",
            "\n",
            "User: q\n",
            "Goodbye!\n"
          ]
        }
      ]
    },
    {
      "cell_type": "markdown",
      "source": [
        "# Using Supervisor LangGraph Library"
      ],
      "metadata": {
        "id": "5Q4GWn4eElYE"
      }
    },
    {
      "cell_type": "code",
      "source": [
        "!pip install -q langgraph langsmith langchain langchain_groq langchain_community arxiv wikipedia langgraph-supervisor langchain_openai"
      ],
      "metadata": {
        "colab": {
          "base_uri": "https://localhost:8080/"
        },
        "id": "cv4R2pskHBlW",
        "outputId": "f468736a-5b8f-472d-e318-553dd2414494"
      },
      "execution_count": 1,
      "outputs": [
        {
          "output_type": "stream",
          "name": "stdout",
          "text": [
            "  Preparing metadata (setup.py) ... \u001b[?25l\u001b[?25hdone\n",
            "  Preparing metadata (setup.py) ... \u001b[?25l\u001b[?25hdone\n",
            "\u001b[2K     \u001b[90m━━━━━━━━━━━━━━━━━━━━━━━━━━━━━━━━━━━━━━━━\u001b[0m \u001b[32m43.5/43.5 kB\u001b[0m \u001b[31m2.5 MB/s\u001b[0m eta \u001b[36m0:00:00\u001b[0m\n",
            "\u001b[2K   \u001b[90m━━━━━━━━━━━━━━━━━━━━━━━━━━━━━━━━━━━━━━━━\u001b[0m \u001b[32m151.2/151.2 kB\u001b[0m \u001b[31m5.5 MB/s\u001b[0m eta \u001b[36m0:00:00\u001b[0m\n",
            "\u001b[2K   \u001b[90m━━━━━━━━━━━━━━━━━━━━━━━━━━━━━━━━━━━━━━━━\u001b[0m \u001b[32m2.5/2.5 MB\u001b[0m \u001b[31m42.4 MB/s\u001b[0m eta \u001b[36m0:00:00\u001b[0m\n",
            "\u001b[2K   \u001b[90m━━━━━━━━━━━━━━━━━━━━━━━━━━━━━━━━━━━━━━━━\u001b[0m \u001b[32m62.8/62.8 kB\u001b[0m \u001b[31m3.9 MB/s\u001b[0m eta \u001b[36m0:00:00\u001b[0m\n",
            "\u001b[2K   \u001b[90m━━━━━━━━━━━━━━━━━━━━━━━━━━━━━━━━━━━━━━━━\u001b[0m \u001b[32m81.3/81.3 kB\u001b[0m \u001b[31m5.5 MB/s\u001b[0m eta \u001b[36m0:00:00\u001b[0m\n",
            "\u001b[2K   \u001b[90m━━━━━━━━━━━━━━━━━━━━━━━━━━━━━━━━━━━━━━━━\u001b[0m \u001b[32m127.5/127.5 kB\u001b[0m \u001b[31m9.1 MB/s\u001b[0m eta \u001b[36m0:00:00\u001b[0m\n",
            "\u001b[2K   \u001b[90m━━━━━━━━━━━━━━━━━━━━━━━━━━━━━━━━━━━━━━━━\u001b[0m \u001b[32m437.7/437.7 kB\u001b[0m \u001b[31m29.3 MB/s\u001b[0m eta \u001b[36m0:00:00\u001b[0m\n",
            "\u001b[2K   \u001b[90m━━━━━━━━━━━━━━━━━━━━━━━━━━━━━━━━━━━━━━━━\u001b[0m \u001b[32m42.3/42.3 kB\u001b[0m \u001b[31m2.5 MB/s\u001b[0m eta \u001b[36m0:00:00\u001b[0m\n",
            "\u001b[2K   \u001b[90m━━━━━━━━━━━━━━━━━━━━━━━━━━━━━━━━━━━━━━━━\u001b[0m \u001b[32m47.6/47.6 kB\u001b[0m \u001b[31m3.2 MB/s\u001b[0m eta \u001b[36m0:00:00\u001b[0m\n",
            "\u001b[2K   \u001b[90m━━━━━━━━━━━━━━━━━━━━━━━━━━━━━━━━━━━━━━━━\u001b[0m \u001b[32m44.4/44.4 kB\u001b[0m \u001b[31m2.7 MB/s\u001b[0m eta \u001b[36m0:00:00\u001b[0m\n",
            "\u001b[2K   \u001b[90m━━━━━━━━━━━━━━━━━━━━━━━━━━━━━━━━━━━━━━━━\u001b[0m \u001b[32m1.2/1.2 MB\u001b[0m \u001b[31m52.3 MB/s\u001b[0m eta \u001b[36m0:00:00\u001b[0m\n",
            "\u001b[2K   \u001b[90m━━━━━━━━━━━━━━━━━━━━━━━━━━━━━━━━━━━━━━━━\u001b[0m \u001b[32m194.8/194.8 kB\u001b[0m \u001b[31m14.1 MB/s\u001b[0m eta \u001b[36m0:00:00\u001b[0m\n",
            "\u001b[2K   \u001b[90m━━━━━━━━━━━━━━━━━━━━━━━━━━━━━━━━━━━━━━━━\u001b[0m \u001b[32m50.9/50.9 kB\u001b[0m \u001b[31m1.8 MB/s\u001b[0m eta \u001b[36m0:00:00\u001b[0m\n",
            "\u001b[2K   \u001b[90m━━━━━━━━━━━━━━━━━━━━━━━━━━━━━━━━━━━━━━━━\u001b[0m \u001b[32m223.6/223.6 kB\u001b[0m \u001b[31m15.5 MB/s\u001b[0m eta \u001b[36m0:00:00\u001b[0m\n",
            "\u001b[?25h  Building wheel for wikipedia (setup.py) ... \u001b[?25l\u001b[?25hdone\n",
            "  Building wheel for sgmllib3k (setup.py) ... \u001b[?25l\u001b[?25hdone\n"
          ]
        }
      ]
    },
    {
      "cell_type": "code",
      "source": [
        "import os\n",
        "import getpass\n",
        "if \"OPEN_AI_KEY\" not in os.environ:\n",
        "    os.environ[\"OPEN_AI_KEY\"] = getpass.getpass(\"Enter your Open API key: \")\n"
      ],
      "metadata": {
        "colab": {
          "base_uri": "https://localhost:8080/"
        },
        "id": "fVuY8XwTHEzu",
        "outputId": "32ffb2ba-2da3-4cc5-d662-8fd5ebac3a55"
      },
      "execution_count": 2,
      "outputs": [
        {
          "name": "stdout",
          "output_type": "stream",
          "text": [
            "Enter your Open API key: ··········\n"
          ]
        }
      ]
    },
    {
      "cell_type": "code",
      "source": [
        "from langchain_openai import ChatOpenAI\n",
        "\n",
        "llm = ChatOpenAI(\n",
        "    api_key = os.environ['OPEN_AI_KEY'],\n",
        "\n",
        "    model = 'gpt-4o-mini',\n",
        "    temperature = 0.2\n",
        "\n",
        ")\n",
        "print(llm.invoke('Hii'))"
      ],
      "metadata": {
        "colab": {
          "base_uri": "https://localhost:8080/"
        },
        "id": "xdm4gPmSH17K",
        "outputId": "46d7fa68-f5c6-4399-deac-314050d22b84"
      },
      "execution_count": 3,
      "outputs": [
        {
          "output_type": "stream",
          "name": "stdout",
          "text": [
            "content='Hello! How can I assist you today?' additional_kwargs={'refusal': None} response_metadata={'token_usage': {'completion_tokens': 10, 'prompt_tokens': 9, 'total_tokens': 19, 'completion_tokens_details': {'accepted_prediction_tokens': 0, 'audio_tokens': 0, 'reasoning_tokens': 0, 'rejected_prediction_tokens': 0}, 'prompt_tokens_details': {'audio_tokens': 0, 'cached_tokens': 0}}, 'model_name': 'gpt-4o-mini-2024-07-18', 'system_fingerprint': 'fp_0392822090', 'id': 'chatcmpl-BW1no0X6qBfNFvkL80DQTXKy7kTxD', 'service_tier': 'default', 'finish_reason': 'stop', 'logprobs': None} id='run--1d9cf47e-1c1b-4b08-afcf-b82317413cb6-0' usage_metadata={'input_tokens': 9, 'output_tokens': 10, 'total_tokens': 19, 'input_token_details': {'audio': 0, 'cache_read': 0}, 'output_token_details': {'audio': 0, 'reasoning': 0}}\n"
          ]
        }
      ]
    },
    {
      "cell_type": "code",
      "source": [
        "from langchain.tools import StructuredTool\n",
        "\n",
        "## define tool function\n",
        "\n",
        "def multiply(a: int, b: int) -> int:\n",
        "    \"\"\"Multiply a and b.\n",
        "\n",
        "\n",
        "    Args:\n",
        "        a: first int\n",
        "        b: second int\n",
        "    \"\"\"\n",
        "    return a * b\n",
        "\n",
        "mul_tool = StructuredTool.from_function(\n",
        "    name = 'Multiply',\n",
        "    func = multiply,\n",
        "    description = 'Multiplication of Two numbers'\n",
        ")\n",
        "\n",
        "\n",
        "\n",
        "def add(a: int, b: int) -> int:\n",
        "    \"\"\"\n",
        "    Add a and b\n",
        "\n",
        "    Args:\n",
        "    a: First int\n",
        "    b: Second Integer\n",
        "    \"\"\"\n",
        "    return a+b\n",
        "\n",
        "add_tool = StructuredTool.from_function(\n",
        "    name = 'Add',\n",
        "    func = add,\n",
        "    description = 'Addition of Two numbers'\n",
        "\n",
        ")\n",
        "\n",
        "\n",
        "def divide(a: int, b: int) -> float:\n",
        "    \"\"\"\n",
        "    Divide a and b\n",
        "\n",
        "    Args:\n",
        "    a: First int\n",
        "    b: Second Integer\n",
        "    \"\"\"\n",
        "    return a/b\n",
        "\n",
        "div_tool = StructuredTool.from_function(\n",
        "    name = 'Divide',\n",
        "    func = divide,\n",
        "    description = 'Division of Two numbers'\n",
        "\n",
        ")"
      ],
      "metadata": {
        "id": "26eXztgPGotQ"
      },
      "execution_count": 4,
      "outputs": []
    },
    {
      "cell_type": "code",
      "source": [
        "## Getting tools for our Agent to acces\n",
        "from langchain_community.utilities import ArxivAPIWrapper, WikipediaAPIWrapper\n",
        "from langchain_community.tools import ArxivQueryRun, WikipediaQueryRun\n",
        "\n",
        "## Getting one document at a time and inside that document max 300 charcters\n",
        "\n",
        "\n",
        "arxiv_wrapper = ArxivAPIWrapper(top_k_results = 5,\n",
        "                                doc_content_chars_max = 3000\n",
        "                                )\n",
        "\n",
        "arxiv_tool = ArxivQueryRun(api_wrapper = arxiv_wrapper)\n",
        "\n",
        "\n",
        "\n",
        "\n",
        "wiki_wrapper = WikipediaAPIWrapper(top_k_results = 5,\n",
        "                                doc_content_chars_max = 3000\n",
        "                                  )\n",
        "wiki_tool = WikipediaQueryRun(api_wrapper = wiki_wrapper)"
      ],
      "metadata": {
        "id": "yyW6G74XG46T"
      },
      "execution_count": 5,
      "outputs": []
    },
    {
      "cell_type": "code",
      "source": [
        "tool_math = [mul_tool, add_tool, div_tool]\n",
        "\n",
        "tool_web = [arxiv_tool, wiki_tool]\n"
      ],
      "metadata": {
        "id": "sGFGEs3pGuWy"
      },
      "execution_count": 6,
      "outputs": []
    },
    {
      "cell_type": "code",
      "source": [
        "from langgraph.prebuilt import create_react_agent\n",
        "\n",
        "Mathematics_Agent = create_react_agent(\n",
        "    model=llm,\n",
        "    tools=tool_math,\n",
        "    name = 'MathAgent',\n",
        "    prompt = ( \"You are the best mathematics agent\"\n",
        "              \"After you're done with your tasks, respond to the supervisor directly\"\n",
        "              \"Responds only with the results\")\n",
        "\n",
        ")\n",
        "\n",
        "Web_Agent = create_react_agent(\n",
        "    model=llm,\n",
        "    tools=tool_web,\n",
        "    name = 'ResearchAgent',\n",
        "    prompt = ( \"You are the best web Search agent\"\n",
        "              \"After you're done with your tasks, respond to the supervisor directly\"\n",
        "              \"Responds only with the results\"\n",
        "              )\n",
        "\n",
        ")\n"
      ],
      "metadata": {
        "id": "7dXtB8L3Ekd7"
      },
      "execution_count": 7,
      "outputs": []
    },
    {
      "cell_type": "markdown",
      "source": [
        "## pretty print helper function"
      ],
      "metadata": {
        "id": "KAZe8O2kdG7H"
      }
    },
    {
      "cell_type": "code",
      "source": [
        "from langchain_core.messages import convert_to_messages\n",
        "\n",
        "\n",
        "def pretty_print_message(message, indent=False):\n",
        "    pretty_message = message.pretty_repr(html=True)\n",
        "    if not indent:\n",
        "        print(pretty_message)\n",
        "        return\n",
        "\n",
        "    indented = \"\\n\".join(\"\\t\" + c for c in pretty_message.split(\"\\n\"))\n",
        "    print(indented)\n",
        "\n",
        "\n",
        "def pretty_print_messages(update, last_message=False):\n",
        "    is_subgraph = False\n",
        "    if isinstance(update, tuple):\n",
        "        ns, update = update\n",
        "        # skip parent graph updates in the printouts\n",
        "        if len(ns) == 0:\n",
        "            return\n",
        "\n",
        "        graph_id = ns[-1].split(\":\")[0]\n",
        "        print(f\"Update from subgraph {graph_id}:\")\n",
        "        print(\"\\n\")\n",
        "        is_subgraph = True\n",
        "\n",
        "    for node_name, node_update in update.items():\n",
        "        update_label = f\"Update from node {node_name}:\"\n",
        "        if is_subgraph:\n",
        "            update_label = \"\\t\" + update_label\n",
        "\n",
        "        print(update_label)\n",
        "        print(\"\\n\")\n",
        "\n",
        "        messages = convert_to_messages(node_update[\"messages\"])\n",
        "        if last_message:\n",
        "            messages = messages[-1:]\n",
        "\n",
        "        for m in messages:\n",
        "            pretty_print_message(m, indent=is_subgraph)\n",
        "        print(\"\\n\")"
      ],
      "metadata": {
        "id": "2H6YEEZFdFug"
      },
      "execution_count": 8,
      "outputs": []
    },
    {
      "cell_type": "code",
      "source": [
        "for chunk in Mathematics_Agent.stream(\n",
        "    {\"messages\": [{\"role\":\"user\",\"content\":\"Add 3 and 4\"}]}\n",
        "):\n",
        "    pretty_print_messages(chunk)"
      ],
      "metadata": {
        "colab": {
          "base_uri": "https://localhost:8080/"
        },
        "id": "023uilugcwdk",
        "outputId": "1d03996b-11d0-4200-afe0-3868763fe275"
      },
      "execution_count": 9,
      "outputs": [
        {
          "output_type": "stream",
          "name": "stdout",
          "text": [
            "Update from node agent:\n",
            "\n",
            "\n",
            "==================================\u001b[1m Ai Message \u001b[0m==================================\n",
            "Name: MathAgent\n",
            "Tool Calls:\n",
            "  Add (call_L0BaAQIfKsuV1kWZe0931wTO)\n",
            " Call ID: call_L0BaAQIfKsuV1kWZe0931wTO\n",
            "  Args:\n",
            "    a: 3\n",
            "    b: 4\n",
            "\n",
            "\n",
            "Update from node tools:\n",
            "\n",
            "\n",
            "=================================\u001b[1m Tool Message \u001b[0m=================================\n",
            "Name: Add\n",
            "\n",
            "7\n",
            "\n",
            "\n",
            "Update from node agent:\n",
            "\n",
            "\n",
            "==================================\u001b[1m Ai Message \u001b[0m==================================\n",
            "Name: MathAgent\n",
            "\n",
            "7\n",
            "\n",
            "\n"
          ]
        }
      ]
    },
    {
      "cell_type": "code",
      "source": [
        "for chunk in Web_Agent.stream(\n",
        "    {\"messages\": [{\"role\": \"user\",\"content\":\"Who is Narendra Modi\"}]}\n",
        "):\n",
        "    pretty_print_messages(chunk)"
      ],
      "metadata": {
        "colab": {
          "base_uri": "https://localhost:8080/"
        },
        "id": "SnX4qLHryTaT",
        "outputId": "652d1d58-2f70-4581-84c1-39ac49b542d5"
      },
      "execution_count": 10,
      "outputs": [
        {
          "output_type": "stream",
          "name": "stdout",
          "text": [
            "Update from node agent:\n",
            "\n",
            "\n",
            "==================================\u001b[1m Ai Message \u001b[0m==================================\n",
            "Name: ResearchAgent\n",
            "Tool Calls:\n",
            "  wikipedia (call_k8LzrPRUpXX5obpm6MSv64Ob)\n",
            " Call ID: call_k8LzrPRUpXX5obpm6MSv64Ob\n",
            "  Args:\n",
            "    query: Narendra Modi\n",
            "\n",
            "\n",
            "Update from node tools:\n",
            "\n",
            "\n",
            "=================================\u001b[1m Tool Message \u001b[0m=================================\n",
            "Name: wikipedia\n",
            "\n",
            "Page: Narendra Modi\n",
            "Summary: Narendra Damodardas Modi (born 17 September 1950) is an Indian politician who has served as the  prime minister of India since 2014. Modi was the chief minister of Gujarat from 2001 to 2014 and is the member of parliament (MP) for Varanasi. He is a member of the Bharatiya Janata Party (BJP) and of the Rashtriya Swayamsevak Sangh (RSS), a right-wing Hindu nationalist paramilitary volunteer organisation. He is the longest-serving prime minister outside the Indian National Congress.\n",
            "Modi was born and raised in Vadnagar, Gujarat, where he completed his secondary education. He was introduced to the RSS at the age of eight. Modi became a full-time worker for the RSS in Gujarat in 1971. The RSS assigned him to the BJP in 1985 and he rose through the party hierarchy, becoming general secretary in 1998. In 2001, Modi was appointed chief minister of Gujarat and elected to the legislative assembly soon after. His administration is considered complicit in the 2002 Gujarat riots, and has been criticised for its management of the crisis. According to official records, a little over 1,000 people were killed, three-quarters of whom were Muslim; independent sources estimated 2,000 deaths, mostly Muslim. A Special Investigation Team appointed by the Supreme Court of India in 2012 found no evidence to initiate prosecution proceedings against him. While his policies as chief minister were credited for encouraging economic growth, his administration was criticised for failing to significantly improve health, poverty and education indices in the state.\n",
            "In the 2014 Indian general election, Modi led the BJP to a parliamentary majority, the first for a party since 1984. His administration increased direct foreign investment, and reduced spending on healthcare, education, and social-welfare programmes. Modi began a high-profile sanitation campaign, and weakened or abolished environmental and labour laws. His demonetisation of banknotes in 2016 and introduction of the Goods and Services Tax in 2017 sparked controversy. Modi's administration launched the 2019 Balakot airstrike against an alleged terrorist training camp in Pakistan. The airstrike failed, but the action had nationalist appeal. Modi's party won the 2019 general election which followed. In its second term, his administration revoked the special status of Jammu and Kashmir, and introduced the Citizenship Amendment Act, prompting widespread protests, and spurring the 2020 Delhi riots in which Muslims were brutalised and killed by Hindu mobs. Three controversial farm laws led to sit-ins by farmers across the country, eventually causing their formal repeal. Modi oversaw India's response to the COVID-19 pandemic, during which, according to the World Health Organization's estimates, 4.7 million Indians died. In the 2024 general election, Modi's party lost its majority in the lower house of Parliament and formed a government leading the National Democratic Alliance coalition. Modi presided\n",
            "\n",
            "\n",
            "Update from node agent:\n",
            "\n",
            "\n",
            "==================================\u001b[1m Ai Message \u001b[0m==================================\n",
            "Name: ResearchAgent\n",
            "\n",
            "Narendra Damodardas Modi (born 17 September 1950) is an Indian politician who has served as the Prime Minister of India since 2014. He was the Chief Minister of Gujarat from 2001 to 2014 and is a member of the Bharatiya Janata Party (BJP) and the Rashtriya Swayamsevak Sangh (RSS), a right-wing Hindu nationalist organization. Modi is the longest-serving prime minister outside the Indian National Congress.\n",
            "\n",
            "Born and raised in Vadnagar, Gujarat, he became involved with the RSS at a young age and worked for the organization full-time starting in 1971. He joined the BJP in 1985 and rose through its ranks, becoming general secretary in 1998. His tenure as Chief Minister was marked by economic growth but also criticism for his administration's handling of the 2002 Gujarat riots.\n",
            "\n",
            "In the 2014 general election, Modi led the BJP to a parliamentary majority, the first for a party since 1984. His government implemented various policies, including a sanitation campaign and controversial economic reforms like demonetization and the introduction of the Goods and Services Tax. His administration faced significant challenges, including the COVID-19 pandemic and widespread protests against certain laws. In the 2024 general election, his party lost its majority in the lower house of Parliament.\n",
            "\n",
            "\n"
          ]
        }
      ]
    },
    {
      "cell_type": "code",
      "source": [
        "from langgraph_supervisor import create_supervisor\n",
        "from langchain.chat_models import init_chat_model\n",
        "\n",
        "supervisor = create_supervisor(\n",
        "    model = llm,\n",
        "    agents= [Mathematics_Agent, Web_Agent],\n",
        "    prompt = (\n",
        "                \"You are a supervisor managing two agents:\\n\"\n",
        "        \"- a research agent. Assign research-related tasks to this agent\\n\"\n",
        "        \"- a math agent. Assign math-related tasks to this agent\\n\"\n",
        "        \"Assign work to one agent at a time, do not call agents in parallel.\\n\"\n",
        "        \"Do not do any work yourself.\"\n",
        "    ),\n",
        "    add_handoff_back_messages= True,\n",
        "    output_mode= 'full_history',\n",
        "    supervisor_name = 'supervisor',\n",
        ")\n"
      ],
      "metadata": {
        "id": "L-wzCQ3rKKiF"
      },
      "execution_count": 11,
      "outputs": []
    },
    {
      "cell_type": "code",
      "source": [
        "app = supervisor.compile()"
      ],
      "metadata": {
        "id": "Ns_lXonRPJOX"
      },
      "execution_count": 12,
      "outputs": []
    },
    {
      "cell_type": "code",
      "source": [
        "from IPython.display import display, Image\n",
        "\n",
        "\n",
        "display(Image(app.get_graph().draw_mermaid_png()))"
      ],
      "metadata": {
        "colab": {
          "base_uri": "https://localhost:8080/",
          "height": 266
        },
        "id": "S9sGUjecN1mf",
        "outputId": "7d365d05-60c2-4240-d91a-6c500edf8f87"
      },
      "execution_count": 13,
      "outputs": [
        {
          "output_type": "display_data",
          "data": {
            "image/png": "[encoded data removed]",
            "text/plain": [
              "<IPython.core.display.Image object>"
            ]
          },
          "metadata": {}
        }
      ]
    },
    {
      "cell_type": "code",
      "source": [
        "while True:\n",
        "    user_input = input(\"User: \")\n",
        "    if user_input.lower() in [\"exit\", \"quit\", \"q\"]:\n",
        "        print(\"Goodbye!\")\n",
        "        break\n",
        "\n",
        "    result = app.invoke({\"messages\": [{\"role\":\"user\",\"content\": user_input}]})\n",
        "\n",
        "    for m in result['messages']:\n",
        "        m.pretty_print()\n",
        "\n",
        "    print('\\n\\n')"
      ],
      "metadata": {
        "colab": {
          "base_uri": "https://localhost:8080/"
        },
        "id": "bYF7wzgMRRqG",
        "outputId": "4de09126-b306-4a30-eabc-abe15ba1efd1"
      },
      "execution_count": 14,
      "outputs": [
        {
          "output_type": "stream",
          "name": "stdout",
          "text": [
            "User: do you know what is operation sindoor?\n",
            "================================\u001b[1m Human Message \u001b[0m=================================\n",
            "\n",
            "do you know what is operation sindoor?\n",
            "==================================\u001b[1m Ai Message \u001b[0m==================================\n",
            "Name: supervisor\n",
            "Tool Calls:\n",
            "  transfer_to_researchagent (call_QRfXSYMe1tYgsnyfTCzkt1h0)\n",
            " Call ID: call_QRfXSYMe1tYgsnyfTCzkt1h0\n",
            "  Args:\n",
            "=================================\u001b[1m Tool Message \u001b[0m=================================\n",
            "Name: transfer_to_researchagent\n",
            "\n",
            "Successfully transferred to ResearchAgent\n",
            "==================================\u001b[1m Ai Message \u001b[0m==================================\n",
            "Name: ResearchAgent\n",
            "Tool Calls:\n",
            "  wikipedia (call_IIqupwpbn0415MEHPLjG0Vjm)\n",
            " Call ID: call_IIqupwpbn0415MEHPLjG0Vjm\n",
            "  Args:\n",
            "    query: Operation Sindoor\n",
            "=================================\u001b[1m Tool Message \u001b[0m=================================\n",
            "Name: wikipedia\n",
            "\n",
            "Page: Sindoor\n",
            "Summary: Sindoor (Hindi: सिंदूर, IAST: sindūr) or sindura (Sanskrit: सिन्दूर,IAST: sindūra) is a traditional vermilion red or orange-red or maroon cosmetic powder from South Asia, usually worn by married women along the part of their hairline. In Hindu communities, the sindoor is considered auspicious and is a visual marker of marital status of a woman and ceasing to wear it usually implies widowhood.\n",
            "\n",
            "Traditional sindoor was made with turmeric and alum or lime, or from other herbal ingredients. Unlike red lead and vermilion, these are not poisonous. Some commercial sindoor products contain synthetic ingredients, some of which are not manufactured to proper standards and may contain lead.\n",
            "\n",
            "Page: 2025 India–Pakistan standoff\n",
            "Summary: On 23 April 2025, a standoff emerged between India and Pakistan, which was sparked by the 2025 Pahalgam attack, a terrorist attack in the Baisaran Valley of Jammu and Kashmir, killing 27 people, including 25 Hindu tourists, a Christian tourist, and a local Muslim, as well as injuring more than 20 others. The Resistance Front (TRF) initially claimed responsibility for the attack. Armed skirmishes between India and Pakistan were reported along the Line of Control (LoC) beginning on 24 April, raising fears of further escalation between the two nuclear-armed neighbours. A ceasefire was announced on 10 May 2025 from 16:30 PKT/17:00 IST following an agreement between India and Pakistan. Following the deadline, both countries accused each other of violating the ceasefire agreement.\n",
            "The standoffs were followed by a diplomatic crisis which emerged between the two countries, as India accused Pakistan of sponsoring the attack. India initiated the expulsion of Pakistani diplomats, recalled its own diplomatic staff, suspended visa services, closed its borders, and announced its withdrawal from the Indus Waters Treaty, while Pakistan quickly denied any involvement and instead urged for an international inquiry, which Delhi promptly rejected. Pakistan initially responded with trade restrictions, closure of airspace and border crossings, and suspension of the Shimla Agreement. India's Cabinet Committee on Security (CCS) also strongly urged Indian citizens to avoid travelling to Pakistan, and called on those currently in the country to return at the earliest opportunity.\n",
            "Between 24 April and 6 May, Pakistan and India engaged in skirmishes including cross-border firing and intermittent artillery shelling.  \n",
            "On 7 May 2025, India launched missile strikes on Pakistan, codenamed Operation Sindoor. According to India, the missile strikes targeted the militant groups Jaish-e-Mohammed and Lashkar-e-Taiba. According to Pakistan, the Indian strikes targeted civilian areas, including mosques, killing 31 Pakistani civilians. In return, Pakistan said they had downed a number of Indian jets and damaged Indian infrastructure. \n",
            "There are a number of misinformation campaigns across both the countries' media outlets following the strike.\n",
            "\n",
            "==================================\u001b[1m Ai Message \u001b[0m==================================\n",
            "Name: ResearchAgent\n",
            "\n",
            "Operation Sindoor refers to a military operation conducted by India on May 7, 2025, during the India-Pakistan standoff that followed the 2025 Pahalgam attack. The operation involved missile strikes targeting militant groups Jaish-e-Mohammed and Lashkar-e-Taiba, which India accused of being responsible for the attack. However, Pakistan claimed that the strikes hit civilian areas, resulting in the deaths of 31 Pakistani civilians. The operation escalated tensions between the two countries, leading to further military skirmishes and diplomatic crises.\n",
            "==================================\u001b[1m Ai Message \u001b[0m==================================\n",
            "Name: ResearchAgent\n",
            "\n",
            "Transferring back to supervisor\n",
            "Tool Calls:\n",
            "  transfer_back_to_supervisor (b90d2b8a-9a62-4309-b4bd-3364325824ae)\n",
            " Call ID: b90d2b8a-9a62-4309-b4bd-3364325824ae\n",
            "  Args:\n",
            "=================================\u001b[1m Tool Message \u001b[0m=================================\n",
            "Name: transfer_back_to_supervisor\n",
            "\n",
            "Successfully transferred back to supervisor\n",
            "==================================\u001b[1m Ai Message \u001b[0m==================================\n",
            "Name: supervisor\n",
            "\n",
            "I have the information on Operation Sindoor. It was a military operation conducted by India on May 7, 2025, targeting militant groups Jaish-e-Mohammed and Lashkar-e-Taiba in response to a terrorist attack in Pahalgam. The operation escalated tensions between India and Pakistan, with both sides accusing each other of civilian casualties and violations. \n",
            "\n",
            "If you need further details or have another question, feel free to ask!\n",
            "\n",
            "\n",
            "\n",
            "User: q\n",
            "Goodbye!\n"
          ]
        }
      ]
    }
  ]
}
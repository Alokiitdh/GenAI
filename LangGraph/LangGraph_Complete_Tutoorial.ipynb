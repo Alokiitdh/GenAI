{
  "nbformat": 4,
  "nbformat_minor": 0,
  "metadata": {
    "colab": {
      "provenance": []
    },
    "kernelspec": {
      "name": "python3",
      "display_name": "Python 3"
    },
    "language_info": {
      "name": "python"
    }
  },
  "cells": [
    {
      "cell_type": "markdown",
      "source": [
        "# Langgrraph\n",
        "> Complete Tutorial"
      ],
      "metadata": {
        "id": "NE6oh6o5VT0R"
      }
    },
    {
      "cell_type": "markdown",
      "source": [
        "# **Lab 1:**\n",
        "This lab is about the basic understanding of the langgraph . What we will learn here is:-\n",
        ">Basics of the Langgraph:- Before we call the `graph.invoke(state)`\n",
        "1. Define the `state` class\n",
        "2. Start the `graphbuilder`\n",
        "3. Create a `node`.\n",
        "4. Create `edges`.\n",
        "5. Compile the graph"
      ],
      "metadata": {
        "id": "0JTlLexgVpls"
      }
    },
    {
      "cell_type": "markdown",
      "source": [
        "### Installing dependencies"
      ],
      "metadata": {
        "id": "tGNU2uCeYNA1"
      }
    },
    {
      "cell_type": "code",
      "source": [
        "!pip -q install langgraph openai langchain-groq langchain"
      ],
      "metadata": {
        "colab": {
          "base_uri": "https://localhost:8080/"
        },
        "id": "2fYN7TFEXiYn",
        "outputId": "7f789ebb-335e-448b-ac3a-28e00f9b1b9f"
      },
      "execution_count": null,
      "outputs": [
        {
          "output_type": "stream",
          "name": "stdout",
          "text": [
            "\u001b[2K     \u001b[90m━━━━━━━━━━━━━━━━━━━━━━━━━━━━━━━━━━━━━━━━\u001b[0m \u001b[32m43.7/43.7 kB\u001b[0m \u001b[31m1.8 MB/s\u001b[0m eta \u001b[36m0:00:00\u001b[0m\n",
            "\u001b[2K   \u001b[90m━━━━━━━━━━━━━━━━━━━━━━━━━━━━━━━━━━━━━━━━\u001b[0m \u001b[32m152.4/152.4 kB\u001b[0m \u001b[31m4.3 MB/s\u001b[0m eta \u001b[36m0:00:00\u001b[0m\n",
            "\u001b[2K   \u001b[90m━━━━━━━━━━━━━━━━━━━━━━━━━━━━━━━━━━━━━━━━\u001b[0m \u001b[32m130.2/130.2 kB\u001b[0m \u001b[31m11.6 MB/s\u001b[0m eta \u001b[36m0:00:00\u001b[0m\n",
            "\u001b[2K   \u001b[90m━━━━━━━━━━━━━━━━━━━━━━━━━━━━━━━━━━━━━━━━\u001b[0m \u001b[32m44.2/44.2 kB\u001b[0m \u001b[31m3.4 MB/s\u001b[0m eta \u001b[36m0:00:00\u001b[0m\n",
            "\u001b[2K   \u001b[90m━━━━━━━━━━━━━━━━━━━━━━━━━━━━━━━━━━━━━━━━\u001b[0m \u001b[32m50.0/50.0 kB\u001b[0m \u001b[31m3.7 MB/s\u001b[0m eta \u001b[36m0:00:00\u001b[0m\n",
            "\u001b[2K   \u001b[90m━━━━━━━━━━━━━━━━━━━━━━━━━━━━━━━━━━━━━━━━\u001b[0m \u001b[32m216.5/216.5 kB\u001b[0m \u001b[31m17.0 MB/s\u001b[0m eta \u001b[36m0:00:00\u001b[0m\n",
            "\u001b[?25h"
          ]
        }
      ]
    },
    {
      "cell_type": "code",
      "execution_count": null,
      "metadata": {
        "id": "Dta2zrvPVOx_"
      },
      "outputs": [],
      "source": [
        "from typing import Annotated\n",
        "from langgraph.graph import StateGraph, START, END\n",
        "from langgraph.graph.message import add_messages\n",
        "import os\n",
        "import getpass\n",
        "\n",
        "from IPython.display import Image, display\n",
        "import gradio as gr\n",
        "\n",
        "from pydantic import BaseModel\n",
        "import random"
      ]
    },
    {
      "cell_type": "markdown",
      "source": [
        "## LLm and API Key"
      ],
      "metadata": {
        "id": "cHRiM8wR_xaM"
      }
    },
    {
      "cell_type": "code",
      "source": [
        "if \"GROQ_API_KEY\" not in os.environ:\n",
        "    os.environ[\"GROQ_API_KEY\"] = getpass.getpass(\"Enter your Groq API key: \")\n"
      ],
      "metadata": {
        "colab": {
          "base_uri": "https://localhost:8080/"
        },
        "id": "i0NPpizZYMFh",
        "outputId": "b2bcbd05-a8a4-4739-c2dc-ab01d4eb67ec"
      },
      "execution_count": null,
      "outputs": [
        {
          "name": "stdout",
          "output_type": "stream",
          "text": [
            "Enter your Groq API key: ··········\n"
          ]
        }
      ]
    },
    {
      "cell_type": "code",
      "source": [
        "from langchain_groq import ChatGroq\n",
        "\n",
        "llm = ChatGroq(\n",
        "    groq_api_key= os.environ[\"GROQ_API_KEY\"],\n",
        "    model=\"llama-3.3-70b-versatile\",  # Can be replace with our preferred model\n",
        "    temperature=0.3\n",
        ")\n",
        "\n",
        "print(llm.invoke(\"one word\").content)"
      ],
      "metadata": {
        "colab": {
          "base_uri": "https://localhost:8080/"
        },
        "id": "cEBkf7ieAMuy",
        "outputId": "f1cefb2d-6a86-4220-b4bc-dd967093855b"
      },
      "execution_count": null,
      "outputs": [
        {
          "output_type": "stream",
          "name": "stdout",
          "text": [
            "Hello\n"
          ]
        }
      ]
    },
    {
      "cell_type": "markdown",
      "source": [
        "This is how we can message using the open ai message\n",
        "`message = [ \"role\" : \"Define the role here(user or system)\", \"content\": \"Ask any thing  here\"] `"
      ],
      "metadata": {
        "id": "k5ZDW3kQAnqa"
      }
    },
    {
      "cell_type": "code",
      "source": [
        "messages = [{\"role\": \"user\",\n",
        "             \"content\": \"What is the capital of India?\"}]\n",
        "print(llm.invoke(messages).content)"
      ],
      "metadata": {
        "colab": {
          "base_uri": "https://localhost:8080/"
        },
        "id": "d4_7KYGrAfuA",
        "outputId": "8e825ef3-2be9-4469-f5e8-f7e03f54fc15"
      },
      "execution_count": null,
      "outputs": [
        {
          "output_type": "stream",
          "name": "stdout",
          "text": [
            "The capital of India is New Delhi.\n"
          ]
        }
      ]
    },
    {
      "cell_type": "markdown",
      "source": [
        "## Lang Graph:\n",
        "1. `State`: The Current state of the graph, after each node we will have new state . We defined a class State that will hold all the state message and it will not be over written.\n",
        "2. `Node`: Node is basically a python function that will handle the state . Like Invoking the llm and storing the response to the state. So the basically node is handling the state of the graph.\n",
        "3. `Edges`: Edges will connect the nodes , like a work flows . `START` -> `Node` -> `END` .\n"
      ],
      "metadata": {
        "id": "ejMRVQ4gBRYG"
      }
    },
    {
      "cell_type": "code",
      "source": [
        "# Step 1: Define the State object\n",
        "\n",
        "class State(BaseModel):\n",
        "    messages: Annotated[list, add_messages]"
      ],
      "metadata": {
        "id": "BM4bPb9qBbxC"
      },
      "execution_count": null,
      "outputs": []
    },
    {
      "cell_type": "code",
      "source": [
        "# Step 2: Start the Graph Builder with this State class\n",
        "\n",
        "graph_builder = StateGraph(State)"
      ],
      "metadata": {
        "id": "XYx8TFTWB-yG"
      },
      "execution_count": null,
      "outputs": []
    },
    {
      "cell_type": "code",
      "source": [
        "# Step 3: Create a Node\n",
        "\n",
        "def chatbot_node(old_state: State) -> State:\n",
        "    response = llm.invoke(old_state.messages)\n",
        "    new_state = State(messages=[response])\n",
        "    return new_state\n",
        "\n",
        "graph_builder.add_node(\"chatbot\", chatbot_node)"
      ],
      "metadata": {
        "colab": {
          "base_uri": "https://localhost:8080/"
        },
        "id": "4ikGZSYWCHOA",
        "outputId": "3b82fb14-8daf-4342-e6af-5a3eecace0d1"
      },
      "execution_count": null,
      "outputs": [
        {
          "output_type": "execute_result",
          "data": {
            "text/plain": [
              "<langgraph.graph.state.StateGraph at 0x7aa06a856990>"
            ]
          },
          "metadata": {},
          "execution_count": 8
        }
      ]
    },
    {
      "cell_type": "code",
      "source": [
        "# Step 4: Create Edges\n",
        "\n",
        "graph_builder.add_edge(START, \"chatbot\")\n",
        "graph_builder.add_edge(\"chatbot\", END)"
      ],
      "metadata": {
        "colab": {
          "base_uri": "https://localhost:8080/"
        },
        "id": "W97SrNcBDY5Q",
        "outputId": "9e8d4e67-362d-4c3e-cb6b-86e1106de648"
      },
      "execution_count": null,
      "outputs": [
        {
          "output_type": "execute_result",
          "data": {
            "text/plain": [
              "<langgraph.graph.state.StateGraph at 0x7aa06a856990>"
            ]
          },
          "metadata": {},
          "execution_count": 9
        }
      ]
    },
    {
      "cell_type": "code",
      "source": [
        "# Step 5: Compile the Graph\n",
        "\n",
        "graph = graph_builder.compile()\n",
        "display(Image(graph.get_graph().draw_mermaid_png()))"
      ],
      "metadata": {
        "colab": {
          "base_uri": "https://localhost:8080/",
          "height": 251
        },
        "id": "uxeWRvyaEI_V",
        "outputId": "612fe5c2-af9b-4735-a232-a69c18822065"
      },
      "execution_count": null,
      "outputs": [
        {
          "output_type": "display_data",
          "data": {
            "image/png": "[encoded data removed]",
            "text/plain": [
              "<IPython.core.display.Image object>"
            ]
          },
          "metadata": {}
        }
      ]
    },
    {
      "cell_type": "code",
      "source": [
        "def chat(user_input: str):\n",
        "    initial_state = State(messages=[{\"role\": \"user\", \"content\": user_input}])\n",
        "    result = graph.invoke(initial_state)\n",
        "    # print(result)\n",
        "    return result['messages'][-1].content"
      ],
      "metadata": {
        "id": "b4bo2BgVEQkC"
      },
      "execution_count": null,
      "outputs": []
    },
    {
      "cell_type": "code",
      "source": [
        "while True:\n",
        "    user = input(\"User Input: \")\n",
        "    if user.lower() == 'q':\n",
        "        print(\"Exiting chat...\")\n",
        "        break\n",
        "    try:\n",
        "        response = chat(user)\n",
        "        print(\"AI:\", response)\n",
        "    except Exception as e:\n",
        "        print(\"An error occurred:\", str(e))\n"
      ],
      "metadata": {
        "colab": {
          "base_uri": "https://localhost:8080/"
        },
        "id": "GxPzs7BJEQgj",
        "outputId": "e25b623e-5e24-4daa-80c2-dfc4fa46664c"
      },
      "execution_count": null,
      "outputs": [
        {
          "output_type": "stream",
          "name": "stdout",
          "text": [
            "User Input: hey\n",
            "AI: Hello, how can I assist you today?\n",
            "User Input: today is what?\n",
            "AI: Today is June 16, 2025, but I'm an AI and do not have have access to real-time information, so it may not be the current date when you are reading this.\n",
            "User Input: ok great\n",
            "AI: It seems like we just started. Is there something I can help you with or would you like to start a conversation?\n",
            "User Input: q\n",
            "Exiting chat...\n"
          ]
        }
      ]
    },
    {
      "cell_type": "markdown",
      "source": [
        "# **Lab 2:**\n",
        "> Detail of this lab\n",
        "1. Langsmith.\n",
        "2. Tools :- out of the box.\n",
        "3. Tools :- Custom\n",
        "4. Checkpointing :- Memory\n",
        "\n",
        "### **Super-Step:** A super-step can be considered as a single iteration over the graph. Nodes that can execute in parallel are grouped into the same super-step, while nodes that must run in sequence (due to dependencies) are scheduled in different super-steps.\n",
        "- It is basically an iteration after a graph invoke till we get the outcome.\n",
        "- Every user interaction is a fresh graph.invoke(state) call.\n",
        "-\n"
      ],
      "metadata": {
        "id": "2AQVGj9ffHnG"
      }
    },
    {
      "cell_type": "markdown",
      "source": [
        "## Installing Dependencies"
      ],
      "metadata": {
        "id": "6pDWltTnzRTT"
      }
    },
    {
      "cell_type": "code",
      "source": [
        "!pip -q install langgraph openai langchain-groq langchain langchain_community"
      ],
      "metadata": {
        "colab": {
          "base_uri": "https://localhost:8080/"
        },
        "id": "P7aRYuSzj3K1",
        "outputId": "8ff5daa5-42c5-45a2-d925-443ed03b29b0"
      },
      "execution_count": null,
      "outputs": [
        {
          "output_type": "stream",
          "name": "stdout",
          "text": [
            "\u001b[2K   \u001b[90m━━━━━━━━━━━━━━━━━━━━━━━━━━━━━━━━━━━━━━━━\u001b[0m \u001b[32m2.5/2.5 MB\u001b[0m \u001b[31m30.9 MB/s\u001b[0m eta \u001b[36m0:00:00\u001b[0m\n",
            "\u001b[2K   \u001b[90m━━━━━━━━━━━━━━━━━━━━━━━━━━━━━━━━━━━━━━━━\u001b[0m \u001b[32m438.1/438.1 kB\u001b[0m \u001b[31m35.1 MB/s\u001b[0m eta \u001b[36m0:00:00\u001b[0m\n",
            "\u001b[2K   \u001b[90m━━━━━━━━━━━━━━━━━━━━━━━━━━━━━━━━━━━━━━━━\u001b[0m \u001b[32m363.0/363.0 kB\u001b[0m \u001b[31m29.6 MB/s\u001b[0m eta \u001b[36m0:00:00\u001b[0m\n",
            "\u001b[2K   \u001b[90m━━━━━━━━━━━━━━━━━━━━━━━━━━━━━━━━━━━━━━━━\u001b[0m \u001b[32m44.4/44.4 kB\u001b[0m \u001b[31m3.3 MB/s\u001b[0m eta \u001b[36m0:00:00\u001b[0m\n",
            "\u001b[2K   \u001b[90m━━━━━━━━━━━━━━━━━━━━━━━━━━━━━━━━━━━━━━━━\u001b[0m \u001b[32m50.9/50.9 kB\u001b[0m \u001b[31m3.6 MB/s\u001b[0m eta \u001b[36m0:00:00\u001b[0m\n",
            "\u001b[?25h"
          ]
        }
      ]
    },
    {
      "cell_type": "code",
      "source": [
        "!pip install -qU duckduckgo-search langchain-community"
      ],
      "metadata": {
        "colab": {
          "base_uri": "https://localhost:8080/"
        },
        "id": "r-10bmSL7KTY",
        "outputId": "28e16464-6068-4269-8f6a-730addb2cca1"
      },
      "execution_count": null,
      "outputs": [
        {
          "output_type": "stream",
          "name": "stdout",
          "text": [
            "\u001b[?25l   \u001b[90m━━━━━━━━━━━━━━━━━━━━━━━━━━━━━━━━━━━━━━━━\u001b[0m \u001b[32m0.0/3.3 MB\u001b[0m \u001b[31m?\u001b[0m eta \u001b[36m-:--:--\u001b[0m\r\u001b[2K   \u001b[91m━━━\u001b[0m\u001b[90m╺\u001b[0m\u001b[90m━━━━━━━━━━━━━━━━━━━━━━━━━━━━━━━━━━━━\u001b[0m \u001b[32m0.3/3.3 MB\u001b[0m \u001b[31m8.9 MB/s\u001b[0m eta \u001b[36m0:00:01\u001b[0m\r\u001b[2K   \u001b[91m━━━━━━━━━━━━━━━━━━━━━━━━━━━━━\u001b[0m\u001b[91m╸\u001b[0m\u001b[90m━━━━━━━━━━\u001b[0m \u001b[32m2.4/3.3 MB\u001b[0m \u001b[31m35.5 MB/s\u001b[0m eta \u001b[36m0:00:01\u001b[0m\r\u001b[2K   \u001b[90m━━━━━━━━━━━━━━━━━━━━━━━━━━━━━━━━━━━━━━━━\u001b[0m \u001b[32m3.3/3.3 MB\u001b[0m \u001b[31m33.8 MB/s\u001b[0m eta \u001b[36m0:00:00\u001b[0m\n",
            "\u001b[?25h"
          ]
        }
      ]
    },
    {
      "cell_type": "code",
      "source": [
        "from typing import Annotated\n",
        "from typing import TypedDict\n",
        "\n",
        "from langgraph.graph import StateGraph, START, END\n",
        "from langgraph.graph.message import add_messages\n",
        "import os\n",
        "import getpass\n",
        "\n",
        "from IPython.display import Image, display\n",
        "import gradio as gr\n",
        "\n",
        "from pydantic import BaseModel\n",
        "import random"
      ],
      "metadata": {
        "id": "CAjLOo49zZvR"
      },
      "execution_count": null,
      "outputs": []
    },
    {
      "cell_type": "markdown",
      "source": [
        "## LLM, API Keys and Langsmith"
      ],
      "metadata": {
        "id": "9Z8tsfYczzVM"
      }
    },
    {
      "cell_type": "code",
      "source": [
        "if \"GROQ_API_KEY\" not in os.environ:\n",
        "    os.environ[\"GROQ_API_KEY\"] = getpass.getpass(\"Enter your Groq API key: \")\n"
      ],
      "metadata": {
        "id": "RL2Barr6zuXf"
      },
      "execution_count": null,
      "outputs": []
    },
    {
      "cell_type": "code",
      "source": [
        "if \"LANGSMITH_API_KEY\" not in os.environ:\n",
        "    os.environ[\"LANGSMITH_API_KEY\"] = getpass.getpass(\"Enter your Langsmith API key: \")\n"
      ],
      "metadata": {
        "colab": {
          "base_uri": "https://localhost:8080/"
        },
        "id": "k6HwuM_1z43c",
        "outputId": "537ff4da-4cc9-4a28-d2ba-961e049acdc2"
      },
      "execution_count": null,
      "outputs": [
        {
          "name": "stdout",
          "output_type": "stream",
          "text": [
            "Enter your Langsmith API key: ··········\n"
          ]
        }
      ]
    },
    {
      "cell_type": "code",
      "source": [
        "# below should not be changed\n",
        "LANGSMITH_API_KEY=os.environ[\"LANGSMITH_API_KEY\"]\n",
        "os.environ[\"LANGCHAIN_TRACING_V2\"] = \"true\"\n",
        "os.environ[\"LANGCHAIN_ENDPOINT\"] = \"https://api.smith.langchain.com\"\n",
        "# you can change this as preferred\n",
        "os.environ[\"LANGCHAIN_PROJECT\"] = \"Langgraph Memory\""
      ],
      "metadata": {
        "id": "wBUEeLAh-XK_"
      },
      "execution_count": null,
      "outputs": []
    },
    {
      "cell_type": "code",
      "source": [
        "from langchain_groq import ChatGroq\n",
        "\n",
        "llm = ChatGroq(\n",
        "    groq_api_key= os.environ[\"GROQ_API_KEY\"],\n",
        "    model=\"llama-3.3-70b-versatile\",  # Can be replace with our preferred model\n",
        "    temperature=0.3\n",
        ")\n",
        "\n",
        "print(llm.invoke(\"say hare krishna\").content)"
      ],
      "metadata": {
        "colab": {
          "base_uri": "https://localhost:8080/"
        },
        "id": "U0s2KDgd2QlD",
        "outputId": "0694685b-561c-4cc4-9ceb-ed6f1d9f13f3"
      },
      "execution_count": null,
      "outputs": [
        {
          "output_type": "stream",
          "name": "stdout",
          "text": [
            "Hare Krishna.\n"
          ]
        }
      ]
    },
    {
      "cell_type": "markdown",
      "source": [
        "### We have a very useful function from the Langgraph community"
      ],
      "metadata": {
        "id": "BaxeR5Ou3wRq"
      }
    },
    {
      "cell_type": "code",
      "source": [
        "from langchain_community.tools import DuckDuckGoSearchRun\n",
        "\n",
        "search = DuckDuckGoSearchRun()\n",
        "\n",
        "search.invoke(\" WHO full form\")"
      ],
      "metadata": {
        "colab": {
          "base_uri": "https://localhost:8080/",
          "height": 127
        },
        "id": "H1fYOD1Q3vUR",
        "outputId": "6ec9a8e0-36c9-4c3a-c454-a3b3ec3e5933"
      },
      "execution_count": null,
      "outputs": [
        {
          "output_type": "execute_result",
          "data": {
            "text/plain": [
              "\"The United Nations agency working to promote health, keep the world safe and serve the vulnerable. World Health Organization (WHO), specialized agency of the United Nations (UN) established in 1948 to further international cooperation for improved public health conditions. Although it inherited specific tasks relating to epidemic control, quarantine measures, and drug standardization from the Health Organization of the League of Nations (set up in 1923) and the International Office of ... It was established on 7 April 1948, which is celebrated as World Health Day. WHO built the assets, staff, and duties of the League of Nations' Health Organization and the Office International d'Hygiène Publique, including the International Classification of Diseases (ICD). WHO Full form is World Health Organization. When the plague, cholera and yellow fever rippled deadly waves across a newly industrialised and interconnected world in the mid-19th century, taking a global approach to health became an imperative. Doctors, scientists, presidents and prime ministers urgently convened the International Sanitary Conference in Paris in 1851, a precursor to what is now the largest of its kind: the World Health ... Reason 2: The full form is consistently used and understood in official contexts and common parlance. Summary. The full form of WHO is World Health Organization, a well-known and widely accepted abbreviation for the United Nations agency dedicated to global health. See Full Answer. Answered Feb 23 at 05:24 by.\""
            ],
            "application/vnd.google.colaboratory.intrinsic+json": {
              "type": "string"
            }
          },
          "metadata": {},
          "execution_count": 21
        }
      ]
    },
    {
      "cell_type": "markdown",
      "source": [
        "####  LangChain wrapper class for converting functions into Tools"
      ],
      "metadata": {
        "id": "e3kkBpY97mnD"
      }
    },
    {
      "cell_type": "code",
      "source": [
        "from langchain.agents import Tool\n",
        "\n",
        "tool_search =Tool(\n",
        "        name=\"search\",\n",
        "        func=search.run,\n",
        "        description=\"Useful for when you need more information from an online search\"\n",
        "    )"
      ],
      "metadata": {
        "id": "BMSeh5WU7hI4"
      },
      "execution_count": null,
      "outputs": []
    },
    {
      "cell_type": "code",
      "source": [
        "tool_search.invoke(\"Narendra Modi\")"
      ],
      "metadata": {
        "colab": {
          "base_uri": "https://localhost:8080/",
          "height": 127
        },
        "id": "_Js6LuyK9AoU",
        "outputId": "d8fa8f41-4696-42b0-e99f-a8d09f22b9ef"
      },
      "execution_count": null,
      "outputs": [
        {
          "output_type": "execute_result",
          "data": {
            "text/plain": [
              "'Narendra Modi Narendra Modi (born September 17, 1950, Vadnagar, India) is an Indian politician and government official who rose to become a senior leader of the Bharatiya Janata Party (BJP). In 2014 he led his party to victory in elections to the Lok Sabha (lower chamber of the Indian parliament), after which he was sworn in as prime minister of India. -PM Narendra Modi to citizens of his adopted village Jayapur. Beti Bachao Beti Padhao (BBBP) was launched by the Prime Minister on 22nd January, 2015 at Panipat, Haryana. BBBP addresses the declining Child Sex Ratio (CSR) and related issues of women empowerment over a life-cycle continuum. It is a tri-ministerial effort of Ministries of Women ... Prime Minister Narendra Modi arrived in Cyprus on Sunday for a two-day official visit, the first by an Indian prime minister in over 20 years. During his stay, Modi will meet with President Nikos ... Prime Minister Narendra Modi inaugurated the Chenab River, and the Anji River and also launched key developmental projects worth Rs 46,000 crore during his visit to Jammu and Kashmir.'"
            ],
            "application/vnd.google.colaboratory.intrinsic+json": {
              "type": "string"
            }
          },
          "metadata": {},
          "execution_count": 23
        }
      ]
    },
    {
      "cell_type": "markdown",
      "source": [
        "#### Combining al the tools"
      ],
      "metadata": {
        "id": "v609D9LW9LP0"
      }
    },
    {
      "cell_type": "code",
      "source": [
        "tools = [tool_search]"
      ],
      "metadata": {
        "id": "PNPm5b9q9DGw"
      },
      "execution_count": null,
      "outputs": []
    },
    {
      "cell_type": "markdown",
      "source": [
        "#### Setting our Langgraph"
      ],
      "metadata": {
        "id": "4BTAvCtLX2vk"
      }
    },
    {
      "cell_type": "code",
      "source": [
        "# Step 1: Define the State object\n",
        "class State(TypedDict):\n",
        "    messages: Annotated[list, add_messages]"
      ],
      "metadata": {
        "id": "G3kD2G_kX1z-"
      },
      "execution_count": null,
      "outputs": []
    },
    {
      "cell_type": "code",
      "source": [
        "# Step 2: Start the Graph Builder with this State class\n",
        "graph_builder = StateGraph(State)"
      ],
      "metadata": {
        "id": "VmH9zV1nYFDB"
      },
      "execution_count": null,
      "outputs": []
    },
    {
      "cell_type": "code",
      "source": [
        "llm_with_tools = llm.bind_tools(tools)"
      ],
      "metadata": {
        "id": "b_G9j6sSYJtw"
      },
      "execution_count": null,
      "outputs": []
    },
    {
      "cell_type": "code",
      "source": [
        "# Step 3: Create a Node\n",
        "from langgraph.prebuilt import ToolNode, tools_condition\n",
        "\n",
        "def chatbot(state: State):\n",
        "    return {\"messages\": [llm_with_tools.invoke(state[\"messages\"])]}\n",
        "\n",
        "graph_builder.add_node(\"chatbot\", chatbot)\n",
        "graph_builder.add_node(\"tools\", ToolNode(tools=tools))"
      ],
      "metadata": {
        "colab": {
          "base_uri": "https://localhost:8080/"
        },
        "id": "3nHmPoh0YNro",
        "outputId": "5a295ede-a1e0-49f8-ea51-206fadb4c934"
      },
      "execution_count": null,
      "outputs": [
        {
          "output_type": "execute_result",
          "data": {
            "text/plain": [
              "<langgraph.graph.state.StateGraph at 0x7aa069ad5910>"
            ]
          },
          "metadata": {},
          "execution_count": 28
        }
      ]
    },
    {
      "cell_type": "code",
      "source": [
        "# Step 4: Create Edges\n",
        "\n",
        "\n",
        "graph_builder.add_conditional_edges( \"chatbot\", tools_condition, \"tools\")\n",
        "\n",
        "# Any time a tool is called, we return to the chatbot to decide the next step\n",
        "graph_builder.add_edge(\"tools\", \"chatbot\")\n",
        "graph_builder.add_edge(START, \"chatbot\")"
      ],
      "metadata": {
        "colab": {
          "base_uri": "https://localhost:8080/"
        },
        "id": "3b69wtYkYqBt",
        "outputId": "0afbaf00-268e-406e-a3b4-eb23ce54af7c"
      },
      "execution_count": null,
      "outputs": [
        {
          "output_type": "execute_result",
          "data": {
            "text/plain": [
              "<langgraph.graph.state.StateGraph at 0x7aa069ad5910>"
            ]
          },
          "metadata": {},
          "execution_count": 29
        }
      ]
    },
    {
      "cell_type": "code",
      "source": [
        "# Step 5: Compile the Graph\n",
        "graph = graph_builder.compile()\n",
        "display(Image(graph.get_graph().draw_mermaid_png()))"
      ],
      "metadata": {
        "colab": {
          "base_uri": "https://localhost:8080/",
          "height": 266
        },
        "id": "DhHzQgTRYjBV",
        "outputId": "836cf836-e9d8-4e1c-df8f-8f3f0cb3207d"
      },
      "execution_count": null,
      "outputs": [
        {
          "output_type": "display_data",
          "data": {
            "image/png": "[encoded data removed]",
            "text/plain": [
              "<IPython.core.display.Image object>"
            ]
          },
          "metadata": {}
        }
      ]
    },
    {
      "cell_type": "code",
      "source": [
        "def chat(user_input: str, history):\n",
        "    result = graph.invoke({\"messages\": [{\"role\": \"user\", \"content\": user_input}]})\n",
        "    return result[\"messages\"][-1].content\n"
      ],
      "metadata": {
        "id": "i88fxiK2Yw8y"
      },
      "execution_count": null,
      "outputs": []
    },
    {
      "cell_type": "markdown",
      "source": [
        "## Langgraph with memory"
      ],
      "metadata": {
        "id": "KkN_cfiaqBLC"
      }
    },
    {
      "cell_type": "markdown",
      "source": [
        "## Memory Check Point\n",
        "> How we will deine it ?\n",
        "- we will just insert `checkpointer=memory` while compiling the graph.\n",
        "- Define `config = {\"configurable\": {\"thread_id\": \"1\"}}` and pass this in the chat"
      ],
      "metadata": {
        "id": "PujMBB7fnKpR"
      }
    },
    {
      "cell_type": "code",
      "source": [
        "from langgraph.checkpoint.memory import MemorySaver\n",
        "# Defining Our Memory\n",
        "memory = MemorySaver()\n"
      ],
      "metadata": {
        "id": "O2Bemyy-nOUi"
      },
      "execution_count": null,
      "outputs": []
    },
    {
      "cell_type": "code",
      "source": [
        "from langchain.agents import Tool\n",
        "from langchain_community.tools import DuckDuckGoSearchRun\n",
        "\n",
        "# Deining Our Tools\n",
        "search = DuckDuckGoSearchRun()\n",
        "\n",
        "tool_search =Tool(\n",
        "        name=\"search\",\n",
        "        func=search.run,\n",
        "        description=\"Useful for when you need more information from an online search\"\n",
        "    )"
      ],
      "metadata": {
        "id": "Skf2yqZrpcp5"
      },
      "execution_count": null,
      "outputs": []
    },
    {
      "cell_type": "code",
      "source": [
        "# Step 1: Define the State object\n",
        "class State(TypedDict):\n",
        "    messages: Annotated[list, add_messages]\n",
        "\n",
        "# Step 2: Start the Graph Builder with this State class\n",
        "graph_builder = StateGraph(State)\n",
        "\n",
        "# Bind LLm With Tools\n",
        "llm_with_tools = llm.bind_tools(tools)\n",
        "\n",
        "\n",
        "# Step 3: Create a Node\n",
        "from langgraph.prebuilt import ToolNode, tools_condition\n",
        "\n",
        "def chatbot(state: State):\n",
        "    return {\"messages\": [llm_with_tools.invoke(state[\"messages\"])]}\n",
        "\n",
        "graph_builder.add_node(\"chatbot\", chatbot)\n",
        "graph_builder.add_node(\"tools\", ToolNode(tools=tools))\n",
        "\n",
        "\n",
        "# Step 4: Create Edges\n",
        "\n",
        "graph_builder.add_conditional_edges( \"chatbot\", tools_condition, \"tools\")\n",
        "\n",
        "# Any time a tool is called, we return to the chatbot to decide the next step\n",
        "graph_builder.add_edge(\"tools\", \"chatbot\")\n",
        "graph_builder.add_edge(START, \"chatbot\")"
      ],
      "metadata": {
        "colab": {
          "base_uri": "https://localhost:8080/"
        },
        "id": "ybWH9_B5pCPZ",
        "outputId": "a74364f2-fc55-45f6-a510-594b00ec9249"
      },
      "execution_count": null,
      "outputs": [
        {
          "output_type": "execute_result",
          "data": {
            "text/plain": [
              "<langgraph.graph.state.StateGraph at 0x7aa06a60d1d0>"
            ]
          },
          "metadata": {},
          "execution_count": 34
        }
      ]
    },
    {
      "cell_type": "code",
      "source": [
        "# Step 5: Compile the Graph\n",
        "\n",
        "graph = graph_builder.compile(checkpointer=memory)\n",
        "\n",
        "display(Image(graph.get_graph().draw_mermaid_png()))"
      ],
      "metadata": {
        "colab": {
          "base_uri": "https://localhost:8080/",
          "height": 266
        },
        "id": "eV1cj68CqJNq",
        "outputId": "ca68fac3-acda-4d77-9fe0-0d9803342d9e"
      },
      "execution_count": null,
      "outputs": [
        {
          "output_type": "display_data",
          "data": {
            "image/png": "[encoded data removed]",
            "text/plain": [
              "<IPython.core.display.Image object>"
            ]
          },
          "metadata": {}
        }
      ]
    },
    {
      "cell_type": "code",
      "source": [
        "config = {\"configurable\": {\"thread_id\": \"1\"}}\n",
        "\n",
        "def chat(user_input: str, history):\n",
        "    result = graph.invoke({\"messages\": [{\"role\": \"user\", \"content\": user_input}]}, config=config) # Very Little Difference {adiing config to track back in time}\n",
        "    return result[\"messages\"][-1].content\n",
        "\n",
        "\n",
        "gr.ChatInterface(chat, type=\"messages\").launch()"
      ],
      "metadata": {
        "colab": {
          "base_uri": "https://localhost:8080/",
          "height": 650
        },
        "id": "0pavMT61qxGO",
        "outputId": "94f37eeb-beb3-4d54-efd6-16d02a9a2eea"
      },
      "execution_count": null,
      "outputs": [
        {
          "output_type": "stream",
          "name": "stdout",
          "text": [
            "It looks like you are running Gradio on a hosted a Jupyter notebook. For the Gradio app to work, sharing must be enabled. Automatically setting `share=True` (you can turn this off by setting `share=False` in `launch()` explicitly).\n",
            "\n",
            "Colab notebook detected. To show errors in colab notebook, set debug=True in launch()\n",
            "* Running on public URL: https://70ebb5478f4f58c91e.gradio.live\n",
            "\n",
            "This share link expires in 1 week. For free permanent hosting and GPU upgrades, run `gradio deploy` from the terminal in the working directory to deploy to Hugging Face Spaces (https://huggingface.co/spaces)\n"
          ]
        },
        {
          "output_type": "display_data",
          "data": {
            "text/plain": [
              "<IPython.core.display.HTML object>"
            ],
            "text/html": [
              "<div><iframe src=\"https://70ebb5478f4f58c91e.gradio.live\" width=\"100%\" height=\"500\" allow=\"autoplay; camera; microphone; clipboard-read; clipboard-write;\" frameborder=\"0\" allowfullscreen></iframe></div>"
            ]
          },
          "metadata": {}
        },
        {
          "output_type": "execute_result",
          "data": {
            "text/plain": []
          },
          "metadata": {},
          "execution_count": 37
        }
      ]
    },
    {
      "cell_type": "markdown",
      "source": [
        "### SQL :-\n",
        "Persistent Memory with database. All the chats will be stored in the database."
      ],
      "metadata": {
        "id": "Y-0GPzvOZ4ia"
      }
    },
    {
      "cell_type": "code",
      "source": [
        "!pip install -qU langgraph-checkpoint-sqlite"
      ],
      "metadata": {
        "colab": {
          "base_uri": "https://localhost:8080/"
        },
        "id": "3SKyKIleeBzS",
        "outputId": "34620df7-95a8-4bad-f298-613ff78e2ab2"
      },
      "execution_count": null,
      "outputs": [
        {
          "output_type": "stream",
          "name": "stdout",
          "text": [
            "\u001b[?25l   \u001b[90m━━━━━━━━━━━━━━━━━━━━━━━━━━━━━━━━━━━━━━━━\u001b[0m \u001b[32m0.0/151.6 kB\u001b[0m \u001b[31m?\u001b[0m eta \u001b[36m-:--:--\u001b[0m\r\u001b[2K   \u001b[90m━━━━━━━━━━━━━━━━━━━━━━━━━━━━━━━━━━━━━━━━\u001b[0m \u001b[32m151.6/151.6 kB\u001b[0m \u001b[31m5.8 MB/s\u001b[0m eta \u001b[36m0:00:00\u001b[0m\n",
            "\u001b[?25h"
          ]
        }
      ]
    },
    {
      "cell_type": "code",
      "source": [
        "import sqlite3\n",
        "from langgraph.checkpoint.sqlite import SqliteSaver\n",
        "\n",
        "db_path = \"memory.db\"  # This will store the database of the chats\n",
        "conn = sqlite3.connect(db_path, check_same_thread=False)\n",
        "# SQL Memory\n",
        "sql_memory = SqliteSaver(conn)"
      ],
      "metadata": {
        "id": "Qwp5QK1PZ4Pd"
      },
      "execution_count": null,
      "outputs": []
    },
    {
      "cell_type": "code",
      "source": [
        "# Steps 1 and 2\n",
        "graph_builder = StateGraph(State)"
      ],
      "metadata": {
        "id": "cykn9yRGfVJE"
      },
      "execution_count": null,
      "outputs": []
    },
    {
      "cell_type": "code",
      "source": [
        "from langchain.agents import Tool\n",
        "from langchain_community.tools import DuckDuckGoSearchRun\n",
        "\n",
        "# Deining Our Tools\n",
        "search = DuckDuckGoSearchRun()\n",
        "\n",
        "tool_search =Tool(\n",
        "        name=\"search\",\n",
        "        func=search.run,\n",
        "        description=\"Useful for when you need more information from an online search\"\n",
        "    )"
      ],
      "metadata": {
        "id": "VfVCFeu7fYR7"
      },
      "execution_count": null,
      "outputs": []
    },
    {
      "cell_type": "code",
      "source": [
        "# Step 1: Define the State object\n",
        "class State(TypedDict):\n",
        "    messages: Annotated[list, add_messages]\n",
        "\n",
        "# Step 2: Start the Graph Builder with this State class\n",
        "graph_builder = StateGraph(State)\n",
        "\n",
        "# Bind LLm With Tools\n",
        "llm_with_tools = llm.bind_tools(tools)\n",
        "\n",
        "\n",
        "# Step 3: Create a Node\n",
        "from langgraph.prebuilt import ToolNode, tools_condition\n",
        "\n",
        "def chatbot(state: State):\n",
        "    return {\"messages\": [llm_with_tools.invoke(state[\"messages\"])]}\n",
        "\n",
        "graph_builder.add_node(\"chatbot\", chatbot)\n",
        "graph_builder.add_node(\"tools\", ToolNode(tools=tools))\n",
        "\n",
        "\n",
        "# Step 4: Create Edges\n",
        "\n",
        "graph_builder.add_conditional_edges( \"chatbot\", tools_condition, \"tools\")\n",
        "\n",
        "# Any time a tool is called, we return to the chatbot to decide the next step\n",
        "graph_builder.add_edge(\"tools\", \"chatbot\")\n",
        "graph_builder.add_edge(START, \"chatbot\")"
      ],
      "metadata": {
        "colab": {
          "base_uri": "https://localhost:8080/"
        },
        "id": "2Jb1YVFpft9y",
        "outputId": "d2b8c3f3-8855-4f61-ad0b-e6beb91c5728"
      },
      "execution_count": null,
      "outputs": [
        {
          "output_type": "execute_result",
          "data": {
            "text/plain": [
              "<langgraph.graph.state.StateGraph at 0x7aa068479b90>"
            ]
          },
          "metadata": {},
          "execution_count": 50
        }
      ]
    },
    {
      "cell_type": "code",
      "source": [
        "# Step 5: Compile the Graph\n",
        "\n",
        "graph = graph_builder.compile(checkpointer=sql_memory)\n",
        "\n",
        "display(Image(graph.get_graph().draw_mermaid_png()))"
      ],
      "metadata": {
        "colab": {
          "base_uri": "https://localhost:8080/",
          "height": 266
        },
        "id": "tgUXGZ1cf4hb",
        "outputId": "b65c9ae2-917f-4fa4-f211-eaa9cecfd4cb"
      },
      "execution_count": null,
      "outputs": [
        {
          "output_type": "display_data",
          "data": {
            "image/png": "[encoded data removed]",
            "text/plain": [
              "<IPython.core.display.Image object>"
            ]
          },
          "metadata": {}
        }
      ]
    },
    {
      "cell_type": "code",
      "source": [
        "config = {\"configurable\": {\"thread_id\": \"3\"}}\n",
        "\n",
        "def chat(user_input: str, history):\n",
        "    result = graph.invoke({\"messages\": [{\"role\": \"user\", \"content\": user_input}]}, config=config)\n",
        "    return result[\"messages\"][-1].content\n",
        "\n",
        "\n",
        "gr.ChatInterface(chat, type=\"messages\").launch()"
      ],
      "metadata": {
        "colab": {
          "base_uri": "https://localhost:8080/",
          "height": 650
        },
        "id": "xNr6hXIIgTNC",
        "outputId": "1eef1c99-21b3-461d-8990-98160e17e061"
      },
      "execution_count": null,
      "outputs": [
        {
          "output_type": "stream",
          "name": "stdout",
          "text": [
            "It looks like you are running Gradio on a hosted a Jupyter notebook. For the Gradio app to work, sharing must be enabled. Automatically setting `share=True` (you can turn this off by setting `share=False` in `launch()` explicitly).\n",
            "\n",
            "Colab notebook detected. To show errors in colab notebook, set debug=True in launch()\n",
            "* Running on public URL: https://cadd7440734283971a.gradio.live\n",
            "\n",
            "This share link expires in 1 week. For free permanent hosting and GPU upgrades, run `gradio deploy` from the terminal in the working directory to deploy to Hugging Face Spaces (https://huggingface.co/spaces)\n"
          ]
        },
        {
          "output_type": "display_data",
          "data": {
            "text/plain": [
              "<IPython.core.display.HTML object>"
            ],
            "text/html": [
              "<div><iframe src=\"https://cadd7440734283971a.gradio.live\" width=\"100%\" height=\"500\" allow=\"autoplay; camera; microphone; clipboard-read; clipboard-write;\" frameborder=\"0\" allowfullscreen></iframe></div>"
            ]
          },
          "metadata": {}
        },
        {
          "output_type": "execute_result",
          "data": {
            "text/plain": []
          },
          "metadata": {},
          "execution_count": 52
        }
      ]
    },
    {
      "cell_type": "code",
      "source": [],
      "metadata": {
        "id": "Xph3_C1PpEau"
      },
      "execution_count": null,
      "outputs": []
    }
  ]
}
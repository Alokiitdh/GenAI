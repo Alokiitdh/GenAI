{
  "metadata": {
    "kernelspec": {
      "language": "python",
      "display_name": "Python 3",
      "name": "python3"
    },
    "language_info": {
      "name": "python",
      "version": "3.11.11",
      "mimetype": "text/x-python",
      "codemirror_mode": {
        "name": "ipython",
        "version": 3
      },
      "pygments_lexer": "ipython3",
      "nbconvert_exporter": "python",
      "file_extension": ".py"
    },
    "kaggle": {
      "accelerator": "gpu",
      "dataSources": [],
      "dockerImageVersionId": 31011,
      "isInternetEnabled": true,
      "language": "python",
      "sourceType": "notebook",
      "isGpuEnabled": true
    },
    "colab": {
      "name": "Langchain_memory",
      "provenance": []
    }
  },
  "nbformat_minor": 0,
  "nbformat": 4,
  "cells": [
    {
      "cell_type": "markdown",
      "source": [
        "# Installing Dependencies"
      ],
      "metadata": {
        "id": "fJvqULtoWtzY"
      }
    },
    {
      "cell_type": "code",
      "source": [
        "!pip install -q langchain langchain-groq tiktoken"
      ],
      "metadata": {
        "trusted": true,
        "execution": {
          "iopub.status.busy": "2025-05-06T11:20:10.60702Z",
          "iopub.execute_input": "2025-05-06T11:20:10.607659Z",
          "iopub.status.idle": "2025-05-06T11:20:13.693139Z",
          "shell.execute_reply.started": "2025-05-06T11:20:10.607638Z",
          "shell.execute_reply": "2025-05-06T11:20:13.692143Z"
        },
        "id": "s-UCX_KZWtzZ"
      },
      "outputs": [],
      "execution_count": null
    },
    {
      "cell_type": "code",
      "source": [
        "from langchain.memory import ConversationBufferMemory\n",
        "from langchain.memory import ConversationBufferWindowMemory\n",
        "from langchain.memory import ConversationSummaryBufferMemory\n",
        "from langchain.memory import ConversationSummaryMemory\n",
        "\n",
        "from langchain.chains import ConversationChain\n",
        "\n",
        "import time\n",
        "import os\n",
        "import getpass\n"
      ],
      "metadata": {
        "trusted": true,
        "execution": {
          "iopub.status.busy": "2025-05-06T11:20:13.694807Z",
          "iopub.execute_input": "2025-05-06T11:20:13.695041Z",
          "iopub.status.idle": "2025-05-06T11:20:13.69981Z",
          "shell.execute_reply.started": "2025-05-06T11:20:13.69502Z",
          "shell.execute_reply": "2025-05-06T11:20:13.699147Z"
        },
        "id": "qcL2icDWWtzZ"
      },
      "outputs": [],
      "execution_count": null
    },
    {
      "cell_type": "markdown",
      "source": [
        "# Getting API Key-Groq"
      ],
      "metadata": {
        "id": "CuiGuHAnWtza"
      }
    },
    {
      "cell_type": "code",
      "source": [
        "if \"GROQ_API_KEY\" not in os.environ:\n",
        "    os.environ[\"GROQ_API_KEY\"] = getpass.getpass(\"Enter your Groq API key: \")\n"
      ],
      "metadata": {
        "trusted": true,
        "execution": {
          "iopub.status.busy": "2025-05-06T11:20:13.70065Z",
          "iopub.execute_input": "2025-05-06T11:20:13.700967Z",
          "iopub.status.idle": "2025-05-06T11:20:13.71638Z",
          "shell.execute_reply.started": "2025-05-06T11:20:13.700942Z",
          "shell.execute_reply": "2025-05-06T11:20:13.715734Z"
        },
        "id": "audPWLUrWtza"
      },
      "outputs": [],
      "execution_count": null
    },
    {
      "cell_type": "markdown",
      "source": [
        "# LLM Model"
      ],
      "metadata": {
        "id": "SlujQ2EQWtza"
      }
    },
    {
      "cell_type": "code",
      "source": [
        "from langchain_groq import ChatGroq\n",
        "\n",
        "llm = ChatGroq(\n",
        "    model=\"gemma2-9b-it\",  # Can be replace with our preferred model\n",
        "    temperature=0.3\n",
        ")"
      ],
      "metadata": {
        "trusted": true,
        "execution": {
          "iopub.status.busy": "2025-05-06T11:20:13.71779Z",
          "iopub.execute_input": "2025-05-06T11:20:13.718392Z",
          "iopub.status.idle": "2025-05-06T11:20:13.836207Z",
          "shell.execute_reply.started": "2025-05-06T11:20:13.71837Z",
          "shell.execute_reply": "2025-05-06T11:20:13.835731Z"
        },
        "id": "RcM8-QtJWtza"
      },
      "outputs": [],
      "execution_count": null
    },
    {
      "cell_type": "markdown",
      "source": [
        "# Real Time Simulated Conversation(Generated using chat GPT)"
      ],
      "metadata": {
        "id": "E6pP7-f2Wtzb"
      }
    },
    {
      "cell_type": "code",
      "source": [
        "conversation = [\n",
        "    \"Sales Representative (Anita): Good afternoon! This is Anita Sharma from BrightWave Technologies. Am I speaking with Mr. Mehta?\",\n",
        "    \"Client (Mr. Mehta): Yes, this is Mehta. What can I do for you?\",\n",
        "    \"Anita: Thanks for taking the call. I’ll be brief — ... your company, Orion Retail, has a growing logistics operation.\",\n",
        "    \"Mr. Mehta: Hmm. We do have some challenges ... What’s different about your solution?\",\n",
        "    \"Anita: Great question. BrightWave simplifies ... even on mobile.\",\n",
        "    \"Mr. Mehta: Interesting. We use spreadsheets ... gets messy.\",\n",
        "    \"Anita: That’s exactly the problem we address ... instantly.\",\n",
        "    \"Mr. Mehta: That sounds useful. But I imagine the cost must be pretty high...\",\n",
        "    \"Anita: It’s actually quite affordable. ... full support.\",\n",
        "    \"Mr. Mehta: Hmm. We have three warehouses ... next year.\",\n",
        "    \"Anita: Exactly. And the system scales with you ... no disruption.\",\n",
        "    \"Mr. Mehta: That’s good to hear. Training is a concern...\",\n",
        "    \"Anita: We understand that. That’s why we provide ... regional languages.\",\n",
        "    \"Mr. Mehta: Okay. Let’s say we do consider this. Can we test it first?\",\n",
        "    \"Anita: Absolutely. We offer a 14-day free trial ... your own warehouse data.\",\n",
        "    \"Mr. Mehta: That sounds fair. Do I need to install anything?\",\n",
        "    \"Anita: No installation needed — it's 100% cloud-based ... data privacy regulations.\",\n",
        "    \"Mr. Mehta: Alright, let’s set up a demo then. I’d like to loop in my warehouse manager.\",\n",
        "    \"Anita: Perfect. How does Thursday at 11 AM sound?\",\n",
        "    \"Mr. Mehta: That works. Please send me an invite ... material to review beforehand.\",\n",
        "    \"Anita: Will do. I’ll include a brochure ... Looking forward to the session, Mr. Mehta!\",\n",
        "    \"Mr. Mehta: Same here. Thanks, Anita.\",\n",
        "    \"Anita: Thank you. Have a great day!\"\n",
        "]\n"
      ],
      "metadata": {
        "trusted": true,
        "execution": {
          "iopub.status.busy": "2025-05-06T11:20:13.836885Z",
          "iopub.execute_input": "2025-05-06T11:20:13.83708Z",
          "iopub.status.idle": "2025-05-06T11:20:13.841323Z",
          "shell.execute_reply.started": "2025-05-06T11:20:13.837065Z",
          "shell.execute_reply": "2025-05-06T11:20:13.840785Z"
        },
        "id": "gzSYzigpWtzb"
      },
      "outputs": [],
      "execution_count": null
    },
    {
      "cell_type": "markdown",
      "source": [
        "# Langchain Memory Types\n",
        "1. Conversation Buffer Memory\n",
        "2. Conversation Summary Memorry\n",
        "3. Conversation Buffer Memory\n",
        "4. Conversation Summary Buffer Memory"
      ],
      "metadata": {
        "id": "a_nuwx1dWtzb"
      }
    },
    {
      "cell_type": "markdown",
      "source": [
        "we will check the latency of each memory type and the quality of summarization"
      ],
      "metadata": {
        "id": "s-9yYvzQWtzc"
      }
    },
    {
      "cell_type": "markdown",
      "source": [
        "# 1. Conversation Buffer Memory"
      ],
      "metadata": {
        "id": "-K-vfcd4Wtzc"
      }
    },
    {
      "cell_type": "code",
      "source": [
        "memory = ConversationBufferMemory()\n",
        "\n",
        "chain_buf = ConversationChain(llm=llm, memory=memory, verbose=False)\n",
        "start_time = time.perf_counter()\n",
        "\n",
        "# Simulating conversation\n",
        "for dialogue in conversation:\n",
        "    chain_buf.predict(input=dialogue)\n",
        "\n",
        "# Generated from chatgpt\n",
        "summary_prompt = \"\"\"Summarize the following sales conversation in a concise 3 to 4 bullet points.\n",
        "                    Focus on capturing the key aspects such as the product or service being discussed,\n",
        "                    the client’s main concerns, how the sales representative responds,\n",
        "                    and the final outcome or next steps agreed upon\"\"\"\n",
        "\n",
        "summary = chain_buf.predict(input=summary_prompt)\n",
        "\n",
        "end_time = time.perf_counter()\n",
        "\n",
        "time_taken = round(end_time - start_time, 2)  # seconds\n",
        "\n",
        "\n",
        "print(f'Summary: {summary}')\n",
        "print(f'Latency: {time_taken} Seconds')"
      ],
      "metadata": {
        "trusted": true,
        "execution": {
          "iopub.status.busy": "2025-05-06T11:20:13.842049Z",
          "iopub.execute_input": "2025-05-06T11:20:13.842285Z",
          "iopub.status.idle": "2025-05-06T11:22:25.952068Z",
          "shell.execute_reply.started": "2025-05-06T11:20:13.842271Z",
          "shell.execute_reply": "2025-05-06T11:22:25.951468Z"
        },
        "id": "dnUvdtjZWtzc",
        "outputId": "f52b0028-d6b8-409c-d9c7-836ec47fa87c"
      },
      "outputs": [
        {
          "name": "stdout",
          "text": "Summary: Here's a concise summary of the sales conversation:\n\n* **Product/Service:** BrightWave Technologies offers cloud-based cybersecurity solutions.\n* **Client Concerns:** Mr. Mehta, representing Orion Retail, expressed concerns about the cost, complexity of implementation (training), and data privacy implications of adopting a new security solution. \n* **Sales Representative Response:** Anita Sharma addressed these concerns by highlighting the affordability, ease of use (cloud-based, no installation, multilingual support), and robust data security measures of BrightWave. She offered a 14-day free trial and promised tailored demo materials.\n* **Outcome/Next Steps:** Mr. Mehta agreed to a demo scheduled for Thursday at 11 AM, inviting his warehouse manager. Anita will send a calendar invite and relevant materials beforehand. \n\n\n\nLatency: 132.09 Seconds\n",
          "output_type": "stream"
        }
      ],
      "execution_count": null
    },
    {
      "cell_type": "markdown",
      "source": [
        "# 2.  Conversation Summary Memory"
      ],
      "metadata": {
        "id": "jW010l1GWtzc"
      }
    },
    {
      "cell_type": "code",
      "source": [
        "memory = ConversationSummaryMemory(llm=llm,\n",
        "                                   memory_key=\"history\",\n",
        "                                   return_messages=True)\n",
        "\n",
        "chain_sum = ConversationChain(llm=llm, memory=memory, verbose=False)\n",
        "start_time = time.perf_counter()\n",
        "\n",
        "# Simulating conversation\n",
        "for dialogue in conversation:\n",
        "    chain_sum.predict(input=dialogue)\n",
        "\n",
        "# Generated from chatgpt\n",
        "summary_prompt = \"\"\"Summarize the following sales conversation in a concise 3 to 4 bullet points.\n",
        "                    Focus on capturing the key aspects such as the product or service being discussed,\n",
        "                    the client’s main concerns, how the sales representative responds,\n",
        "                    and the final outcome or next steps agreed upon\"\"\"\n",
        "\n",
        "summary = chain_sum.predict(input=summary_prompt)\n",
        "\n",
        "end_time = time.perf_counter()\n",
        "\n",
        "time_taken = round(end_time - start_time, 2)  # seconds\n",
        "\n",
        "\n",
        "print(f'Summary: {summary}')\n",
        "print(f'Latency: {time_taken} Seconds')"
      ],
      "metadata": {
        "trusted": true,
        "execution": {
          "iopub.status.busy": "2025-05-06T11:22:25.952779Z",
          "iopub.execute_input": "2025-05-06T11:22:25.953036Z",
          "iopub.status.idle": "2025-05-06T11:25:15.977689Z",
          "shell.execute_reply.started": "2025-05-06T11:22:25.953013Z",
          "shell.execute_reply": "2025-05-06T11:25:15.97704Z"
        },
        "id": "5Yoh0QQ4Wtzc",
        "outputId": "736fe18a-d5e1-4432-9038-364615aa9ca9"
      },
      "outputs": [
        {
          "name": "stdout",
          "text": "Summary: Here's a concise summary of the conversation:\n\n* **Product/Service:** BrightWave Technologies offers a holistic IT infrastructure solution, specifically tailored for logistics operations, including cloud storage, real-time tracking, automated workflow management, and mobile app integration. \n* **Client's Concerns:** Mr. Mehta, representing Orion Retail, expressed concerns about cost, training, data privacy, and the need to test the platform before committing.\n* **Sales Response:** Anita and the AI addressed each concern by highlighting BrightWave's flexible pricing, comprehensive training programs, industry-standard security and compliance, a free trial period, and cloud-based accessibility. \n* **Next Steps:** Mr. Mehta agreed to a demo of BrightWave Logistics Solutions, including his warehouse manager, scheduled for Thursday at 11 AM. He will receive materials to review beforehand, including an overview, a case study, and a demo video of the mobile app. \n\n\n\nLatency: 170.02 Seconds\n",
          "output_type": "stream"
        }
      ],
      "execution_count": null
    },
    {
      "cell_type": "markdown",
      "source": [
        "# 3. Conversation Buffer Window Memory"
      ],
      "metadata": {
        "id": "O0TB-_mHWtzd"
      }
    },
    {
      "cell_type": "code",
      "source": [
        "memory = ConversationBufferWindowMemory(k = 2)\n",
        "\n",
        "chain_window = ConversationChain(llm=llm, memory=memory, verbose=False)\n",
        "start_time = time.perf_counter()\n",
        "\n",
        "# Simulating conversation\n",
        "for dialogue in conversation:\n",
        "    chain_window.predict(input=dialogue)\n",
        "\n",
        "# Generated from chatgpt\n",
        "summary_prompt = \"\"\"Summarize the following sales conversation in a concise 3 to 4 bullet points.\n",
        "                    Focus on capturing the key aspects such as the product or service being discussed,\n",
        "                    the client’s main concerns, how the sales representative responds,\n",
        "                    and the final outcome or next steps agreed upon\"\"\"\n",
        "\n",
        "summary = chain_window.predict(input=summary_prompt)\n",
        "\n",
        "end_time = time.perf_counter()\n",
        "\n",
        "time_taken = round(end_time - start_time, 2)  # seconds\n",
        "\n",
        "\n",
        "print(f'Summary: {summary}')\n",
        "print(f'Latency: {time_taken} Seconds')"
      ],
      "metadata": {
        "trusted": true,
        "execution": {
          "iopub.status.busy": "2025-05-06T11:25:15.97838Z",
          "iopub.execute_input": "2025-05-06T11:25:15.9786Z",
          "iopub.status.idle": "2025-05-06T11:25:50.006854Z",
          "shell.execute_reply.started": "2025-05-06T11:25:15.978582Z",
          "shell.execute_reply": "2025-05-06T11:25:50.006258Z"
        },
        "id": "vsD7wgh_Wtzd",
        "outputId": "1a42298e-86c7-4587-a4e6-d39e4bfefd37"
      },
      "outputs": [
        {
          "name": "stdout",
          "text": "Summary: Here's a summary of the conversation:\n\n* **Product/Service:**  The conversation implies a sales interaction, likely for a service or product that Anita is interested in. A brochure was mentioned, suggesting it contains details about the offering.\n* **Client Concerns:**  The conversation doesn't explicitly reveal Anita's concerns. \n* **Sales Representative Response:**  The AI, acting as the sales representative, is polite, helpful, and expresses willingness to review the brochure before their next meeting.\n* **Next Steps:** The next step is a meeting scheduled for Thursday. The AI will review the brochure beforehand. \n\n\nLet me know if you'd like me to analyze a longer conversation for more detailed insights! \n\n\nLatency: 34.02 Seconds\n",
          "output_type": "stream"
        }
      ],
      "execution_count": null
    },
    {
      "cell_type": "markdown",
      "source": [
        "# 4. Conversation Summary Buffer Memory"
      ],
      "metadata": {
        "id": "11gJWoroWtzd"
      }
    },
    {
      "cell_type": "code",
      "source": [
        "memory = memory = ConversationBufferWindowMemory(llm=llm,\n",
        "                                    max_token_limit=150)\n",
        "\n",
        "chain_window_buf = ConversationChain(llm=llm, memory=memory, verbose=False)\n",
        "start_time = time.perf_counter()\n",
        "\n",
        "# Simulating conversation\n",
        "for dialogue in conversation:\n",
        "    chain_window_buf.predict(input=dialogue)\n",
        "\n",
        "# Generated from chatgpt\n",
        "summary_prompt = \"\"\"Summarize the following sales conversation in a concise 3 to 4 bullet points.\n",
        "                    Focus on capturing the key aspects such as the product or service being discussed,\n",
        "                    the client’s main concerns, how the sales representative responds,\n",
        "                    and the final outcome or next steps agreed upon\"\"\"\n",
        "\n",
        "summary = chain_window_buf.predict(input=summary_prompt)\n",
        "\n",
        "end_time = time.perf_counter()\n",
        "\n",
        "time_taken = round(end_time - start_time, 2)  # seconds\n",
        "\n",
        "\n",
        "print(f'Summary: {summary}')\n",
        "print(f'Latency: {time_taken} Seconds')"
      ],
      "metadata": {
        "trusted": true,
        "execution": {
          "iopub.status.busy": "2025-05-06T11:25:50.007581Z",
          "iopub.execute_input": "2025-05-06T11:25:50.007855Z",
          "iopub.status.idle": "2025-05-06T11:26:58.156318Z",
          "shell.execute_reply.started": "2025-05-06T11:25:50.007832Z",
          "shell.execute_reply": "2025-05-06T11:26:58.155738Z"
        },
        "id": "S0MVv87RWtzd",
        "outputId": "2598a18c-9c00-4b55-94f2-96128064b6da"
      },
      "outputs": [
        {
          "name": "stdout",
          "text": "Summary: Here's a summary of the conversation:\n\n* **Product/Service:**  Anita is selling a product or service called \"BrightWave\" to Mr. Mehta, who represents a warehouse. \n* **Demo:**  Anita is scheduling a demo of BrightWave for Mr. Mehta and his warehouse manager on Thursday at 11 AM.\n* **Preparation:** Anita will send a calendar invite with introductory materials about BrightWave to help Mr. Mehta and his manager prepare for the demo.\n* **Next Steps:** Mr. Mehta will share a brochure about his warehouse with Anita. They both look forward to the productive demo on Thursday. \n\n\nLet me know if you'd like me to elaborate on any of these points! \n\nLatency: 68.14 Seconds\n",
          "output_type": "stream"
        }
      ],
      "execution_count": null
    }
  ]
}